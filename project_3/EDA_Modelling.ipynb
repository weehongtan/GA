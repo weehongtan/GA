{
 "cells": [
  {
   "cell_type": "code",
   "execution_count": 262,
   "id": "84734e62",
   "metadata": {},
   "outputs": [],
   "source": [
    "# Importing libraries needed for data cleaning, EDA and Modelling\n",
    "import pandas as pd\n",
    "import numpy as np\n",
    "import matplotlib.pyplot as plt\n",
    "import seaborn as sns\n",
    "import re\n",
    "from nltk.corpus import stopwords\n",
    "from nltk.stem import WordNetLemmatizer\n",
    "from sklearn.feature_extraction.text import CountVectorizer, TfidfVectorizer\n",
    "from nltk.sentiment.vader import SentimentIntensityAnalyzer\n",
    "import spacy\n",
    "import scattertext as st\n",
    "from sklearn.model_selection import train_test_split, GridSearchCV, cross_val_score\n",
    "from sklearn.pipeline import Pipeline\n",
    "from sklearn.linear_model import LogisticRegression\n",
    "from sklearn.metrics import confusion_matrix, ConfusionMatrixDisplay, classification_report, plot_roc_curve, roc_auc_score, \\\n",
    "                            accuracy_score, precision_score, recall_score, f1_score, roc_auc_score\n",
    "from sklearn.tree import DecisionTreeClassifier\n",
    "from sklearn.ensemble import RandomForestClassifier, ExtraTreesClassifier, \\\n",
    "                             GradientBoostingClassifier, AdaBoostClassifier, \\\n",
    "                             VotingClassifier\n",
    "from eli5 import show_weights\n",
    "from IPython.display import IFrame"
   ]
  },
  {
   "cell_type": "code",
   "execution_count": 285,
   "id": "b1117fb6",
   "metadata": {},
   "outputs": [],
   "source": [
    "zoom_post = pd.read_csv('.\\data\\zoom_v_bigger.csv')"
   ]
  },
  {
   "cell_type": "code",
   "execution_count": 3,
   "id": "7c02d590",
   "metadata": {},
   "outputs": [],
   "source": [
    "team_post = pd.read_csv('.\\data\\team_v_bigger.csv')"
   ]
  },
  {
   "cell_type": "markdown",
   "id": "7ef063d5",
   "metadata": {},
   "source": [
    "Next, I would like to do some initial analysis on both dataset to get a better understanding.  As the data are mostly unstructured, would have to do fair amount of cleaning.  Once done, I plan to do some sentiment analysis and Ngram analysis."
   ]
  },
  {
   "cell_type": "markdown",
   "id": "9167e3ac",
   "metadata": {},
   "source": [
    "## Initial Analysis"
   ]
  },
  {
   "cell_type": "code",
   "execution_count": 4,
   "id": "332596a5",
   "metadata": {},
   "outputs": [
    {
     "data": {
      "text/html": [
       "<div>\n",
       "<style scoped>\n",
       "    .dataframe tbody tr th:only-of-type {\n",
       "        vertical-align: middle;\n",
       "    }\n",
       "\n",
       "    .dataframe tbody tr th {\n",
       "        vertical-align: top;\n",
       "    }\n",
       "\n",
       "    .dataframe thead th {\n",
       "        text-align: right;\n",
       "    }\n",
       "</style>\n",
       "<table border=\"1\" class=\"dataframe\">\n",
       "  <thead>\n",
       "    <tr style=\"text-align: right;\">\n",
       "      <th></th>\n",
       "      <th>date</th>\n",
       "      <th>title</th>\n",
       "      <th>selftext</th>\n",
       "      <th>is_self</th>\n",
       "      <th>upvotes</th>\n",
       "      <th>upvote_ratio</th>\n",
       "      <th>n_comments</th>\n",
       "      <th>permalink</th>\n",
       "      <th>author</th>\n",
       "    </tr>\n",
       "  </thead>\n",
       "  <tbody>\n",
       "    <tr>\n",
       "      <th>0</th>\n",
       "      <td>2020-04-02 08:17:08</td>\n",
       "      <td>(new) ZOOM Discord got taken down at +500 ppl ...</td>\n",
       "      <td>[https://discord.gg/EfQWuE3](https://discord.g...</td>\n",
       "      <td>1.0</td>\n",
       "      <td>1.0</td>\n",
       "      <td>NaN</td>\n",
       "      <td>0.0</td>\n",
       "      <td>/r/Zoom/comments/ftbzmh/new_zoom_discord_got_t...</td>\n",
       "      <td>Not_Fearr</td>\n",
       "    </tr>\n",
       "    <tr>\n",
       "      <th>1</th>\n",
       "      <td>2020-04-02 08:34:15</td>\n",
       "      <td>JOIN ZOOM DISCORD</td>\n",
       "      <td>[https://discord.gg/EfQWuE3](https://discord.g...</td>\n",
       "      <td>1.0</td>\n",
       "      <td>1.0</td>\n",
       "      <td>NaN</td>\n",
       "      <td>0.0</td>\n",
       "      <td>/r/Zoom/comments/ftca3f/join_zoom_discord/</td>\n",
       "      <td>Not_Fearr</td>\n",
       "    </tr>\n",
       "    <tr>\n",
       "      <th>2</th>\n",
       "      <td>2020-04-02 08:36:03</td>\n",
       "      <td>join zoom discord</td>\n",
       "      <td>[https://discord.gg/EfQWuE3](https://discord.g...</td>\n",
       "      <td>1.0</td>\n",
       "      <td>1.0</td>\n",
       "      <td>NaN</td>\n",
       "      <td>1.0</td>\n",
       "      <td>/r/Zoom/comments/ftcb3a/join_zoom_discord/</td>\n",
       "      <td>Not_Fearr</td>\n",
       "    </tr>\n",
       "    <tr>\n",
       "      <th>3</th>\n",
       "      <td>2020-04-02 08:59:49</td>\n",
       "      <td>How do I use prerecorded footage as my video?</td>\n",
       "      <td>Also does anyone have any good source of front...</td>\n",
       "      <td>1.0</td>\n",
       "      <td>1.0</td>\n",
       "      <td>NaN</td>\n",
       "      <td>7.0</td>\n",
       "      <td>/r/Zoom/comments/ftcp3h/how_do_i_use_prerecord...</td>\n",
       "      <td>Mememan054</td>\n",
       "    </tr>\n",
       "    <tr>\n",
       "      <th>4</th>\n",
       "      <td>2020-04-02 09:13:59</td>\n",
       "      <td>How to separately adjust output audio?</td>\n",
       "      <td>Is there a way to adjust Zoom’s output volume,...</td>\n",
       "      <td>1.0</td>\n",
       "      <td>1.0</td>\n",
       "      <td>NaN</td>\n",
       "      <td>0.0</td>\n",
       "      <td>/r/Zoom/comments/ftcxf0/how_to_separately_adju...</td>\n",
       "      <td>demonroses</td>\n",
       "    </tr>\n",
       "  </tbody>\n",
       "</table>\n",
       "</div>"
      ],
      "text/plain": [
       "                  date                                              title  \\\n",
       "0  2020-04-02 08:17:08  (new) ZOOM Discord got taken down at +500 ppl ...   \n",
       "1  2020-04-02 08:34:15                                  JOIN ZOOM DISCORD   \n",
       "2  2020-04-02 08:36:03                                  join zoom discord   \n",
       "3  2020-04-02 08:59:49      How do I use prerecorded footage as my video?   \n",
       "4  2020-04-02 09:13:59             How to separately adjust output audio?   \n",
       "\n",
       "                                            selftext  is_self  upvotes  \\\n",
       "0  [https://discord.gg/EfQWuE3](https://discord.g...      1.0      1.0   \n",
       "1  [https://discord.gg/EfQWuE3](https://discord.g...      1.0      1.0   \n",
       "2  [https://discord.gg/EfQWuE3](https://discord.g...      1.0      1.0   \n",
       "3  Also does anyone have any good source of front...      1.0      1.0   \n",
       "4  Is there a way to adjust Zoom’s output volume,...      1.0      1.0   \n",
       "\n",
       "   upvote_ratio  n_comments  \\\n",
       "0           NaN         0.0   \n",
       "1           NaN         0.0   \n",
       "2           NaN         1.0   \n",
       "3           NaN         7.0   \n",
       "4           NaN         0.0   \n",
       "\n",
       "                                           permalink      author  \n",
       "0  /r/Zoom/comments/ftbzmh/new_zoom_discord_got_t...   Not_Fearr  \n",
       "1         /r/Zoom/comments/ftca3f/join_zoom_discord/   Not_Fearr  \n",
       "2         /r/Zoom/comments/ftcb3a/join_zoom_discord/   Not_Fearr  \n",
       "3  /r/Zoom/comments/ftcp3h/how_do_i_use_prerecord...  Mememan054  \n",
       "4  /r/Zoom/comments/ftcxf0/how_to_separately_adju...  demonroses  "
      ]
     },
     "execution_count": 4,
     "metadata": {},
     "output_type": "execute_result"
    }
   ],
   "source": [
    "zoom_post.head()"
   ]
  },
  {
   "cell_type": "code",
   "execution_count": 5,
   "id": "501ea9e9",
   "metadata": {},
   "outputs": [
    {
     "data": {
      "text/html": [
       "<div>\n",
       "<style scoped>\n",
       "    .dataframe tbody tr th:only-of-type {\n",
       "        vertical-align: middle;\n",
       "    }\n",
       "\n",
       "    .dataframe tbody tr th {\n",
       "        vertical-align: top;\n",
       "    }\n",
       "\n",
       "    .dataframe thead th {\n",
       "        text-align: right;\n",
       "    }\n",
       "</style>\n",
       "<table border=\"1\" class=\"dataframe\">\n",
       "  <thead>\n",
       "    <tr style=\"text-align: right;\">\n",
       "      <th></th>\n",
       "      <th>is_self</th>\n",
       "      <th>upvotes</th>\n",
       "      <th>upvote_ratio</th>\n",
       "      <th>n_comments</th>\n",
       "    </tr>\n",
       "  </thead>\n",
       "  <tbody>\n",
       "    <tr>\n",
       "      <th>count</th>\n",
       "      <td>10629.000000</td>\n",
       "      <td>10629.000000</td>\n",
       "      <td>8988.000000</td>\n",
       "      <td>10629.000000</td>\n",
       "    </tr>\n",
       "    <tr>\n",
       "      <th>mean</th>\n",
       "      <td>0.857089</td>\n",
       "      <td>1.121460</td>\n",
       "      <td>0.987943</td>\n",
       "      <td>2.590554</td>\n",
       "    </tr>\n",
       "    <tr>\n",
       "      <th>std</th>\n",
       "      <td>0.349998</td>\n",
       "      <td>1.761681</td>\n",
       "      <td>0.073527</td>\n",
       "      <td>5.653827</td>\n",
       "    </tr>\n",
       "    <tr>\n",
       "      <th>min</th>\n",
       "      <td>0.000000</td>\n",
       "      <td>0.000000</td>\n",
       "      <td>0.140000</td>\n",
       "      <td>0.000000</td>\n",
       "    </tr>\n",
       "    <tr>\n",
       "      <th>25%</th>\n",
       "      <td>1.000000</td>\n",
       "      <td>1.000000</td>\n",
       "      <td>1.000000</td>\n",
       "      <td>0.000000</td>\n",
       "    </tr>\n",
       "    <tr>\n",
       "      <th>50%</th>\n",
       "      <td>1.000000</td>\n",
       "      <td>1.000000</td>\n",
       "      <td>1.000000</td>\n",
       "      <td>1.000000</td>\n",
       "    </tr>\n",
       "    <tr>\n",
       "      <th>75%</th>\n",
       "      <td>1.000000</td>\n",
       "      <td>1.000000</td>\n",
       "      <td>1.000000</td>\n",
       "      <td>3.000000</td>\n",
       "    </tr>\n",
       "    <tr>\n",
       "      <th>max</th>\n",
       "      <td>1.000000</td>\n",
       "      <td>85.000000</td>\n",
       "      <td>1.000000</td>\n",
       "      <td>222.000000</td>\n",
       "    </tr>\n",
       "  </tbody>\n",
       "</table>\n",
       "</div>"
      ],
      "text/plain": [
       "            is_self       upvotes  upvote_ratio    n_comments\n",
       "count  10629.000000  10629.000000   8988.000000  10629.000000\n",
       "mean       0.857089      1.121460      0.987943      2.590554\n",
       "std        0.349998      1.761681      0.073527      5.653827\n",
       "min        0.000000      0.000000      0.140000      0.000000\n",
       "25%        1.000000      1.000000      1.000000      0.000000\n",
       "50%        1.000000      1.000000      1.000000      1.000000\n",
       "75%        1.000000      1.000000      1.000000      3.000000\n",
       "max        1.000000     85.000000      1.000000    222.000000"
      ]
     },
     "execution_count": 5,
     "metadata": {},
     "output_type": "execute_result"
    }
   ],
   "source": [
    "zoom_post.describe()"
   ]
  },
  {
   "cell_type": "code",
   "execution_count": 6,
   "id": "c75bf213",
   "metadata": {
    "scrolled": true
   },
   "outputs": [
    {
     "data": {
      "text/html": [
       "<div>\n",
       "<style scoped>\n",
       "    .dataframe tbody tr th:only-of-type {\n",
       "        vertical-align: middle;\n",
       "    }\n",
       "\n",
       "    .dataframe tbody tr th {\n",
       "        vertical-align: top;\n",
       "    }\n",
       "\n",
       "    .dataframe thead th {\n",
       "        text-align: right;\n",
       "    }\n",
       "</style>\n",
       "<table border=\"1\" class=\"dataframe\">\n",
       "  <thead>\n",
       "    <tr style=\"text-align: right;\">\n",
       "      <th></th>\n",
       "      <th>date</th>\n",
       "      <th>title</th>\n",
       "      <th>selftext</th>\n",
       "      <th>is_self</th>\n",
       "      <th>upvotes</th>\n",
       "      <th>upvote_ratio</th>\n",
       "      <th>n_comments</th>\n",
       "      <th>permalink</th>\n",
       "      <th>author</th>\n",
       "    </tr>\n",
       "  </thead>\n",
       "  <tbody>\n",
       "    <tr>\n",
       "      <th>0</th>\n",
       "      <td>2020-04-04 22:26:31</td>\n",
       "      <td>Custom Backgrounds for Teams - A quick hack to...</td>\n",
       "      <td>MSFT just updated my Teams client and now I ca...</td>\n",
       "      <td>1.0</td>\n",
       "      <td>1.0</td>\n",
       "      <td>NaN</td>\n",
       "      <td>46.0</td>\n",
       "      <td>/r/MicrosoftTeams/comments/fuuk72/custom_backg...</td>\n",
       "      <td>Stinxster</td>\n",
       "    </tr>\n",
       "    <tr>\n",
       "      <th>1</th>\n",
       "      <td>2020-04-04 22:43:57</td>\n",
       "      <td>Need Help with MS Teams</td>\n",
       "      <td>I work at a school that is currently using MS ...</td>\n",
       "      <td>1.0</td>\n",
       "      <td>1.0</td>\n",
       "      <td>NaN</td>\n",
       "      <td>13.0</td>\n",
       "      <td>/r/MicrosoftTeams/comments/fuuu31/need_help_wi...</td>\n",
       "      <td>JM30000</td>\n",
       "    </tr>\n",
       "    <tr>\n",
       "      <th>2</th>\n",
       "      <td>2020-04-05 00:26:49</td>\n",
       "      <td>Teams Exploratory License Issue/Question</td>\n",
       "      <td>Hi everyone,\\n\\nNew to Teams here and was able...</td>\n",
       "      <td>1.0</td>\n",
       "      <td>1.0</td>\n",
       "      <td>NaN</td>\n",
       "      <td>5.0</td>\n",
       "      <td>/r/MicrosoftTeams/comments/fuwjv0/teams_explor...</td>\n",
       "      <td>Trooper27</td>\n",
       "    </tr>\n",
       "    <tr>\n",
       "      <th>3</th>\n",
       "      <td>2020-04-05 00:49:06</td>\n",
       "      <td>Is the camera on by default during a meeting c...</td>\n",
       "      <td>Hey there folks! I got into a meeting / video ...</td>\n",
       "      <td>1.0</td>\n",
       "      <td>1.0</td>\n",
       "      <td>NaN</td>\n",
       "      <td>3.0</td>\n",
       "      <td>/r/MicrosoftTeams/comments/fuwxgd/is_the_camer...</td>\n",
       "      <td>hurricane_news</td>\n",
       "    </tr>\n",
       "    <tr>\n",
       "      <th>4</th>\n",
       "      <td>2020-04-05 01:01:56</td>\n",
       "      <td>Screen sharing lag on vpn</td>\n",
       "      <td>Has anyone else noticed some serious lag when ...</td>\n",
       "      <td>1.0</td>\n",
       "      <td>1.0</td>\n",
       "      <td>NaN</td>\n",
       "      <td>4.0</td>\n",
       "      <td>/r/MicrosoftTeams/comments/fux5m4/screen_shari...</td>\n",
       "      <td>Stacehamilton</td>\n",
       "    </tr>\n",
       "  </tbody>\n",
       "</table>\n",
       "</div>"
      ],
      "text/plain": [
       "                  date                                              title  \\\n",
       "0  2020-04-04 22:26:31  Custom Backgrounds for Teams - A quick hack to...   \n",
       "1  2020-04-04 22:43:57                            Need Help with MS Teams   \n",
       "2  2020-04-05 00:26:49           Teams Exploratory License Issue/Question   \n",
       "3  2020-04-05 00:49:06  Is the camera on by default during a meeting c...   \n",
       "4  2020-04-05 01:01:56                          Screen sharing lag on vpn   \n",
       "\n",
       "                                            selftext  is_self  upvotes  \\\n",
       "0  MSFT just updated my Teams client and now I ca...      1.0      1.0   \n",
       "1  I work at a school that is currently using MS ...      1.0      1.0   \n",
       "2  Hi everyone,\\n\\nNew to Teams here and was able...      1.0      1.0   \n",
       "3  Hey there folks! I got into a meeting / video ...      1.0      1.0   \n",
       "4  Has anyone else noticed some serious lag when ...      1.0      1.0   \n",
       "\n",
       "   upvote_ratio  n_comments  \\\n",
       "0           NaN        46.0   \n",
       "1           NaN        13.0   \n",
       "2           NaN         5.0   \n",
       "3           NaN         3.0   \n",
       "4           NaN         4.0   \n",
       "\n",
       "                                           permalink          author  \n",
       "0  /r/MicrosoftTeams/comments/fuuk72/custom_backg...       Stinxster  \n",
       "1  /r/MicrosoftTeams/comments/fuuu31/need_help_wi...         JM30000  \n",
       "2  /r/MicrosoftTeams/comments/fuwjv0/teams_explor...       Trooper27  \n",
       "3  /r/MicrosoftTeams/comments/fuwxgd/is_the_camer...  hurricane_news  \n",
       "4  /r/MicrosoftTeams/comments/fux5m4/screen_shari...   Stacehamilton  "
      ]
     },
     "execution_count": 6,
     "metadata": {},
     "output_type": "execute_result"
    }
   ],
   "source": [
    "team_post.head()"
   ]
  },
  {
   "cell_type": "code",
   "execution_count": 7,
   "id": "e1ef3ca6",
   "metadata": {},
   "outputs": [
    {
     "data": {
      "text/html": [
       "<div>\n",
       "<style scoped>\n",
       "    .dataframe tbody tr th:only-of-type {\n",
       "        vertical-align: middle;\n",
       "    }\n",
       "\n",
       "    .dataframe tbody tr th {\n",
       "        vertical-align: top;\n",
       "    }\n",
       "\n",
       "    .dataframe thead th {\n",
       "        text-align: right;\n",
       "    }\n",
       "</style>\n",
       "<table border=\"1\" class=\"dataframe\">\n",
       "  <thead>\n",
       "    <tr style=\"text-align: right;\">\n",
       "      <th></th>\n",
       "      <th>is_self</th>\n",
       "      <th>upvotes</th>\n",
       "      <th>upvote_ratio</th>\n",
       "      <th>n_comments</th>\n",
       "    </tr>\n",
       "  </thead>\n",
       "  <tbody>\n",
       "    <tr>\n",
       "      <th>count</th>\n",
       "      <td>6912.000000</td>\n",
       "      <td>6912.000000</td>\n",
       "      <td>6347.000000</td>\n",
       "      <td>6912.000000</td>\n",
       "    </tr>\n",
       "    <tr>\n",
       "      <th>mean</th>\n",
       "      <td>0.877749</td>\n",
       "      <td>1.286892</td>\n",
       "      <td>0.982086</td>\n",
       "      <td>4.655237</td>\n",
       "    </tr>\n",
       "    <tr>\n",
       "      <th>std</th>\n",
       "      <td>0.327599</td>\n",
       "      <td>3.071569</td>\n",
       "      <td>0.091009</td>\n",
       "      <td>10.539749</td>\n",
       "    </tr>\n",
       "    <tr>\n",
       "      <th>min</th>\n",
       "      <td>0.000000</td>\n",
       "      <td>0.000000</td>\n",
       "      <td>0.140000</td>\n",
       "      <td>0.000000</td>\n",
       "    </tr>\n",
       "    <tr>\n",
       "      <th>25%</th>\n",
       "      <td>1.000000</td>\n",
       "      <td>1.000000</td>\n",
       "      <td>1.000000</td>\n",
       "      <td>0.000000</td>\n",
       "    </tr>\n",
       "    <tr>\n",
       "      <th>50%</th>\n",
       "      <td>1.000000</td>\n",
       "      <td>1.000000</td>\n",
       "      <td>1.000000</td>\n",
       "      <td>3.000000</td>\n",
       "    </tr>\n",
       "    <tr>\n",
       "      <th>75%</th>\n",
       "      <td>1.000000</td>\n",
       "      <td>1.000000</td>\n",
       "      <td>1.000000</td>\n",
       "      <td>6.000000</td>\n",
       "    </tr>\n",
       "    <tr>\n",
       "      <th>max</th>\n",
       "      <td>1.000000</td>\n",
       "      <td>106.000000</td>\n",
       "      <td>1.000000</td>\n",
       "      <td>666.000000</td>\n",
       "    </tr>\n",
       "  </tbody>\n",
       "</table>\n",
       "</div>"
      ],
      "text/plain": [
       "           is_self      upvotes  upvote_ratio   n_comments\n",
       "count  6912.000000  6912.000000   6347.000000  6912.000000\n",
       "mean      0.877749     1.286892      0.982086     4.655237\n",
       "std       0.327599     3.071569      0.091009    10.539749\n",
       "min       0.000000     0.000000      0.140000     0.000000\n",
       "25%       1.000000     1.000000      1.000000     0.000000\n",
       "50%       1.000000     1.000000      1.000000     3.000000\n",
       "75%       1.000000     1.000000      1.000000     6.000000\n",
       "max       1.000000   106.000000      1.000000   666.000000"
      ]
     },
     "execution_count": 7,
     "metadata": {},
     "output_type": "execute_result"
    }
   ],
   "source": [
    "team_post.describe()"
   ]
  },
  {
   "cell_type": "markdown",
   "id": "69982b03",
   "metadata": {},
   "source": [
    "From the statistics above for both subreddit zoom and team, during the same period, there are almost twice as many post in Zoom as compared to Microsoft Team.  For zoom, there is an average of 2.6 comments per post as compared to 4.7 comments per post.  This could mean many things and probably further analysis into the plot may tell something.  The average upvotes looks \"small\", just 1.28 for team and 1.12 for zoom.  As compared to other subreddit, these looks rather low.  Just in case, as I am a total newbie to Reddit, the definition of upvote could be helpful here.  This probably indicates that both subreddit subscribers could be less \"responsive\" in this aspect.  Shall check on the volume of posting and comments as well next.\n",
    "\"Upvote is a method on the website Reddit by which users can signal their approval or support for a post. Upvotes move a post towards the top of the site, and they are a way to measure how many people approve of the content that is in a post.\"\n",
    "Next, to perform some handling of null values before carrying out further analysis."
   ]
  },
  {
   "cell_type": "code",
   "execution_count": 8,
   "id": "7ec1e916",
   "metadata": {},
   "outputs": [
    {
     "data": {
      "text/plain": [
       "selftext        1545\n",
       "upvote_ratio    1641\n",
       "dtype: int64"
      ]
     },
     "execution_count": 8,
     "metadata": {},
     "output_type": "execute_result"
    }
   ],
   "source": [
    "# Check for null values in both zoom and team posting\n",
    "zoom_post.isnull().sum()[zoom_post.isnull().sum() > 0]"
   ]
  },
  {
   "cell_type": "code",
   "execution_count": 9,
   "id": "870b5a09",
   "metadata": {},
   "outputs": [
    {
     "data": {
      "text/plain": [
       "selftext        1006\n",
       "upvote_ratio     565\n",
       "dtype: int64"
      ]
     },
     "execution_count": 9,
     "metadata": {},
     "output_type": "execute_result"
    }
   ],
   "source": [
    "team_post.isnull().sum()[team_post.isnull().sum() > 0]"
   ]
  },
  {
   "cell_type": "markdown",
   "id": "c19a1d66",
   "metadata": {},
   "source": [
    "For this \"missing or null data\", there is no way we can \"impute\" intelligently for the selftext field.  So, just fill up with blank as it could be really empty with no content for easier analysis later."
   ]
  },
  {
   "cell_type": "code",
   "execution_count": 10,
   "id": "a49b62b0",
   "metadata": {},
   "outputs": [],
   "source": [
    "#  fix the null values for selftext\n",
    "zoom_post['selftext'] = zoom_post['selftext'].fillna('')\n",
    "team_post['selftext'] = team_post['selftext'].fillna('')"
   ]
  },
  {
   "cell_type": "code",
   "execution_count": 11,
   "id": "7703686c",
   "metadata": {},
   "outputs": [
    {
     "data": {
      "text/plain": [
       "upvote_ratio    565\n",
       "dtype: int64"
      ]
     },
     "execution_count": 11,
     "metadata": {},
     "output_type": "execute_result"
    }
   ],
   "source": [
    "team_post.isnull().sum()[team_post.isnull().sum() > 0]"
   ]
  },
  {
   "cell_type": "code",
   "execution_count": 12,
   "id": "e5151e54",
   "metadata": {},
   "outputs": [
    {
     "data": {
      "text/plain": [
       "upvote_ratio    1641\n",
       "dtype: int64"
      ]
     },
     "execution_count": 12,
     "metadata": {},
     "output_type": "execute_result"
    }
   ],
   "source": [
    "zoom_post.isnull().sum()[zoom_post.isnull().sum() > 0]"
   ]
  },
  {
   "cell_type": "code",
   "execution_count": 13,
   "id": "dd6f3a16",
   "metadata": {},
   "outputs": [
    {
     "data": {
      "text/plain": [
       "Zoom                                                          13\n",
       "zoom                                                          11\n",
       "join                                                           9\n",
       "Join                                                           9\n",
       "Audio                                                          8\n",
       "                                                              ..\n",
       "Zoom keeps reconnecting even with a stable wifi connection     1\n",
       "Children's Books?                                              1\n",
       "zoom cutting other sounds                                      1\n",
       "i have the zoom app                                            1\n",
       "How do I do zoom bombing?                                      1\n",
       "Name: title, Length: 2359, dtype: int64"
      ]
     },
     "execution_count": 13,
     "metadata": {},
     "output_type": "execute_result"
    }
   ],
   "source": [
    "# Check for any duplicates information in both posting\n",
    "dup_zoom = zoom_post[(zoom_post.duplicated(subset=['selftext'])) & (zoom_post['selftext'] != '')] \\\n",
    "                .sort_values(ascending=False, by='selftext') \\\n",
    "                ['title'].value_counts()\n",
    "\n",
    "dup_zoom"
   ]
  },
  {
   "cell_type": "code",
   "execution_count": 14,
   "id": "08f327d4",
   "metadata": {},
   "outputs": [],
   "source": [
    "zoom_post = zoom_post.drop_duplicates(subset=['title'])"
   ]
  },
  {
   "cell_type": "code",
   "execution_count": 15,
   "id": "077c853e",
   "metadata": {},
   "outputs": [
    {
     "data": {
      "text/plain": [
       "Zoom won't let me share screen or use chat                              1\n",
       "Join my zoom room to hang out and watch Little House on the Prairie!    1\n",
       "Where does Zoom Live Streaming Come From?                               1\n",
       "Unable to use any virtual backgrounds or new filters/backgrounds        1\n",
       "is there a way to disable my ability to unmute myself ?                 1\n",
       "                                                                       ..\n",
       "zoom cutting other sounds                                               1\n",
       "Children's Books?                                                       1\n",
       "Zoom keeps reconnecting even with a stable wifi connection              1\n",
       "Fix for poor microphone sound?                                          1\n",
       "How do I do zoom bombing?                                               1\n",
       "Name: title, Length: 2302, dtype: int64"
      ]
     },
     "execution_count": 15,
     "metadata": {},
     "output_type": "execute_result"
    }
   ],
   "source": [
    "# Check zoom again\n",
    "dup_zoom = zoom_post[(zoom_post.duplicated(subset=['selftext'])) & (zoom_post['selftext'] != '')] \\\n",
    "                .sort_values(ascending=False, by='selftext') \\\n",
    "                ['title'].value_counts()\n",
    "\n",
    "dup_zoom"
   ]
  },
  {
   "cell_type": "code",
   "execution_count": 16,
   "id": "67e363e2",
   "metadata": {},
   "outputs": [
    {
     "data": {
      "text/plain": [
       "FUCK YOU                                                                       3\n",
       "Question...                                                                    3\n",
       "iOS: Disabled notification category not working                                3\n",
       "Transitioning from Skype for Business Hybrid to MS Teams (Pure Online)         2\n",
       "Create Teams Meeting Apps with Power Apps                                      2\n",
       "                                                                              ..\n",
       "join                                                                           1\n",
       "Teams MVP here to help!                                                        1\n",
       "Can a new team member view all conversation history in the General channel?    1\n",
       "Using OBS audio via Teams                                                      1\n",
       "Teams invite from shared mailbox with no call-in info                          1\n",
       "Name: title, Length: 568, dtype: int64"
      ]
     },
     "execution_count": 16,
     "metadata": {},
     "output_type": "execute_result"
    }
   ],
   "source": [
    "# Check for any duplicates information in team now\n",
    "dup_team = team_post[(team_post.duplicated(subset=['selftext'])) & (team_post['selftext'] != '')] \\\n",
    "                .sort_values(ascending=False, by='selftext') \\\n",
    "                ['title'].value_counts()\n",
    "\n",
    "dup_team"
   ]
  },
  {
   "cell_type": "markdown",
   "id": "40c0b9d1",
   "metadata": {},
   "source": [
    "Some duplicates in Microsoft Team post and contain vulgar wordings...  Would be interesting look into the sentiment analysis comparison for both subreddit later and also leveraging on ScatterText features to understand better..."
   ]
  },
  {
   "cell_type": "code",
   "execution_count": 17,
   "id": "a4161a9f",
   "metadata": {},
   "outputs": [],
   "source": [
    "team_post = team_post.drop_duplicates(subset=['title'])"
   ]
  },
  {
   "cell_type": "code",
   "execution_count": 18,
   "id": "9c18f725",
   "metadata": {},
   "outputs": [
    {
     "data": {
      "text/plain": [
       "Assignment Submission                                                                 1\n",
       "аааааааааа                                                                            1\n",
       "How can I delete lists in planner                                                     1\n",
       "Turn off \"Your teammates are trying to reach you\" notifications on Microsoft Teams    1\n",
       "I cant turn off the screen on mobile while in meeting                                 1\n",
       "                                                                                     ..\n",
       "Assignment Tab.......                                                                 1\n",
       "Monitoring                                                                            1\n",
       "Is it possible to have a Microsoft teams test                                         1\n",
       "Demonstration on how to use Virtual Backgrounds in Microsoft Teams                    1\n",
       "Teams invite from shared mailbox with no call-in info                                 1\n",
       "Name: title, Length: 550, dtype: int64"
      ]
     },
     "execution_count": 18,
     "metadata": {},
     "output_type": "execute_result"
    }
   ],
   "source": [
    "dup_team = team_post[(team_post.duplicated(subset=['selftext'])) & (team_post['selftext'] != '')] \\\n",
    "                .sort_values(ascending=False, by='selftext') \\\n",
    "                ['title'].value_counts()\n",
    "\n",
    "dup_team"
   ]
  },
  {
   "cell_type": "markdown",
   "id": "32b9baf2",
   "metadata": {},
   "source": [
    "To do further analysis on the words frequency and others, next is to clean out any unwanted \"http links\" and non alpha-numeric characters which may be non-relevant."
   ]
  },
  {
   "cell_type": "markdown",
   "id": "b5d9200b",
   "metadata": {},
   "source": [
    "## Data Cleaning"
   ]
  },
  {
   "cell_type": "markdown",
   "id": "2c4b2770",
   "metadata": {},
   "source": [
    "As this portion of the codes involves alot of string processing and also some knowledge of Reddit data structure, I was able to leverage on the codes and also the material from this book, Blueprints for Text Analytics Using Python: Machine Learning-Based Solutions for Common Real World (NLP) Applications to finish section of data cleanning.  Highly indebted to the adults for giving me a better understanding to the world of NLP and text processing.  I have attached here to recommend the book to any newbies (still is) like myself.\n",
    "![](image/book.png)"
   ]
  },
  {
   "cell_type": "code",
   "execution_count": 19,
   "id": "a09b7355",
   "metadata": {},
   "outputs": [],
   "source": [
    "# drop any url links related as the links information aren't something I am interested to understand and analyze further. \n",
    "# main focus will be on the title and selftext\n",
    "def drop_links(text):\n",
    "    words = text.split(' ')\n",
    "    words_to_sub = [w for w in words if 'http' in w]\n",
    "    \n",
    "    if words_to_sub:\n",
    "        for w in words_to_sub:\n",
    "            new_word = re.sub('http.*', '', w)\n",
    "            text = re.sub(w, new_word, text)\n",
    "        return text\n",
    "    return text"
   ]
  },
  {
   "cell_type": "code",
   "execution_count": 20,
   "id": "caed7991",
   "metadata": {},
   "outputs": [],
   "source": [
    "def preprocessing(text):\n",
    "            \n",
    "    # Remove new lines\n",
    "    text = text.replace('\\n',' ').lower()\n",
    "    \n",
    "    # Remove emoticons\n",
    "    text = re.sub(':d', '', str(text)).strip()\n",
    "    text = re.sub(':p', '', str(text)).strip()\n",
    "    \n",
    "    # Remove HTML markers and punctuation\n",
    "    text = re.sub('xa0', '', str(text)).strip()\n",
    "    text = re.sub('x200b', '', str(text)).strip()\n",
    "    text = re.sub('[^a-zA-Z\\s]', '', str(text)).strip() \n",
    "    \n",
    "    return text"
   ]
  },
  {
   "cell_type": "code",
   "execution_count": 21,
   "id": "cb9385ae",
   "metadata": {},
   "outputs": [],
   "source": [
    "stop_word_set = set(CountVectorizer(stop_words = 'english').get_stop_words())\n",
    "\n",
    "def lemmatize(text):\n",
    "    # Change each word to a string to prepare for lemmatization\n",
    "    words = text.split(' ')\n",
    "    \n",
    "    # Lemmatize words.\n",
    "    lemmatizer = WordNetLemmatizer()\n",
    "    meaningful_words = [lemmatizer.lemmatize(w) for w in words if not w in stop_word_set]\n",
    "    \n",
    "    return(\" \".join(meaningful_words))"
   ]
  },
  {
   "cell_type": "code",
   "execution_count": 22,
   "id": "d8e03c2e",
   "metadata": {},
   "outputs": [],
   "source": [
    "# Removing new lines, removing punctuation and tokenizing text \n",
    "zoom_post['title_clean'] = zoom_post['title'].apply(preprocessing)\n",
    "zoom_post['selftext_clean'] = zoom_post['selftext'].apply(preprocessing)\n",
    "team_post['title_clean'] = team_post['title'].apply(preprocessing)\n",
    "team_post['selftext_clean'] = team_post['selftext'].apply(preprocessing)"
   ]
  },
  {
   "cell_type": "code",
   "execution_count": 23,
   "id": "c3b7470e",
   "metadata": {},
   "outputs": [],
   "source": [
    "# Dropping links\n",
    "zoom_post['selftext_clean'] = zoom_post['selftext_clean'].apply(drop_links)\n",
    "team_post['selftext_clean'] = team_post['selftext_clean'].apply(drop_links)"
   ]
  },
  {
   "cell_type": "code",
   "execution_count": 24,
   "id": "ed55ff66",
   "metadata": {},
   "outputs": [],
   "source": [
    "# Combining title and selftext\n",
    "zoom_post['title_selftext'] = zoom_post['title_clean'] + ' ' + zoom_post['selftext_clean']\n",
    "team_post['title_selftext'] = team_post['title_clean'] + ' ' + team_post['selftext_clean']"
   ]
  },
  {
   "cell_type": "code",
   "execution_count": 25,
   "id": "95f55119",
   "metadata": {},
   "outputs": [],
   "source": [
    "# Lemmatizing text\n",
    "zoom_post['lem_title'] = zoom_post['title_clean'].apply(lemmatize, True)\n",
    "zoom_post['lem_selftext'] = zoom_post['selftext_clean'].apply(lemmatize, True)\n",
    "zoom_post['lem_title_selftext'] = zoom_post['lem_title'] + ' ' + zoom_post['lem_selftext']\n",
    "team_post['lem_title'] = team_post['title_clean'].apply(lemmatize, True)\n",
    "team_post['lem_selftext'] = team_post['selftext_clean'].apply(lemmatize, True)\n",
    "team_post['lem_title_selftext'] = team_post['lem_title'] + ' ' + team_post['lem_selftext']"
   ]
  },
  {
   "cell_type": "code",
   "execution_count": 26,
   "id": "870dda89",
   "metadata": {},
   "outputs": [
    {
     "name": "stdout",
     "output_type": "stream",
     "text": [
      "need help with ms teams i work at a school that is currently using ms teams for remote learning  however i dont have an email account with the school district  only my personal account   can i still obtain a ms teams account and join my campus ms teams group using my yahoo email  is this possible \n",
      "\n",
      "need help m team work school currently using m team remote learning  dont email account school district  personal account   obtain m team account join campus m team group using yahoo email  possible\n"
     ]
    }
   ],
   "source": [
    "# Comparing lemmatized vs regular text \n",
    "# We can see that a lot of nuance within the post has been lost after lemmatization and removal of stop words\n",
    "print(team_post['title_selftext'][1], '\\n')\n",
    "print(team_post['lem_title_selftext'][1])"
   ]
  },
  {
   "cell_type": "markdown",
   "id": "bbd75304",
   "metadata": {},
   "source": [
    "Now do some analysis on the words count as well as some distribution to have better understanding of both posting:"
   ]
  },
  {
   "cell_type": "code",
   "execution_count": 242,
   "id": "e5a9fa97",
   "metadata": {},
   "outputs": [],
   "source": [
    "zoom_post['selftext_word_count'] = zoom_post['selftext_clean'].map(lambda x: len(x.split()))"
   ]
  },
  {
   "cell_type": "code",
   "execution_count": 243,
   "id": "3d1f73b4",
   "metadata": {},
   "outputs": [
    {
     "name": "stderr",
     "output_type": "stream",
     "text": [
      "C:\\Users\\weeho\\anaconda3\\lib\\site-packages\\seaborn\\distributions.py:2557: FutureWarning: `distplot` is a deprecated function and will be removed in a future version. Please adapt your code to use either `displot` (a figure-level function with similar flexibility) or `histplot` (an axes-level function for histograms).\n",
      "  warnings.warn(msg, FutureWarning)\n"
     ]
    },
    {
     "data": {
      "text/plain": [
       "<AxesSubplot:xlabel='selftext_word_count'>"
      ]
     },
     "execution_count": 243,
     "metadata": {},
     "output_type": "execute_result"
    },
    {
     "data": {
      "image/png": "[encoded data removed]",
      "text/plain": [
       "<Figure size 432x288 with 1 Axes>"
      ]
     },
     "metadata": {
      "needs_background": "light"
     },
     "output_type": "display_data"
    }
   ],
   "source": [
    "sns.distplot(zoom_post['selftext_word_count'], kde=False)"
   ]
  },
  {
   "cell_type": "code",
   "execution_count": 244,
   "id": "99bf79b6",
   "metadata": {},
   "outputs": [],
   "source": [
    "team_post['selftext_word_count'] = team_post['selftext_clean'].map(lambda x: len(x.split()))"
   ]
  },
  {
   "cell_type": "code",
   "execution_count": 245,
   "id": "fc405423",
   "metadata": {},
   "outputs": [
    {
     "data": {
      "text/plain": [
       "<AxesSubplot:xlabel='selftext_word_count'>"
      ]
     },
     "execution_count": 245,
     "metadata": {},
     "output_type": "execute_result"
    },
    {
     "data": {
      "image/png": "[encoded data removed]",
      "text/plain": [
       "<Figure size 432x288 with 1 Axes>"
      ]
     },
     "metadata": {
      "needs_background": "light"
     },
     "output_type": "display_data"
    }
   ],
   "source": [
    "sns.distplot(team_post['selftext_word_count'], kde=False)"
   ]
  },
  {
   "cell_type": "markdown",
   "id": "7b00bd0c",
   "metadata": {},
   "source": [
    "Observation: From the distribution, we can see that zoom subreddit do have some cases whereby the words count are higher (probably some outlier) as compared to team and both exhibit similar distribution having most of the selftext words count shorter and trending towards lesser occurence for higher words count.  From the analysis so far, I think it is safe to conclude most of the subscribers are likely using both subreddit for issues resolution and others, rather than using it as a platform for intense ideas exchanges, as can be observed in the upvote analysis and also the selftext words count (less chatty)."
   ]
  },
  {
   "cell_type": "markdown",
   "id": "f971dda1",
   "metadata": {},
   "source": [
    "Next, in order to analyze the content within each subreddit, bag-of-words approach has been taken whereby each word is tokenized and counted according to how often the word appears in a post.\n",
    "Contextual information are surely lost with this simple approach as the model is only concerned with whether known words occur in the document, not where in the document. \n",
    "To achieve this, sklearn tool CountVectorizer() will be used."
   ]
  },
  {
   "cell_type": "code",
   "execution_count": 282,
   "id": "8b85485b",
   "metadata": {},
   "outputs": [],
   "source": [
    "zoom_post['datetime'] = pd.to_datetime(zoom_post['date'])\n",
    "zoom_post['conv_date'] = zoom_post['datetime'].apply(lambda x: x.date())"
   ]
  },
  {
   "cell_type": "code",
   "execution_count": 283,
   "id": "9ca80f6a",
   "metadata": {},
   "outputs": [],
   "source": [
    "team_post['datetime'] = pd.to_datetime(team_post['date'])\n",
    "team_post['conv_date'] = team_post['datetime'].apply(lambda x: x.date())"
   ]
  },
  {
   "cell_type": "code",
   "execution_count": 284,
   "id": "3ff9e76f",
   "metadata": {},
   "outputs": [
    {
     "data": {
      "image/png": "[encoded data removed]",
      "text/plain": [
       "<Figure size 1152x576 with 1 Axes>"
      ]
     },
     "metadata": {
      "needs_background": "light"
     },
     "output_type": "display_data"
    }
   ],
   "source": [
    "fig, ax = plt.subplots(1, 1, figsize=(16,8))\n",
    "zoom_post['conv_date'].value_counts().plot()\n",
    "team_post['conv_date'].value_counts().plot()\n",
    "plt.xlabel('Date')\n",
    "plt.ylabel('Number of Posts')\n",
    "plt.title('Overall Post Volume', fontsize=18)\n",
    "legend = plt.legend(title='Subreddit', loc='best', labels=['r/Zoom', 'r/MicrosoftTeams'], fontsize=12)\n",
    "legend.get_title().set_fontsize('12')"
   ]
  },
  {
   "cell_type": "markdown",
   "id": "247e2b2c",
   "metadata": {},
   "source": [
    "From volume perspective (for the dataset collection period), zoom posting has some spike in year 2020 May which is the onset of COVID and also in month September.  This looks logical as most organization, my own one as well, start moving into Zoom for teleconferencing."
   ]
  },
  {
   "cell_type": "code",
   "execution_count": 246,
   "id": "b9cee4c8",
   "metadata": {},
   "outputs": [],
   "source": [
    "# Functions to get top words, thanks to the book\n",
    "def plot_top_words(df, col, n, n_gram_range, title, palette='tab10'):\n",
    "    def get_top_n_words(corpus, n=n, k=n_gram_range):     \n",
    "        vec = CountVectorizer(ngram_range=(k,k), stop_words='english').fit(corpus)     \n",
    "        bag_of_words = vec.transform(corpus)     \n",
    "        sum_words = bag_of_words.sum(axis=0)      \n",
    "        words_freq = [(word, sum_words[0, idx]) for word, idx in vec.vocabulary_.items()]    \n",
    "        words_freq =sorted(words_freq, key = lambda x: x[1], reverse=True) \n",
    "        return words_freq[:n]\n",
    "    temp_df = pd.DataFrame(data=get_top_n_words(df[col], n), columns=['word','freq'])\n",
    "    plt.figure(figsize=(10,6))\n",
    "    sns.barplot(data=temp_df, y='word', x='freq', palette=palette)\n",
    "    plt.ylabel('Words')\n",
    "    plt.xlabel('Count of Words')\n",
    "    plt.title(title, fontsize=18)"
   ]
  },
  {
   "cell_type": "code",
   "execution_count": 247,
   "id": "a664a695",
   "metadata": {},
   "outputs": [
    {
     "data": {
      "image/png": "[encoded data removed]",
      "text/plain": [
       "<Figure size 720x432 with 1 Axes>"
      ]
     },
     "metadata": {
      "needs_background": "light"
     },
     "output_type": "display_data"
    }
   ],
   "source": [
    "plot_top_words(zoom_post,'title_clean', 20, 1, 'r/Zoom Top 20 Words', 'Blues_r')"
   ]
  },
  {
   "cell_type": "markdown",
   "id": "3790ae65",
   "metadata": {},
   "source": [
    "Not surprising to see some of these familiar words showing up as top 20 words like zoom (no-brainer), meeting, video and etc.  For the purpose of our problem-statement, some of these keywords are really useful and could be use subsequently not only for classification purpose but also helpful in our analysis, representing Zoom, to better understand the sentiment and user experiences using Zoom as a platform.  For example, seeing the word \"video\" showing up frequently, does it mean most user are having issues or conversely positive experiences working with Zoom video facility."
   ]
  },
  {
   "cell_type": "code",
   "execution_count": 248,
   "id": "66abeed4",
   "metadata": {},
   "outputs": [
    {
     "data": {
      "image/png": "[encoded data removed]",
      "text/plain": [
       "<Figure size 720x432 with 1 Axes>"
      ]
     },
     "metadata": {
      "needs_background": "light"
     },
     "output_type": "display_data"
    }
   ],
   "source": [
    "plot_top_words(team_post, 'title_clean', 20, 1, 'r/MicrosoftTeams Top 20 Words', 'OrRd_r')"
   ]
  },
  {
   "cell_type": "markdown",
   "id": "a97594f7",
   "metadata": {},
   "source": [
    "Similarly, the words trend exhibit similar pattern as zoom posting but with some differences to the words showing up.  For example, \"chat\" seems to appear frequently and show up top here, versus zoom related posting which do not make it to the list.  Further analysis as such could be done leveraging later using Scattertext which personally I felt to be really powerful."
   ]
  },
  {
   "cell_type": "code",
   "execution_count": 249,
   "id": "124c526f",
   "metadata": {},
   "outputs": [
    {
     "data": {
      "image/png": "[encoded data removed]",
      "text/plain": [
       "<Figure size 720x432 with 1 Axes>"
      ]
     },
     "metadata": {
      "needs_background": "light"
     },
     "output_type": "display_data"
    }
   ],
   "source": [
    "plot_top_words(zoom_post,'selftext_clean', 20, 3, 'r/Zoom Top 20 Trigrams in SelfText', 'Blues_r')"
   ]
  },
  {
   "cell_type": "markdown",
   "id": "19748995",
   "metadata": {},
   "source": [
    "This certainly gives more context as compared to the single words and beside the frequency of the trigram showing up, not much insight we can derive here."
   ]
  },
  {
   "cell_type": "code",
   "execution_count": 250,
   "id": "135c45c9",
   "metadata": {},
   "outputs": [
    {
     "data": {
      "image/png": "[encoded data removed]",
      "text/plain": [
       "<Figure size 720x432 with 1 Axes>"
      ]
     },
     "metadata": {
      "needs_background": "light"
     },
     "output_type": "display_data"
    }
   ],
   "source": [
    "plot_top_words(team_post,'selftext_clean', 20, 3, 'r/MicrosoftTeams Top 20 Trigrams in SelfText', 'OrRd_r')"
   ]
  },
  {
   "cell_type": "markdown",
   "id": "d393b93f",
   "metadata": {},
   "source": [
    "Next, I just want to understand a bit more about some of the \"user behaviour\" on both subreddit by looking into upvotes and comments."
   ]
  },
  {
   "cell_type": "code",
   "execution_count": 32,
   "id": "f5f410d9",
   "metadata": {},
   "outputs": [
    {
     "data": {
      "image/png": "[encoded data removed]",
      "text/plain": [
       "<Figure size 864x432 with 2 Axes>"
      ]
     },
     "metadata": {
      "needs_background": "light"
     },
     "output_type": "display_data"
    }
   ],
   "source": [
    "fig, ax = plt.subplots(1, 2, figsize=(12,6), sharey=True)\n",
    "ax = ax.ravel()\n",
    "g1 = sns.histplot(data=zoom_post, x='upvotes', ax = ax[0], bins=20, color='tab:blue')\n",
    "mean_1 = zoom_post['upvotes'].mean()\n",
    "g1.set_title(f'r/Zoom (Mean: {round(mean_1)} upvotes)')\n",
    "ax[0].axvline(mean_1, ls='--', color='black')\n",
    "g2 = sns.histplot(data=team_post, x='upvotes', ax = ax[1], bins=20, color='firebrick')\n",
    "mean_2 = team_post['upvotes'].mean()\n",
    "g2.set_title(f'r/MicrosoftTeams (Mean: {round(mean_2)} upvotes)')\n",
    "ax[1].axvline(mean_2, ls='--', color='black')\n",
    "plt.suptitle('Upvotes', fontsize=20)\n",
    "plt.tight_layout()"
   ]
  },
  {
   "cell_type": "markdown",
   "id": "60d3a68b",
   "metadata": {},
   "source": [
    "This plot largely concur with the above initial analysis that both subreddit on average is low on \"upvote\" with some exception that attracts more, as confirmed easily below with a simple filter on zoom_post."
   ]
  },
  {
   "cell_type": "code",
   "execution_count": 253,
   "id": "2164771b",
   "metadata": {},
   "outputs": [
    {
     "data": {
      "text/html": [
       "<div>\n",
       "<style scoped>\n",
       "    .dataframe tbody tr th:only-of-type {\n",
       "        vertical-align: middle;\n",
       "    }\n",
       "\n",
       "    .dataframe tbody tr th {\n",
       "        vertical-align: top;\n",
       "    }\n",
       "\n",
       "    .dataframe thead th {\n",
       "        text-align: right;\n",
       "    }\n",
       "</style>\n",
       "<table border=\"1\" class=\"dataframe\">\n",
       "  <thead>\n",
       "    <tr style=\"text-align: right;\">\n",
       "      <th></th>\n",
       "      <th>date</th>\n",
       "      <th>title</th>\n",
       "      <th>selftext</th>\n",
       "      <th>is_self</th>\n",
       "      <th>upvotes</th>\n",
       "      <th>upvote_ratio</th>\n",
       "      <th>n_comments</th>\n",
       "      <th>permalink</th>\n",
       "      <th>author</th>\n",
       "      <th>title_clean</th>\n",
       "      <th>selftext_clean</th>\n",
       "      <th>title_selftext</th>\n",
       "      <th>lem_title</th>\n",
       "      <th>lem_selftext</th>\n",
       "      <th>lem_title_selftext</th>\n",
       "      <th>is_zoom</th>\n",
       "      <th>selftext_word_count</th>\n",
       "    </tr>\n",
       "  </thead>\n",
       "  <tbody>\n",
       "    <tr>\n",
       "      <th>7152</th>\n",
       "      <td>2020-11-16 06:47:00</td>\n",
       "      <td>Made my first Zoom background</td>\n",
       "      <td></td>\n",
       "      <td>0.0</td>\n",
       "      <td>62.0</td>\n",
       "      <td>0.94</td>\n",
       "      <td>13.0</td>\n",
       "      <td>/r/Zoom/comments/juva3r/made_my_first_zoom_bac...</td>\n",
       "      <td>floon</td>\n",
       "      <td>made my first zoom background</td>\n",
       "      <td></td>\n",
       "      <td>made my first zoom background</td>\n",
       "      <td>zoom background</td>\n",
       "      <td></td>\n",
       "      <td>zoom background</td>\n",
       "      <td>1</td>\n",
       "      <td>0</td>\n",
       "    </tr>\n",
       "    <tr>\n",
       "      <th>9572</th>\n",
       "      <td>2021-02-04 06:54:52</td>\n",
       "      <td>Great comic...</td>\n",
       "      <td></td>\n",
       "      <td>0.0</td>\n",
       "      <td>85.0</td>\n",
       "      <td>0.93</td>\n",
       "      <td>7.0</td>\n",
       "      <td>/r/Zoom/comments/lc0rtm/great_comic/</td>\n",
       "      <td>ggroverggiraffe</td>\n",
       "      <td>great comic</td>\n",
       "      <td></td>\n",
       "      <td>great comic</td>\n",
       "      <td>great comic</td>\n",
       "      <td></td>\n",
       "      <td>great comic</td>\n",
       "      <td>1</td>\n",
       "      <td>0</td>\n",
       "    </tr>\n",
       "  </tbody>\n",
       "</table>\n",
       "</div>"
      ],
      "text/plain": [
       "                     date                          title selftext  is_self  \\\n",
       "7152  2020-11-16 06:47:00  Made my first Zoom background               0.0   \n",
       "9572  2021-02-04 06:54:52                 Great comic...               0.0   \n",
       "\n",
       "      upvotes  upvote_ratio  n_comments  \\\n",
       "7152     62.0          0.94        13.0   \n",
       "9572     85.0          0.93         7.0   \n",
       "\n",
       "                                              permalink           author  \\\n",
       "7152  /r/Zoom/comments/juva3r/made_my_first_zoom_bac...            floon   \n",
       "9572               /r/Zoom/comments/lc0rtm/great_comic/  ggroverggiraffe   \n",
       "\n",
       "                        title_clean selftext_clean  \\\n",
       "7152  made my first zoom background                  \n",
       "9572                    great comic                  \n",
       "\n",
       "                      title_selftext        lem_title lem_selftext  \\\n",
       "7152  made my first zoom background   zoom background                \n",
       "9572                    great comic       great comic                \n",
       "\n",
       "     lem_title_selftext  is_zoom  selftext_word_count  \n",
       "7152   zoom background         1                    0  \n",
       "9572       great comic         1                    0  "
      ]
     },
     "execution_count": 253,
     "metadata": {},
     "output_type": "execute_result"
    }
   ],
   "source": [
    "zoom_post[zoom_post['upvotes'] > 60]"
   ]
  },
  {
   "cell_type": "code",
   "execution_count": 33,
   "id": "2772871a",
   "metadata": {},
   "outputs": [
    {
     "data": {
      "image/png": "[encoded data removed]",
      "text/plain": [
       "<Figure size 864x432 with 2 Axes>"
      ]
     },
     "metadata": {
      "needs_background": "light"
     },
     "output_type": "display_data"
    }
   ],
   "source": [
    "fig, ax = plt.subplots(1, 2, figsize=(12,6), sharey=True)\n",
    "ax = ax.ravel()\n",
    "mean_1 = zoom_post['n_comments'].mean()\n",
    "g1 = sns.histplot(data=zoom_post, x='n_comments', ax = ax[0], bins=25, color='tab:blue')\n",
    "g1.set_title(f'r/Zoompost (Mean: {round(mean_1)} comments)')\n",
    "ax[0].axvline(mean_1, ls='--', color='black')\n",
    "mean_2 = team_post['n_comments'].mean()\n",
    "g2 = sns.histplot(data=team_post, x='n_comments', ax = ax[1], bins=25, color='firebrick')\n",
    "g2.set_title(f'r/MicrosoftTeams (Mean: {round(mean_2)} comments)')\n",
    "ax[1].axvline(mean_2, ls='--', color='black')\n",
    "plt.suptitle('Number of Comments', fontsize=20)\n",
    "plt.tight_layout()"
   ]
  },
  {
   "cell_type": "markdown",
   "id": "a5cda6ef",
   "metadata": {},
   "source": [
    "At least from the average comments, it seems that the Team subreddit is \"more active\". Just in case, the attribute definition of n_comments (Push API attribute is num_comments) indicates the number of comments on the submission.  Next, is to set up respective dataframe to prepare for modelling as well as some good sentiment analysis."
   ]
  },
  {
   "cell_type": "code",
   "execution_count": 34,
   "id": "9fc1c4be",
   "metadata": {},
   "outputs": [],
   "source": [
    "# Setting up target column to indicate if zoom or team\n",
    "zoom_post['is_zoom'] = 1\n",
    "team_post['is_zoom'] = 0"
   ]
  },
  {
   "cell_type": "code",
   "execution_count": 35,
   "id": "6b8d265a",
   "metadata": {},
   "outputs": [
    {
     "data": {
      "text/html": [
       "<div>\n",
       "<style scoped>\n",
       "    .dataframe tbody tr th:only-of-type {\n",
       "        vertical-align: middle;\n",
       "    }\n",
       "\n",
       "    .dataframe tbody tr th {\n",
       "        vertical-align: top;\n",
       "    }\n",
       "\n",
       "    .dataframe thead th {\n",
       "        text-align: right;\n",
       "    }\n",
       "</style>\n",
       "<table border=\"1\" class=\"dataframe\">\n",
       "  <thead>\n",
       "    <tr style=\"text-align: right;\">\n",
       "      <th></th>\n",
       "      <th>date</th>\n",
       "      <th>title</th>\n",
       "      <th>selftext</th>\n",
       "      <th>is_self</th>\n",
       "      <th>upvotes</th>\n",
       "      <th>upvote_ratio</th>\n",
       "      <th>n_comments</th>\n",
       "      <th>permalink</th>\n",
       "      <th>author</th>\n",
       "      <th>title_clean</th>\n",
       "      <th>selftext_clean</th>\n",
       "      <th>title_selftext</th>\n",
       "      <th>lem_title</th>\n",
       "      <th>lem_selftext</th>\n",
       "      <th>lem_title_selftext</th>\n",
       "      <th>is_zoom</th>\n",
       "    </tr>\n",
       "  </thead>\n",
       "  <tbody>\n",
       "    <tr>\n",
       "      <th>0</th>\n",
       "      <td>2020-04-02 08:17:08</td>\n",
       "      <td>(new) ZOOM Discord got taken down at +500 ppl ...</td>\n",
       "      <td>[https://discord.gg/EfQWuE3](https://discord.g...</td>\n",
       "      <td>1.0</td>\n",
       "      <td>1.0</td>\n",
       "      <td>NaN</td>\n",
       "      <td>0.0</td>\n",
       "      <td>/r/Zoom/comments/ftbzmh/new_zoom_discord_got_t...</td>\n",
       "      <td>Not_Fearr</td>\n",
       "      <td>new zoom discord got taken down at  ppl share ...</td>\n",
       "      <td></td>\n",
       "      <td>new zoom discord got taken down at  ppl share ...</td>\n",
       "      <td>new zoom discord got taken  ppl share</td>\n",
       "      <td></td>\n",
       "      <td>new zoom discord got taken  ppl share</td>\n",
       "      <td>1</td>\n",
       "    </tr>\n",
       "    <tr>\n",
       "      <th>1</th>\n",
       "      <td>2020-04-02 08:34:15</td>\n",
       "      <td>JOIN ZOOM DISCORD</td>\n",
       "      <td>[https://discord.gg/EfQWuE3](https://discord.g...</td>\n",
       "      <td>1.0</td>\n",
       "      <td>1.0</td>\n",
       "      <td>NaN</td>\n",
       "      <td>0.0</td>\n",
       "      <td>/r/Zoom/comments/ftca3f/join_zoom_discord/</td>\n",
       "      <td>Not_Fearr</td>\n",
       "      <td>join zoom discord</td>\n",
       "      <td></td>\n",
       "      <td>join zoom discord</td>\n",
       "      <td>join zoom discord</td>\n",
       "      <td></td>\n",
       "      <td>join zoom discord</td>\n",
       "      <td>1</td>\n",
       "    </tr>\n",
       "    <tr>\n",
       "      <th>2</th>\n",
       "      <td>2020-04-02 08:36:03</td>\n",
       "      <td>join zoom discord</td>\n",
       "      <td>[https://discord.gg/EfQWuE3](https://discord.g...</td>\n",
       "      <td>1.0</td>\n",
       "      <td>1.0</td>\n",
       "      <td>NaN</td>\n",
       "      <td>1.0</td>\n",
       "      <td>/r/Zoom/comments/ftcb3a/join_zoom_discord/</td>\n",
       "      <td>Not_Fearr</td>\n",
       "      <td>join zoom discord</td>\n",
       "      <td></td>\n",
       "      <td>join zoom discord</td>\n",
       "      <td>join zoom discord</td>\n",
       "      <td></td>\n",
       "      <td>join zoom discord</td>\n",
       "      <td>1</td>\n",
       "    </tr>\n",
       "    <tr>\n",
       "      <th>3</th>\n",
       "      <td>2020-04-02 08:59:49</td>\n",
       "      <td>How do I use prerecorded footage as my video?</td>\n",
       "      <td>Also does anyone have any good source of front...</td>\n",
       "      <td>1.0</td>\n",
       "      <td>1.0</td>\n",
       "      <td>NaN</td>\n",
       "      <td>7.0</td>\n",
       "      <td>/r/Zoom/comments/ftcp3h/how_do_i_use_prerecord...</td>\n",
       "      <td>Mememan054</td>\n",
       "      <td>how do i use prerecorded footage as my video</td>\n",
       "      <td>also does anyone have any good source of front...</td>\n",
       "      <td>how do i use prerecorded footage as my video a...</td>\n",
       "      <td>use prerecorded footage video</td>\n",
       "      <td>doe good source cam footage use pretend paying...</td>\n",
       "      <td>use prerecorded footage video doe good source ...</td>\n",
       "      <td>1</td>\n",
       "    </tr>\n",
       "    <tr>\n",
       "      <th>4</th>\n",
       "      <td>2020-04-02 09:13:59</td>\n",
       "      <td>How to separately adjust output audio?</td>\n",
       "      <td>Is there a way to adjust Zoom’s output volume,...</td>\n",
       "      <td>1.0</td>\n",
       "      <td>1.0</td>\n",
       "      <td>NaN</td>\n",
       "      <td>0.0</td>\n",
       "      <td>/r/Zoom/comments/ftcxf0/how_to_separately_adju...</td>\n",
       "      <td>demonroses</td>\n",
       "      <td>how to separately adjust output audio</td>\n",
       "      <td>is there a way to adjust zooms output volume s...</td>\n",
       "      <td>how to separately adjust output audio is there...</td>\n",
       "      <td>separately adjust output audio</td>\n",
       "      <td>way adjust zoom output volume separate laptop ...</td>\n",
       "      <td>separately adjust output audio way adjust zoom...</td>\n",
       "      <td>1</td>\n",
       "    </tr>\n",
       "  </tbody>\n",
       "</table>\n",
       "</div>"
      ],
      "text/plain": [
       "                  date                                              title  \\\n",
       "0  2020-04-02 08:17:08  (new) ZOOM Discord got taken down at +500 ppl ...   \n",
       "1  2020-04-02 08:34:15                                  JOIN ZOOM DISCORD   \n",
       "2  2020-04-02 08:36:03                                  join zoom discord   \n",
       "3  2020-04-02 08:59:49      How do I use prerecorded footage as my video?   \n",
       "4  2020-04-02 09:13:59             How to separately adjust output audio?   \n",
       "\n",
       "                                            selftext  is_self  upvotes  \\\n",
       "0  [https://discord.gg/EfQWuE3](https://discord.g...      1.0      1.0   \n",
       "1  [https://discord.gg/EfQWuE3](https://discord.g...      1.0      1.0   \n",
       "2  [https://discord.gg/EfQWuE3](https://discord.g...      1.0      1.0   \n",
       "3  Also does anyone have any good source of front...      1.0      1.0   \n",
       "4  Is there a way to adjust Zoom’s output volume,...      1.0      1.0   \n",
       "\n",
       "   upvote_ratio  n_comments  \\\n",
       "0           NaN         0.0   \n",
       "1           NaN         0.0   \n",
       "2           NaN         1.0   \n",
       "3           NaN         7.0   \n",
       "4           NaN         0.0   \n",
       "\n",
       "                                           permalink      author  \\\n",
       "0  /r/Zoom/comments/ftbzmh/new_zoom_discord_got_t...   Not_Fearr   \n",
       "1         /r/Zoom/comments/ftca3f/join_zoom_discord/   Not_Fearr   \n",
       "2         /r/Zoom/comments/ftcb3a/join_zoom_discord/   Not_Fearr   \n",
       "3  /r/Zoom/comments/ftcp3h/how_do_i_use_prerecord...  Mememan054   \n",
       "4  /r/Zoom/comments/ftcxf0/how_to_separately_adju...  demonroses   \n",
       "\n",
       "                                         title_clean  \\\n",
       "0  new zoom discord got taken down at  ppl share ...   \n",
       "1                                  join zoom discord   \n",
       "2                                  join zoom discord   \n",
       "3       how do i use prerecorded footage as my video   \n",
       "4              how to separately adjust output audio   \n",
       "\n",
       "                                      selftext_clean  \\\n",
       "0                                                      \n",
       "1                                                      \n",
       "2                                                      \n",
       "3  also does anyone have any good source of front...   \n",
       "4  is there a way to adjust zooms output volume s...   \n",
       "\n",
       "                                      title_selftext  \\\n",
       "0  new zoom discord got taken down at  ppl share ...   \n",
       "1                       join zoom discord              \n",
       "2                          join zoom discord           \n",
       "3  how do i use prerecorded footage as my video a...   \n",
       "4  how to separately adjust output audio is there...   \n",
       "\n",
       "                               lem_title  \\\n",
       "0  new zoom discord got taken  ppl share   \n",
       "1                      join zoom discord   \n",
       "2                      join zoom discord   \n",
       "3          use prerecorded footage video   \n",
       "4         separately adjust output audio   \n",
       "\n",
       "                                        lem_selftext  \\\n",
       "0                                                      \n",
       "1                                                      \n",
       "2                                                      \n",
       "3  doe good source cam footage use pretend paying...   \n",
       "4  way adjust zoom output volume separate laptop ...   \n",
       "\n",
       "                                  lem_title_selftext  is_zoom  \n",
       "0   new zoom discord got taken  ppl share                   1  \n",
       "1                       join zoom discord                   1  \n",
       "2                          join zoom discord                1  \n",
       "3  use prerecorded footage video doe good source ...        1  \n",
       "4  separately adjust output audio way adjust zoom...        1  "
      ]
     },
     "execution_count": 35,
     "metadata": {},
     "output_type": "execute_result"
    }
   ],
   "source": [
    "combined_post = pd.concat([zoom_post, team_post])\n",
    "combined_post.head()"
   ]
  },
  {
   "cell_type": "code",
   "execution_count": 36,
   "id": "657af673",
   "metadata": {},
   "outputs": [
    {
     "data": {
      "text/html": [
       "<div>\n",
       "<style scoped>\n",
       "    .dataframe tbody tr th:only-of-type {\n",
       "        vertical-align: middle;\n",
       "    }\n",
       "\n",
       "    .dataframe tbody tr th {\n",
       "        vertical-align: top;\n",
       "    }\n",
       "\n",
       "    .dataframe thead th {\n",
       "        text-align: right;\n",
       "    }\n",
       "</style>\n",
       "<table border=\"1\" class=\"dataframe\">\n",
       "  <thead>\n",
       "    <tr style=\"text-align: right;\">\n",
       "      <th></th>\n",
       "      <th>is_self</th>\n",
       "      <th>upvotes</th>\n",
       "      <th>upvote_ratio</th>\n",
       "      <th>n_comments</th>\n",
       "      <th>is_zoom</th>\n",
       "    </tr>\n",
       "  </thead>\n",
       "  <tbody>\n",
       "    <tr>\n",
       "      <th>count</th>\n",
       "      <td>17031.000000</td>\n",
       "      <td>17031.000000</td>\n",
       "      <td>14917.000000</td>\n",
       "      <td>17031.000000</td>\n",
       "      <td>17031.000000</td>\n",
       "    </tr>\n",
       "    <tr>\n",
       "      <th>mean</th>\n",
       "      <td>0.869062</td>\n",
       "      <td>1.188891</td>\n",
       "      <td>0.985619</td>\n",
       "      <td>3.466737</td>\n",
       "      <td>0.600435</td>\n",
       "    </tr>\n",
       "    <tr>\n",
       "      <th>std</th>\n",
       "      <td>0.337342</td>\n",
       "      <td>2.343308</td>\n",
       "      <td>0.080789</td>\n",
       "      <td>8.101793</td>\n",
       "      <td>0.489823</td>\n",
       "    </tr>\n",
       "    <tr>\n",
       "      <th>min</th>\n",
       "      <td>0.000000</td>\n",
       "      <td>0.000000</td>\n",
       "      <td>0.140000</td>\n",
       "      <td>0.000000</td>\n",
       "      <td>0.000000</td>\n",
       "    </tr>\n",
       "    <tr>\n",
       "      <th>25%</th>\n",
       "      <td>1.000000</td>\n",
       "      <td>1.000000</td>\n",
       "      <td>1.000000</td>\n",
       "      <td>0.000000</td>\n",
       "      <td>0.000000</td>\n",
       "    </tr>\n",
       "    <tr>\n",
       "      <th>50%</th>\n",
       "      <td>1.000000</td>\n",
       "      <td>1.000000</td>\n",
       "      <td>1.000000</td>\n",
       "      <td>2.000000</td>\n",
       "      <td>1.000000</td>\n",
       "    </tr>\n",
       "    <tr>\n",
       "      <th>75%</th>\n",
       "      <td>1.000000</td>\n",
       "      <td>1.000000</td>\n",
       "      <td>1.000000</td>\n",
       "      <td>4.000000</td>\n",
       "      <td>1.000000</td>\n",
       "    </tr>\n",
       "    <tr>\n",
       "      <th>max</th>\n",
       "      <td>1.000000</td>\n",
       "      <td>106.000000</td>\n",
       "      <td>1.000000</td>\n",
       "      <td>666.000000</td>\n",
       "      <td>1.000000</td>\n",
       "    </tr>\n",
       "  </tbody>\n",
       "</table>\n",
       "</div>"
      ],
      "text/plain": [
       "            is_self       upvotes  upvote_ratio    n_comments       is_zoom\n",
       "count  17031.000000  17031.000000  14917.000000  17031.000000  17031.000000\n",
       "mean       0.869062      1.188891      0.985619      3.466737      0.600435\n",
       "std        0.337342      2.343308      0.080789      8.101793      0.489823\n",
       "min        0.000000      0.000000      0.140000      0.000000      0.000000\n",
       "25%        1.000000      1.000000      1.000000      0.000000      0.000000\n",
       "50%        1.000000      1.000000      1.000000      2.000000      1.000000\n",
       "75%        1.000000      1.000000      1.000000      4.000000      1.000000\n",
       "max        1.000000    106.000000      1.000000    666.000000      1.000000"
      ]
     },
     "execution_count": 36,
     "metadata": {},
     "output_type": "execute_result"
    }
   ],
   "source": [
    "combined_post.describe()"
   ]
  },
  {
   "cell_type": "code",
   "execution_count": 37,
   "id": "021e0c57",
   "metadata": {},
   "outputs": [],
   "source": [
    "sentiment_post = combined_post[['title_selftext', 'is_zoom']].reset_index(drop=True)"
   ]
  },
  {
   "cell_type": "markdown",
   "id": "a06b1f34",
   "metadata": {},
   "source": [
    "I have decided to leverage on NLTK sentiment analyzer, also known as VADER (Valence Aware Dictionary and sEntiment Reasoner), which is a lexicon (dictionary of sentiments in this case) to perform sentiment analysis on both subreddit to get a feel if one is in general more happy or dissatisfied then the other (hopefully zoom fares better).  VADER is able to give us a Positivity and Negativity score that can be standardized in a range of -1 to 1.  Two of the links below have been leverage on and proves to invaluable for my coding subsequently.\n",
    "\n",
    "https://github.com/cjhutto/vaderSentiment\n",
    "\n",
    "https://towardsdatascience.com/sentimental-analysis-using-vader-a3415fef7664\n",
    "\n",
    "Just to define the scores derived that will be used to interpret my results that was published on the package github (link provided above).  The definition below were copied directly from the publisher.\n",
    "The compound score is computed by summing the valence scores of each word in the lexicon, adjusted according to the rules, and then normalized to be between -1 (most extreme negative) and +1 (most extreme positive). This is the most useful metric if you want a single unidimensional measure of sentiment for a given sentence. Calling it a 'normalized, weighted composite score' is accurate.\n",
    "\n",
    "It is also useful for researchers who would like to set standardized thresholds for classifying sentences as either positive, neutral, or negative. Typical threshold values (used in the literature cited on this page) are:\n",
    "\n",
    "positive sentiment: compound score >= 0.05\n",
    "\n",
    "neutral sentiment: (compound score > -0.05) and (compound score < 0.05)\n",
    "\n",
    "negative sentiment: compound score <= -0.05\n",
    "\n",
    "The analysis will be done solely on the concatenated \"title\" and \"selftext\".  As the compound score is a normalized summation of positive, negative and neutral scores (polarity_scores), I have decided to mark the sentiment as positive is compound score is more than 0, otherwise negative."
   ]
  },
  {
   "cell_type": "code",
   "execution_count": 38,
   "id": "028fe973",
   "metadata": {},
   "outputs": [],
   "source": [
    "# Initialise VADER\n",
    "sent_analyzer = SentimentIntensityAnalyzer()\n",
    "\n",
    "# Analyzing sentiment with VADER\n",
    "sentiment_post['scores'] = sentiment_post['title_selftext'].apply(lambda x: sent_analyzer.polarity_scores(x))\n",
    "sentiment_post['compound']  = sentiment_post['scores'].apply(lambda score_dict: score_dict['compound'])\n",
    "sentiment_post['compute_score'] = sentiment_post['compound'].apply(lambda c: 'pos' if c >=0 else 'neg')"
   ]
  },
  {
   "cell_type": "code",
   "execution_count": 39,
   "id": "99cbd6a5",
   "metadata": {},
   "outputs": [],
   "source": [
    "sentiment_post['subreddit'] = sentiment_post['is_zoom'].apply(lambda x: 'r/Zoom' if x == 1 else 'r/MicrosoftTeams')"
   ]
  },
  {
   "cell_type": "code",
   "execution_count": 40,
   "id": "d1f865ef",
   "metadata": {},
   "outputs": [
    {
     "data": {
      "text/html": [
       "<div>\n",
       "<style scoped>\n",
       "    .dataframe tbody tr th:only-of-type {\n",
       "        vertical-align: middle;\n",
       "    }\n",
       "\n",
       "    .dataframe tbody tr th {\n",
       "        vertical-align: top;\n",
       "    }\n",
       "\n",
       "    .dataframe thead th {\n",
       "        text-align: right;\n",
       "    }\n",
       "</style>\n",
       "<table border=\"1\" class=\"dataframe\">\n",
       "  <thead>\n",
       "    <tr style=\"text-align: right;\">\n",
       "      <th></th>\n",
       "      <th>title_selftext</th>\n",
       "      <th>is_zoom</th>\n",
       "      <th>scores</th>\n",
       "      <th>compound</th>\n",
       "      <th>compute_score</th>\n",
       "      <th>subreddit</th>\n",
       "    </tr>\n",
       "  </thead>\n",
       "  <tbody>\n",
       "    <tr>\n",
       "      <th>0</th>\n",
       "      <td>new zoom discord got taken down at  ppl share ...</td>\n",
       "      <td>1</td>\n",
       "      <td>{'neg': 0.209, 'neu': 0.62, 'pos': 0.171, 'com...</td>\n",
       "      <td>-0.1280</td>\n",
       "      <td>neg</td>\n",
       "      <td>r/Zoom</td>\n",
       "    </tr>\n",
       "    <tr>\n",
       "      <th>1</th>\n",
       "      <td>join zoom discord</td>\n",
       "      <td>1</td>\n",
       "      <td>{'neg': 0.458, 'neu': 0.169, 'pos': 0.373, 'co...</td>\n",
       "      <td>-0.1280</td>\n",
       "      <td>neg</td>\n",
       "      <td>r/Zoom</td>\n",
       "    </tr>\n",
       "    <tr>\n",
       "      <th>2</th>\n",
       "      <td>join zoom discord</td>\n",
       "      <td>1</td>\n",
       "      <td>{'neg': 0.458, 'neu': 0.169, 'pos': 0.373, 'co...</td>\n",
       "      <td>-0.1280</td>\n",
       "      <td>neg</td>\n",
       "      <td>r/Zoom</td>\n",
       "    </tr>\n",
       "    <tr>\n",
       "      <th>3</th>\n",
       "      <td>how do i use prerecorded footage as my video a...</td>\n",
       "      <td>1</td>\n",
       "      <td>{'neg': 0.057, 'neu': 0.845, 'pos': 0.098, 'co...</td>\n",
       "      <td>0.3008</td>\n",
       "      <td>pos</td>\n",
       "      <td>r/Zoom</td>\n",
       "    </tr>\n",
       "    <tr>\n",
       "      <th>4</th>\n",
       "      <td>how to separately adjust output audio is there...</td>\n",
       "      <td>1</td>\n",
       "      <td>{'neg': 0.0, 'neu': 1.0, 'pos': 0.0, 'compound...</td>\n",
       "      <td>0.0000</td>\n",
       "      <td>pos</td>\n",
       "      <td>r/Zoom</td>\n",
       "    </tr>\n",
       "  </tbody>\n",
       "</table>\n",
       "</div>"
      ],
      "text/plain": [
       "                                      title_selftext  is_zoom  \\\n",
       "0  new zoom discord got taken down at  ppl share ...        1   \n",
       "1                       join zoom discord                   1   \n",
       "2                          join zoom discord                1   \n",
       "3  how do i use prerecorded footage as my video a...        1   \n",
       "4  how to separately adjust output audio is there...        1   \n",
       "\n",
       "                                              scores  compound compute_score  \\\n",
       "0  {'neg': 0.209, 'neu': 0.62, 'pos': 0.171, 'com...   -0.1280           neg   \n",
       "1  {'neg': 0.458, 'neu': 0.169, 'pos': 0.373, 'co...   -0.1280           neg   \n",
       "2  {'neg': 0.458, 'neu': 0.169, 'pos': 0.373, 'co...   -0.1280           neg   \n",
       "3  {'neg': 0.057, 'neu': 0.845, 'pos': 0.098, 'co...    0.3008           pos   \n",
       "4  {'neg': 0.0, 'neu': 1.0, 'pos': 0.0, 'compound...    0.0000           pos   \n",
       "\n",
       "  subreddit  \n",
       "0    r/Zoom  \n",
       "1    r/Zoom  \n",
       "2    r/Zoom  \n",
       "3    r/Zoom  \n",
       "4    r/Zoom  "
      ]
     },
     "execution_count": 40,
     "metadata": {},
     "output_type": "execute_result"
    }
   ],
   "source": [
    "sentiment_post.head()"
   ]
  },
  {
   "cell_type": "markdown",
   "id": "4a222834",
   "metadata": {},
   "source": [
    "Once I have all the sentiment rating (either positive or negative) of each record of \"title+selftext\", I plot the distribution of the compound score and compute average compound score of the posting respectively to get a view of the \"average\" sentiment.  A little sad to see that the general sentiment of the subscriber in Microsoft Team are more positive as compared to Zoom (as observed below plot)."
   ]
  },
  {
   "cell_type": "code",
   "execution_count": 255,
   "id": "fb1126f3",
   "metadata": {},
   "outputs": [
    {
     "data": {
      "image/png": "[encoded data removed]",
      "text/plain": [
       "<Figure size 1152x432 with 2 Axes>"
      ]
     },
     "metadata": {
      "needs_background": "light"
     },
     "output_type": "display_data"
    }
   ],
   "source": [
    "fig, ax = plt.subplots(1, 2, figsize=(16, 6))\n",
    "ax = ax.ravel()\n",
    "sns.histplot(sentiment_post[sentiment_post['is_zoom'] == 1]['compound'].values, color='tab:blue', ax = ax[0])\n",
    "sns.histplot(sentiment_post[sentiment_post['is_zoom'] == 0]['compound'].values, color='firebrick', ax = ax[1])\n",
    "average_1 = sentiment_post[sentiment_post['is_zoom'] == 1]['compound'].mean()\n",
    "average_2 = sentiment_post[sentiment_post['is_zoom'] == 0]['compound'].mean()\n",
    "ax[0].set_title(f'r/Zoom (Average Compound Score: {(average_1):.2f})', fontsize=18)\n",
    "ax[1].set_title(f'r/MicrosoftTeams (Average Compound Score: {(average_2):.2f})', fontsize=18)\n",
    "ax[0].axvline(average_1, ls='--', color='black')\n",
    "ax[1].axvline(average_2, ls='--', color='black')\n",
    "ax[0].set_xlabel('Sentiment')\n",
    "ax[0].set_ylabel('Word Frequency')\n",
    "ax[1].set_xlabel('Sentiment')\n",
    "ax[1].set_ylabel('')\n",
    "plt.suptitle('Sentiment Analysis of Both Post', fontsize=20);"
   ]
  },
  {
   "cell_type": "markdown",
   "id": "d9f75865",
   "metadata": {},
   "source": [
    "Below is just an effort to validate and confirm the result given leveraging on the compound score.  These are some examples of both negative post and positive one on both zoom and team subreddit respectively.  I filtered out anything more than 0.9 as positive one to review and less than -0.9 for the negative one."
   ]
  },
  {
   "cell_type": "code",
   "execution_count": 42,
   "id": "51ade58b",
   "metadata": {},
   "outputs": [
    {
     "name": "stdout",
     "output_type": "stream",
     "text": [
      "zoom troubleshooting help alright i have a weird issue i have one student in a class of  that can join the zoom meeting but is then dropped  seconds after   no other student is experiencing this issue  the teacher is not having any network lag  the student can access and watch other classes just fine  student is using a chromebook  student is using a hotspot  student hasnt indicated this has been a problem for the last month  issue only occurs at am class  father is adamant that the issue is with zoom or the teacher but i believe that can be ruled out since no other student is having the same problem  the device can be ruled out as a problem since connection with other classes is fine  my thought is the hotspot they are currently using a sprint mifi unlimited plan after some quick research i found that sprint deprioritizes connections after theyve used gb in a billing cycle i am assuming the am time is a busy network for the tower  any other potential ideas what it could be\n"
     ]
    }
   ],
   "source": [
    "neg_post = sentiment_post[(sentiment_post['subreddit'] == 'r/Zoom') \n",
    "                       & (sentiment_post['compound'] < -0.9)]['title_selftext'].reset_index()\n",
    "print(neg_post['title_selftext'][6])"
   ]
  },
  {
   "cell_type": "code",
   "execution_count": 43,
   "id": "430f6f5a",
   "metadata": {},
   "outputs": [
    {
     "name": "stdout",
     "output_type": "stream",
     "text": [
      "trying to host workouts on zoom and i cant figure out how to play spotify in my meeting without screen share apparently there is a  program called loopback that does exactly this but im hoping someone knows of a free option thanks in advance\n"
     ]
    }
   ],
   "source": [
    "pos_post = sentiment_post[(sentiment_post['subreddit'] == 'r/Zoom') \n",
    "                       & (sentiment_post['compound'] > 0.9)]['title_selftext'].reset_index()\n",
    "print(pos_post['title_selftext'][3])"
   ]
  },
  {
   "cell_type": "code",
   "execution_count": 44,
   "id": "52c91db5",
   "metadata": {},
   "outputs": [
    {
     "name": "stdout",
     "output_type": "stream",
     "text": [
      "problems when logging in on laptop with error code whenever i want to start ms teams i always get a error code  and it asks me to restart the application  whenever i restart my application it again gives me the same error  if i log in on my other computer via google chrome or with a clean install it will work and i dont seem to have any problems does someone know whats the problem here\n"
     ]
    }
   ],
   "source": [
    "neg_teampost = sentiment_post[(sentiment_post['subreddit'] == 'r/MicrosoftTeams') \n",
    "                       & (sentiment_post['compound'] < -0.9)]['title_selftext'].reset_index()\n",
    "print(neg_teampost['title_selftext'][6])"
   ]
  },
  {
   "cell_type": "code",
   "execution_count": 45,
   "id": "55a66cd8",
   "metadata": {},
   "outputs": [
    {
     "name": "stdout",
     "output_type": "stream",
     "text": [
      "generate report of all microsoft teams users hello  is it possible to create a report of all active microsoft teams users from the teams admin portal ideally i would like to create a report that includes usernamesemails of all the microsoft teams users   thanks\n"
     ]
    }
   ],
   "source": [
    "pos_teampost = sentiment_post[(sentiment_post['subreddit'] == 'r/MicrosoftTeams') \n",
    "                       & (sentiment_post['compound'] > 0.9)]['title_selftext'].reset_index()\n",
    "print(pos_teampost['title_selftext'][10])"
   ]
  },
  {
   "cell_type": "markdown",
   "id": "d6db1ab6",
   "metadata": {},
   "source": [
    "Scattertext is a tool developed on the back of Scatterplot, the age-old cartesian coordinated plotting tool used by many to visualize the relationship between two variables. Scattertext was created by Jason Kessler who has gained quite a bit of notoriety for his work in developing this resource.  As the above sentiment analysis gives us a good sense of where we stand, especially representing Zoom, I want to know what words drives those sentiment outcome.  Scatterplot offers a mean to do that.  You can also refer to a pretty good link describing how the tool could be used.  In brief, the \"compute_score\" I have derived earlier using VADER's compound score would be passed in to Scattertext API and I have referred quite a fair bit to the codes shared by the author of the attached medium.com article.\n",
    "\n",
    "https://towardsdatascience.com/interpreting-scattertext-a-seductive-tool-for-plotting-text-2e94e5824858"
   ]
  },
  {
   "cell_type": "code",
   "execution_count": 50,
   "id": "79301bee",
   "metadata": {},
   "outputs": [
    {
     "data": {
      "text/plain": [
       "<spacy.pipeline.sentencizer.Sentencizer at 0x1c30a449400>"
      ]
     },
     "execution_count": 50,
     "metadata": {},
     "output_type": "execute_result"
    }
   ],
   "source": [
    "nlp = spacy.blank('en')\n",
    "nlp.add_pipe('sentencizer')"
   ]
  },
  {
   "cell_type": "code",
   "execution_count": 47,
   "id": "17f9f0a3",
   "metadata": {},
   "outputs": [
    {
     "data": {
      "text/html": [
       "<div>\n",
       "<style scoped>\n",
       "    .dataframe tbody tr th:only-of-type {\n",
       "        vertical-align: middle;\n",
       "    }\n",
       "\n",
       "    .dataframe tbody tr th {\n",
       "        vertical-align: top;\n",
       "    }\n",
       "\n",
       "    .dataframe thead th {\n",
       "        text-align: right;\n",
       "    }\n",
       "</style>\n",
       "<table border=\"1\" class=\"dataframe\">\n",
       "  <thead>\n",
       "    <tr style=\"text-align: right;\">\n",
       "      <th></th>\n",
       "      <th>title_selftext</th>\n",
       "      <th>is_zoom</th>\n",
       "      <th>scores</th>\n",
       "      <th>compound</th>\n",
       "      <th>compute_score</th>\n",
       "      <th>subreddit</th>\n",
       "    </tr>\n",
       "  </thead>\n",
       "  <tbody>\n",
       "    <tr>\n",
       "      <th>0</th>\n",
       "      <td>new zoom discord got taken down at  ppl share ...</td>\n",
       "      <td>1</td>\n",
       "      <td>{'neg': 0.209, 'neu': 0.62, 'pos': 0.171, 'com...</td>\n",
       "      <td>-0.1280</td>\n",
       "      <td>neg</td>\n",
       "      <td>r/Zoom</td>\n",
       "    </tr>\n",
       "    <tr>\n",
       "      <th>1</th>\n",
       "      <td>join zoom discord</td>\n",
       "      <td>1</td>\n",
       "      <td>{'neg': 0.458, 'neu': 0.169, 'pos': 0.373, 'co...</td>\n",
       "      <td>-0.1280</td>\n",
       "      <td>neg</td>\n",
       "      <td>r/Zoom</td>\n",
       "    </tr>\n",
       "    <tr>\n",
       "      <th>2</th>\n",
       "      <td>join zoom discord</td>\n",
       "      <td>1</td>\n",
       "      <td>{'neg': 0.458, 'neu': 0.169, 'pos': 0.373, 'co...</td>\n",
       "      <td>-0.1280</td>\n",
       "      <td>neg</td>\n",
       "      <td>r/Zoom</td>\n",
       "    </tr>\n",
       "    <tr>\n",
       "      <th>3</th>\n",
       "      <td>how do i use prerecorded footage as my video a...</td>\n",
       "      <td>1</td>\n",
       "      <td>{'neg': 0.057, 'neu': 0.845, 'pos': 0.098, 'co...</td>\n",
       "      <td>0.3008</td>\n",
       "      <td>pos</td>\n",
       "      <td>r/Zoom</td>\n",
       "    </tr>\n",
       "    <tr>\n",
       "      <th>4</th>\n",
       "      <td>how to separately adjust output audio is there...</td>\n",
       "      <td>1</td>\n",
       "      <td>{'neg': 0.0, 'neu': 1.0, 'pos': 0.0, 'compound...</td>\n",
       "      <td>0.0000</td>\n",
       "      <td>pos</td>\n",
       "      <td>r/Zoom</td>\n",
       "    </tr>\n",
       "  </tbody>\n",
       "</table>\n",
       "</div>"
      ],
      "text/plain": [
       "                                      title_selftext  is_zoom  \\\n",
       "0  new zoom discord got taken down at  ppl share ...        1   \n",
       "1                       join zoom discord                   1   \n",
       "2                          join zoom discord                1   \n",
       "3  how do i use prerecorded footage as my video a...        1   \n",
       "4  how to separately adjust output audio is there...        1   \n",
       "\n",
       "                                              scores  compound compute_score  \\\n",
       "0  {'neg': 0.209, 'neu': 0.62, 'pos': 0.171, 'com...   -0.1280           neg   \n",
       "1  {'neg': 0.458, 'neu': 0.169, 'pos': 0.373, 'co...   -0.1280           neg   \n",
       "2  {'neg': 0.458, 'neu': 0.169, 'pos': 0.373, 'co...   -0.1280           neg   \n",
       "3  {'neg': 0.057, 'neu': 0.845, 'pos': 0.098, 'co...    0.3008           pos   \n",
       "4  {'neg': 0.0, 'neu': 1.0, 'pos': 0.0, 'compound...    0.0000           pos   \n",
       "\n",
       "  subreddit  \n",
       "0    r/Zoom  \n",
       "1    r/Zoom  \n",
       "2    r/Zoom  \n",
       "3    r/Zoom  \n",
       "4    r/Zoom  "
      ]
     },
     "execution_count": 47,
     "metadata": {},
     "output_type": "execute_result"
    }
   ],
   "source": [
    "sentiment_post.head()"
   ]
  },
  {
   "cell_type": "code",
   "execution_count": 51,
   "id": "7801f03f",
   "metadata": {},
   "outputs": [],
   "source": [
    "corpus = (st.CorpusFromPandas(sentiment_post, category_col='compute_score', text_col='title_selftext', nlp=nlp).build().remove_terms(nlp.Defaults.stop_words, ignore_absences=True))"
   ]
  },
  {
   "cell_type": "code",
   "execution_count": 53,
   "id": "60beb406",
   "metadata": {},
   "outputs": [],
   "source": [
    "html = st.produce_scattertext_explorer(corpus, \n",
    "                                       category='pos', \n",
    "                                       category_name='Positive', \n",
    "                                       not_category_name='Negative',\n",
    "                                       width_in_pixels=1000, \n",
    "                                       metadata=sentiment_post['subreddit'],\n",
    "                                       save_svg_button=True)"
   ]
  },
  {
   "cell_type": "code",
   "execution_count": 54,
   "id": "f786cd9c",
   "metadata": {},
   "outputs": [
    {
     "data": {
      "text/plain": [
       "7441491"
      ]
     },
     "execution_count": 54,
     "metadata": {},
     "output_type": "execute_result"
    }
   ],
   "source": [
    "html_file_name = \"Zoom & Microsoft Teams Sentiment_Analysis.html\"\n",
    "open(html_file_name, 'wb').write(html.encode('utf-8'))"
   ]
  },
  {
   "cell_type": "markdown",
   "id": "57f5a54c",
   "metadata": {},
   "source": [
    "![](image/scattertext.png)"
   ]
  },
  {
   "cell_type": "markdown",
   "id": "5d5ff835",
   "metadata": {},
   "source": [
    "Referring to the diagram above, the y-axis represents the term frequencies for the Team posting whereas the x-axis represents the term frequencies for the Zoom posting (pardon me for not doing the label as I have spent quite sometime understanding to use this new package and running short of time..).  For example, if I pick a word like \"destroy\" which represent negative sentiments and it is on average more frequently seen in zoom posting and less frequent in team.  And I can leverage on it to do research by searching keywords to see where they come from and how we can help the zoom community better.  This is shown below.  And the html is included in github repository."
   ]
  },
  {
   "cell_type": "markdown",
   "id": "4e15bc7a",
   "metadata": {},
   "source": [
    "![](image/scattertextsearch.png)"
   ]
  },
  {
   "cell_type": "markdown",
   "id": "0d0b0bda",
   "metadata": {},
   "source": [
    "## Classification Modelling"
   ]
  },
  {
   "cell_type": "markdown",
   "id": "25000c72",
   "metadata": {},
   "source": [
    "Next, we'll be performing both selection and tuning of model that can help predict where each post comes from. This is a classical binary classification problem. To find the best model to use here, we'll carry out the following steps:\n",
    "\n",
    "1. Run a Train-Test-Split on our data\n",
    "2. Transform data using a vectorizer\n",
    "3. Fit model to training data\n",
    "4. Generate predictions using test data\n",
    "Evaluate model based on various evaluation metrics (accuracy, precision, recall, ROC-AUC).\n",
    "Select the best model and tune hyper-parameters\n",
    "Besides CountVectorizer(), we'll also be using TfidfVectorizer(). TfidfVectorizer() is pretty similar to CountVectorizer, except that it looks at the frequency of words in our data. This means that it downweights words that appear in many posts, while upweighting the rarer words.\n",
    "\n",
    "We'll look to test 2 different classification techniques including Logistic Regression and Random Forest classification.\n",
    "\n",
    "AUC and F-score will be our main metrics here, given that we're not too particularly concerned about minimizing either false negatives and false positives -- ideally we'd like to minimize both as far as possible.\n",
    "\n",
    "Check again on split of both zoom and team data:"
   ]
  },
  {
   "cell_type": "code",
   "execution_count": 57,
   "id": "29815976",
   "metadata": {},
   "outputs": [
    {
     "data": {
      "text/plain": [
       "1    0.600435\n",
       "0    0.399565\n",
       "Name: is_zoom, dtype: float64"
      ]
     },
     "execution_count": 57,
     "metadata": {},
     "output_type": "execute_result"
    }
   ],
   "source": [
    "dataset = combined_post['is_zoom']\n",
    "dataset.value_counts(normalize=True)"
   ]
  },
  {
   "cell_type": "markdown",
   "id": "ac2c0b23",
   "metadata": {},
   "source": [
    "Do a train test split of the data and shall take note of the imbalanced dataset here.  Subsequently, I will leverag on undersampling technique to make the data \"balanced\" for further model training."
   ]
  },
  {
   "cell_type": "code",
   "execution_count": 58,
   "id": "03694cf1",
   "metadata": {},
   "outputs": [],
   "source": [
    "X = combined_post['title_selftext']\n",
    "y = combined_post['is_zoom']"
   ]
  },
  {
   "cell_type": "markdown",
   "id": "38ed7ac5",
   "metadata": {},
   "source": [
    "Because the dataset is imbalanced, shall include parameter \"stratify\" here when preparing the training and testing dataset."
   ]
  },
  {
   "cell_type": "code",
   "execution_count": 59,
   "id": "67b378bc",
   "metadata": {},
   "outputs": [],
   "source": [
    "X_train, X_test, y_train, y_test = train_test_split(X, y, test_size=0.3, stratify=y, random_state=42)"
   ]
  },
  {
   "cell_type": "markdown",
   "id": "93a7abfc",
   "metadata": {},
   "source": [
    "For training and testing out different models, I have run into a sklearn package Pipelines.  And it seems to be gaining traction in the community (read one article on it in medium.com) and the codes appeared to be cleaner. Also seems like some of my classmates in GA also started using such packages."
   ]
  },
  {
   "cell_type": "code",
   "execution_count": 137,
   "id": "0e95f28d",
   "metadata": {},
   "outputs": [],
   "source": [
    "models = {'lr': LogisticRegression(max_iter=1_000, random_state=42),\n",
    "          'rf': RandomForestClassifier(random_state=42)}"
   ]
  },
  {
   "cell_type": "code",
   "execution_count": 138,
   "id": "d0a18b8e",
   "metadata": {},
   "outputs": [],
   "source": [
    "vectorizers = {'cvec': CountVectorizer(),\n",
    "               'tvec': TfidfVectorizer()}"
   ]
  },
  {
   "cell_type": "code",
   "execution_count": 257,
   "id": "71229eb3",
   "metadata": {},
   "outputs": [],
   "source": [
    "# List to store multiple models testing results for evaluation later\n",
    "result_list = []"
   ]
  },
  {
   "cell_type": "code",
   "execution_count": 266,
   "id": "48bdd576",
   "metadata": {},
   "outputs": [],
   "source": [
    "# Function to run model -- input vectorizer and model\n",
    "def run_model(vec, mod, vec_params={}, mod_params={}, grid_search=False):\n",
    "    \n",
    "    results = {}\n",
    "    \n",
    "    pipe = Pipeline([\n",
    "            (vec, vectorizers[vec]),\n",
    "            (mod, models[mod])\n",
    "            ])\n",
    "    \n",
    "    if grid_search:\n",
    "        gs = GridSearchCV(pipe, param_grid = {**vec_params, **mod_params}, cv=5, verbose=1, n_jobs=-1)\n",
    "        gs.fit(X_train, y_train)\n",
    "        pipe = gs\n",
    "        \n",
    "    else:\n",
    "        pipe.fit(X_train, y_train)\n",
    "    \n",
    "    # Retrieve metrics\n",
    "    results['model'] = mod\n",
    "    results['vectorizer'] = vec\n",
    "    results['train'] = pipe.score(X_train, y_train)\n",
    "    results['test'] = pipe.score(X_test, y_test)\n",
    "    predictions = pipe.predict(X_test)\n",
    "    results['roc'] = roc_auc_score(y_test, predictions)\n",
    "    results['precision'] = precision_score(y_test, predictions)\n",
    "    results['recall'] = recall_score(y_test, predictions)\n",
    "    results['f_score'] = f1_score(y_test, predictions)\n",
    "    \n",
    "    if grid_search:\n",
    "        tuning_list.append(results)\n",
    "        print('### BEST PARAMS ###')\n",
    "        display(pipe.best_params_)\n",
    "        \n",
    "    else:\n",
    "        result_list.append(results)\n",
    "    \n",
    "    print('### METRICS ###')\n",
    "    display(results)\n",
    "    \n",
    "    cm = confusion_matrix(y_test, predictions)\n",
    "    tn, fp, fn, tp = cm.ravel()\n",
    "    print(f\"True Negatives: {tn}\")\n",
    "    print(f\"False Positives: {fp}\")\n",
    "    print(f\"False Negatives: {fn}\")\n",
    "    print(f\"True Positives: {tp}\")\n",
    "    disp = ConfusionMatrixDisplay(confusion_matrix=cm, display_labels=['team', 'is_zoom'])\n",
    "    disp.plot();\n",
    "    return pipe"
   ]
  },
  {
   "cell_type": "markdown",
   "id": "bb7ca4b2",
   "metadata": {},
   "source": [
    "## Logistic Regression Modeling with both CountVectorizer and TfidfVectorizer"
   ]
  },
  {
   "cell_type": "markdown",
   "id": "f695d5a9",
   "metadata": {},
   "source": [
    "When using the various metrics to evaluate our model, it would be good to define the following:\n",
    "\n",
    "1. True Positive - correctly predict zoom's posting\n",
    "2. False Positive - predicted zoom's posting but turn out to be team's\n",
    "3. True Negative - correctly predict team's posting\n",
    "4. False Negative - predicted team's posting but turn out to be zoom's\n",
    "\n",
    "In the context of our problem statement and also to make simple assumption, I am indifferent to having higher specificity or higher sensitivity.  I will prefer one model that gives me higher AUC closest to 1."
   ]
  },
  {
   "cell_type": "code",
   "execution_count": 267,
   "id": "ff369b24",
   "metadata": {},
   "outputs": [
    {
     "name": "stdout",
     "output_type": "stream",
     "text": [
      "### METRICS ###\n"
     ]
    },
    {
     "data": {
      "text/plain": [
       "{'model': 'lr',\n",
       " 'vectorizer': 'cvec',\n",
       " 'train': 0.9842552744830482,\n",
       " 'test': 0.9186872397746755,\n",
       " 'roc': 0.9186357544006646,\n",
       " 'precision': 0.9078384798099762,\n",
       " 'recall': 0.9326500732064422,\n",
       " 'f_score': 0.9200770341839191}"
      ]
     },
     "metadata": {},
     "output_type": "display_data"
    },
    {
     "name": "stdout",
     "output_type": "stream",
     "text": [
      "True Negatives: 1840\n",
      "False Positives: 194\n",
      "False Negatives: 138\n",
      "True Positives: 1911\n"
     ]
    },
    {
     "data": {
      "image/png": "[encoded data removed]",
      "text/plain": [
       "<Figure size 432x288 with 2 Axes>"
      ]
     },
     "metadata": {
      "needs_background": "light"
     },
     "output_type": "display_data"
    }
   ],
   "source": [
    "# Logistic Regression with CountVectorizer, without GridSearch\n",
    "lr_c_vec = run_model('cvec', 'lr')"
   ]
  },
  {
   "cell_type": "code",
   "execution_count": 268,
   "id": "120a4448",
   "metadata": {},
   "outputs": [
    {
     "name": "stdout",
     "output_type": "stream",
     "text": [
      "### METRICS ###\n"
     ]
    },
    {
     "data": {
      "text/plain": [
       "{'model': 'lr',\n",
       " 'vectorizer': 'tvec',\n",
       " 'train': 0.9564395927364333,\n",
       " 'test': 0.9262796963017389,\n",
       " 'roc': 0.9262112175015944,\n",
       " 'precision': 0.911487758945386,\n",
       " 'recall': 0.9448511469009273,\n",
       " 'f_score': 0.927869638150012}"
      ]
     },
     "metadata": {},
     "output_type": "display_data"
    },
    {
     "name": "stdout",
     "output_type": "stream",
     "text": [
      "True Negatives: 1846\n",
      "False Positives: 188\n",
      "False Negatives: 113\n",
      "True Positives: 1936\n"
     ]
    },
    {
     "data": {
      "image/png": "[encoded data removed]",
      "text/plain": [
       "<Figure size 432x288 with 2 Axes>"
      ]
     },
     "metadata": {
      "needs_background": "light"
     },
     "output_type": "display_data"
    }
   ],
   "source": [
    "lr_t_vec = run_model('tvec', 'lr')"
   ]
  },
  {
   "cell_type": "markdown",
   "id": "d7142094",
   "metadata": {},
   "source": [
    "In terms of both AUC and F1 score, it seems that TfidfVectorizer gives a better reading.  Let try Random Forest classifier next."
   ]
  },
  {
   "cell_type": "markdown",
   "id": "e89745e9",
   "metadata": {},
   "source": [
    "## Random Forest classifier with both CountVectorizer and TfidfVectorizer"
   ]
  },
  {
   "cell_type": "code",
   "execution_count": 269,
   "id": "37cacf49",
   "metadata": {},
   "outputs": [
    {
     "name": "stdout",
     "output_type": "stream",
     "text": [
      "### METRICS ###\n"
     ]
    },
    {
     "data": {
      "text/plain": [
       "{'model': 'rf',\n",
       " 'vectorizer': 'cvec',\n",
       " 'train': 0.9995801406528813,\n",
       " 'test': 0.9101151114376684,\n",
       " 'roc': 0.9100248196472559,\n",
       " 'precision': 0.8915270018621974,\n",
       " 'recall': 0.9346022449975598,\n",
       " 'f_score': 0.9125565880390755}"
      ]
     },
     "metadata": {},
     "output_type": "display_data"
    },
    {
     "name": "stdout",
     "output_type": "stream",
     "text": [
      "True Negatives: 1801\n",
      "False Positives: 233\n",
      "False Negatives: 134\n",
      "True Positives: 1915\n"
     ]
    },
    {
     "data": {
      "image/png": "[encoded data removed]",
      "text/plain": [
       "<Figure size 432x288 with 2 Axes>"
      ]
     },
     "metadata": {
      "needs_background": "light"
     },
     "output_type": "display_data"
    }
   ],
   "source": [
    "rf_c_vec = run_model('cvec', 'rf')"
   ]
  },
  {
   "cell_type": "code",
   "execution_count": 270,
   "id": "b310efc7",
   "metadata": {},
   "outputs": [
    {
     "name": "stdout",
     "output_type": "stream",
     "text": [
      "### METRICS ###\n"
     ]
    },
    {
     "data": {
      "text/plain": [
       "{'model': 'rf',\n",
       " 'vectorizer': 'tvec',\n",
       " 'train': 0.9995801406528813,\n",
       " 'test': 0.9079108498652951,\n",
       " 'roc': 0.9078016328563757,\n",
       " 'precision': 0.8856615952051636,\n",
       " 'recall': 0.9375305026842362,\n",
       " 'f_score': 0.9108582266477003}"
      ]
     },
     "metadata": {},
     "output_type": "display_data"
    },
    {
     "name": "stdout",
     "output_type": "stream",
     "text": [
      "True Negatives: 1786\n",
      "False Positives: 248\n",
      "False Negatives: 128\n",
      "True Positives: 1921\n"
     ]
    },
    {
     "data": {
      "image/png": "[encoded data removed]",
      "text/plain": [
       "<Figure size 432x288 with 2 Axes>"
      ]
     },
     "metadata": {
      "needs_background": "light"
     },
     "output_type": "display_data"
    }
   ],
   "source": [
    "rf_t_vec = run_model('tvec', 'rf')"
   ]
  },
  {
   "cell_type": "markdown",
   "id": "1aa0adab",
   "metadata": {},
   "source": [
    "For the case of random forest classifier, it gives a different outcome and CountVectorizer seems to be stronger.  But in comparision with Logistic Regression, it fares less well in both metrics, AUC and F1 score."
   ]
  },
  {
   "cell_type": "markdown",
   "id": "d04cb8e0",
   "metadata": {},
   "source": [
    "Revisiting the case of imbalance distribution for our dataset.  As we aren't using accuracy as a major metric to evaluate our model and also the ratio of imbalance isn't as bad (not 1:10 like fraud detection cases), actually I do not think we need to do any treatment.  However, for a peace of mind, I have decided to adopt the easiest method, undersampling, to equalize the ratio of both zoom and team posting."
   ]
  },
  {
   "cell_type": "code",
   "execution_count": 85,
   "id": "f12c3c11",
   "metadata": {},
   "outputs": [
    {
     "data": {
      "text/html": [
       "<div>\n",
       "<style scoped>\n",
       "    .dataframe tbody tr th:only-of-type {\n",
       "        vertical-align: middle;\n",
       "    }\n",
       "\n",
       "    .dataframe tbody tr th {\n",
       "        vertical-align: top;\n",
       "    }\n",
       "\n",
       "    .dataframe thead th {\n",
       "        text-align: right;\n",
       "    }\n",
       "</style>\n",
       "<table border=\"1\" class=\"dataframe\">\n",
       "  <thead>\n",
       "    <tr style=\"text-align: right;\">\n",
       "      <th></th>\n",
       "      <th>date</th>\n",
       "      <th>title</th>\n",
       "      <th>selftext</th>\n",
       "      <th>is_self</th>\n",
       "      <th>upvotes</th>\n",
       "      <th>upvote_ratio</th>\n",
       "      <th>n_comments</th>\n",
       "      <th>permalink</th>\n",
       "      <th>author</th>\n",
       "      <th>title_clean</th>\n",
       "      <th>selftext_clean</th>\n",
       "      <th>title_selftext</th>\n",
       "      <th>lem_title</th>\n",
       "      <th>lem_selftext</th>\n",
       "      <th>lem_title_selftext</th>\n",
       "      <th>is_zoom</th>\n",
       "    </tr>\n",
       "  </thead>\n",
       "  <tbody>\n",
       "    <tr>\n",
       "      <th>0</th>\n",
       "      <td>2020-04-02 08:17:08</td>\n",
       "      <td>(new) ZOOM Discord got taken down at +500 ppl ...</td>\n",
       "      <td>[https://discord.gg/EfQWuE3](https://discord.g...</td>\n",
       "      <td>1.0</td>\n",
       "      <td>1.0</td>\n",
       "      <td>NaN</td>\n",
       "      <td>0.0</td>\n",
       "      <td>/r/Zoom/comments/ftbzmh/new_zoom_discord_got_t...</td>\n",
       "      <td>Not_Fearr</td>\n",
       "      <td>new zoom discord got taken down at  ppl share ...</td>\n",
       "      <td></td>\n",
       "      <td>new zoom discord got taken down at  ppl share ...</td>\n",
       "      <td>new zoom discord got taken  ppl share</td>\n",
       "      <td></td>\n",
       "      <td>new zoom discord got taken  ppl share</td>\n",
       "      <td>1</td>\n",
       "    </tr>\n",
       "    <tr>\n",
       "      <th>1</th>\n",
       "      <td>2020-04-02 08:34:15</td>\n",
       "      <td>JOIN ZOOM DISCORD</td>\n",
       "      <td>[https://discord.gg/EfQWuE3](https://discord.g...</td>\n",
       "      <td>1.0</td>\n",
       "      <td>1.0</td>\n",
       "      <td>NaN</td>\n",
       "      <td>0.0</td>\n",
       "      <td>/r/Zoom/comments/ftca3f/join_zoom_discord/</td>\n",
       "      <td>Not_Fearr</td>\n",
       "      <td>join zoom discord</td>\n",
       "      <td></td>\n",
       "      <td>join zoom discord</td>\n",
       "      <td>join zoom discord</td>\n",
       "      <td></td>\n",
       "      <td>join zoom discord</td>\n",
       "      <td>1</td>\n",
       "    </tr>\n",
       "    <tr>\n",
       "      <th>2</th>\n",
       "      <td>2020-04-02 08:36:03</td>\n",
       "      <td>join zoom discord</td>\n",
       "      <td>[https://discord.gg/EfQWuE3](https://discord.g...</td>\n",
       "      <td>1.0</td>\n",
       "      <td>1.0</td>\n",
       "      <td>NaN</td>\n",
       "      <td>1.0</td>\n",
       "      <td>/r/Zoom/comments/ftcb3a/join_zoom_discord/</td>\n",
       "      <td>Not_Fearr</td>\n",
       "      <td>join zoom discord</td>\n",
       "      <td></td>\n",
       "      <td>join zoom discord</td>\n",
       "      <td>join zoom discord</td>\n",
       "      <td></td>\n",
       "      <td>join zoom discord</td>\n",
       "      <td>1</td>\n",
       "    </tr>\n",
       "    <tr>\n",
       "      <th>3</th>\n",
       "      <td>2020-04-02 08:59:49</td>\n",
       "      <td>How do I use prerecorded footage as my video?</td>\n",
       "      <td>Also does anyone have any good source of front...</td>\n",
       "      <td>1.0</td>\n",
       "      <td>1.0</td>\n",
       "      <td>NaN</td>\n",
       "      <td>7.0</td>\n",
       "      <td>/r/Zoom/comments/ftcp3h/how_do_i_use_prerecord...</td>\n",
       "      <td>Mememan054</td>\n",
       "      <td>how do i use prerecorded footage as my video</td>\n",
       "      <td>also does anyone have any good source of front...</td>\n",
       "      <td>how do i use prerecorded footage as my video a...</td>\n",
       "      <td>use prerecorded footage video</td>\n",
       "      <td>doe good source cam footage use pretend paying...</td>\n",
       "      <td>use prerecorded footage video doe good source ...</td>\n",
       "      <td>1</td>\n",
       "    </tr>\n",
       "    <tr>\n",
       "      <th>4</th>\n",
       "      <td>2020-04-02 09:13:59</td>\n",
       "      <td>How to separately adjust output audio?</td>\n",
       "      <td>Is there a way to adjust Zoom’s output volume,...</td>\n",
       "      <td>1.0</td>\n",
       "      <td>1.0</td>\n",
       "      <td>NaN</td>\n",
       "      <td>0.0</td>\n",
       "      <td>/r/Zoom/comments/ftcxf0/how_to_separately_adju...</td>\n",
       "      <td>demonroses</td>\n",
       "      <td>how to separately adjust output audio</td>\n",
       "      <td>is there a way to adjust zooms output volume s...</td>\n",
       "      <td>how to separately adjust output audio is there...</td>\n",
       "      <td>separately adjust output audio</td>\n",
       "      <td>way adjust zoom output volume separate laptop ...</td>\n",
       "      <td>separately adjust output audio way adjust zoom...</td>\n",
       "      <td>1</td>\n",
       "    </tr>\n",
       "  </tbody>\n",
       "</table>\n",
       "</div>"
      ],
      "text/plain": [
       "                  date                                              title  \\\n",
       "0  2020-04-02 08:17:08  (new) ZOOM Discord got taken down at +500 ppl ...   \n",
       "1  2020-04-02 08:34:15                                  JOIN ZOOM DISCORD   \n",
       "2  2020-04-02 08:36:03                                  join zoom discord   \n",
       "3  2020-04-02 08:59:49      How do I use prerecorded footage as my video?   \n",
       "4  2020-04-02 09:13:59             How to separately adjust output audio?   \n",
       "\n",
       "                                            selftext  is_self  upvotes  \\\n",
       "0  [https://discord.gg/EfQWuE3](https://discord.g...      1.0      1.0   \n",
       "1  [https://discord.gg/EfQWuE3](https://discord.g...      1.0      1.0   \n",
       "2  [https://discord.gg/EfQWuE3](https://discord.g...      1.0      1.0   \n",
       "3  Also does anyone have any good source of front...      1.0      1.0   \n",
       "4  Is there a way to adjust Zoom’s output volume,...      1.0      1.0   \n",
       "\n",
       "   upvote_ratio  n_comments  \\\n",
       "0           NaN         0.0   \n",
       "1           NaN         0.0   \n",
       "2           NaN         1.0   \n",
       "3           NaN         7.0   \n",
       "4           NaN         0.0   \n",
       "\n",
       "                                           permalink      author  \\\n",
       "0  /r/Zoom/comments/ftbzmh/new_zoom_discord_got_t...   Not_Fearr   \n",
       "1         /r/Zoom/comments/ftca3f/join_zoom_discord/   Not_Fearr   \n",
       "2         /r/Zoom/comments/ftcb3a/join_zoom_discord/   Not_Fearr   \n",
       "3  /r/Zoom/comments/ftcp3h/how_do_i_use_prerecord...  Mememan054   \n",
       "4  /r/Zoom/comments/ftcxf0/how_to_separately_adju...  demonroses   \n",
       "\n",
       "                                         title_clean  \\\n",
       "0  new zoom discord got taken down at  ppl share ...   \n",
       "1                                  join zoom discord   \n",
       "2                                  join zoom discord   \n",
       "3       how do i use prerecorded footage as my video   \n",
       "4              how to separately adjust output audio   \n",
       "\n",
       "                                      selftext_clean  \\\n",
       "0                                                      \n",
       "1                                                      \n",
       "2                                                      \n",
       "3  also does anyone have any good source of front...   \n",
       "4  is there a way to adjust zooms output volume s...   \n",
       "\n",
       "                                      title_selftext  \\\n",
       "0  new zoom discord got taken down at  ppl share ...   \n",
       "1                       join zoom discord              \n",
       "2                          join zoom discord           \n",
       "3  how do i use prerecorded footage as my video a...   \n",
       "4  how to separately adjust output audio is there...   \n",
       "\n",
       "                               lem_title  \\\n",
       "0  new zoom discord got taken  ppl share   \n",
       "1                      join zoom discord   \n",
       "2                      join zoom discord   \n",
       "3          use prerecorded footage video   \n",
       "4         separately adjust output audio   \n",
       "\n",
       "                                        lem_selftext  \\\n",
       "0                                                      \n",
       "1                                                      \n",
       "2                                                      \n",
       "3  doe good source cam footage use pretend paying...   \n",
       "4  way adjust zoom output volume separate laptop ...   \n",
       "\n",
       "                                  lem_title_selftext  is_zoom  \n",
       "0   new zoom discord got taken  ppl share                   1  \n",
       "1                       join zoom discord                   1  \n",
       "2                          join zoom discord                1  \n",
       "3  use prerecorded footage video doe good source ...        1  \n",
       "4  separately adjust output audio way adjust zoom...        1  "
      ]
     },
     "execution_count": 85,
     "metadata": {},
     "output_type": "execute_result"
    }
   ],
   "source": [
    "combined_post.head()"
   ]
  },
  {
   "cell_type": "code",
   "execution_count": 142,
   "id": "9836d42d",
   "metadata": {},
   "outputs": [
    {
     "data": {
      "text/plain": [
       "date                  6805\n",
       "title                 6805\n",
       "selftext              6805\n",
       "is_self               6805\n",
       "upvotes               6805\n",
       "upvote_ratio          6242\n",
       "n_comments            6805\n",
       "permalink             6805\n",
       "author                6805\n",
       "title_clean           6805\n",
       "selftext_clean        6805\n",
       "title_selftext        6805\n",
       "lem_title             6805\n",
       "lem_selftext          6805\n",
       "lem_title_selftext    6805\n",
       "is_zoom               6805\n",
       "dtype: int64"
      ]
     },
     "execution_count": 142,
     "metadata": {},
     "output_type": "execute_result"
    }
   ],
   "source": [
    "combined_post[combined_post['is_zoom'] == 0].count()"
   ]
  },
  {
   "cell_type": "code",
   "execution_count": 143,
   "id": "ef2d1ee7",
   "metadata": {},
   "outputs": [],
   "source": [
    "#undersampling\n",
    "down_sample_zoom = combined_post[combined_post['is_zoom'] == 1].sample(n=6805)"
   ]
  },
  {
   "cell_type": "code",
   "execution_count": 144,
   "id": "bb547ab8",
   "metadata": {},
   "outputs": [],
   "source": [
    "team_dataset = combined_post[combined_post['is_zoom'] != 1]\n",
    "\n",
    "# Concatenate the two DataFrame to create the new balanced bug reports dataset\n",
    "new_combined_post = pd.concat([down_sample_zoom, team_dataset])"
   ]
  },
  {
   "cell_type": "code",
   "execution_count": 145,
   "id": "b0c5f882",
   "metadata": {},
   "outputs": [
    {
     "data": {
      "text/plain": [
       "0    0.5\n",
       "1    0.5\n",
       "Name: is_zoom, dtype: float64"
      ]
     },
     "execution_count": 145,
     "metadata": {},
     "output_type": "execute_result"
    }
   ],
   "source": [
    "dataset = new_combined_post['is_zoom']\n",
    "dataset.value_counts(normalize=True)"
   ]
  },
  {
   "cell_type": "code",
   "execution_count": 146,
   "id": "946a5dfc",
   "metadata": {},
   "outputs": [],
   "source": [
    "X_balanced = new_combined_post['title_selftext']\n",
    "y_balanced = new_combined_post['is_zoom']"
   ]
  },
  {
   "cell_type": "code",
   "execution_count": 147,
   "id": "5915daa6",
   "metadata": {},
   "outputs": [],
   "source": [
    "X_train, X_test, y_train, y_test = train_test_split(X_balanced, y_balanced, test_size=0.3, random_state=42)"
   ]
  },
  {
   "cell_type": "code",
   "execution_count": 148,
   "id": "d908fa28",
   "metadata": {},
   "outputs": [
    {
     "name": "stdout",
     "output_type": "stream",
     "text": [
      "### METRICS ###\n"
     ]
    },
    {
     "data": {
      "text/plain": [
       "{'model': 'lr',\n",
       " 'vectorizer': 'cvec',\n",
       " 'train': 0.9842552744830482,\n",
       " 'test': 0.9186872397746755,\n",
       " 'roc': 0.9186357544006646,\n",
       " 'precision': 0.9078384798099762,\n",
       " 'recall': 0.9326500732064422,\n",
       " 'f_score': 0.9200770341839191}"
      ]
     },
     "metadata": {},
     "output_type": "display_data"
    },
    {
     "name": "stdout",
     "output_type": "stream",
     "text": [
      "True Negatives: 1840\n",
      "False Positives: 194\n",
      "False Negatives: 138\n",
      "True Positives: 1911\n"
     ]
    },
    {
     "data": {
      "image/png": "[encoded data removed]",
      "text/plain": [
       "<Figure size 432x288 with 2 Axes>"
      ]
     },
     "metadata": {
      "needs_background": "light"
     },
     "output_type": "display_data"
    }
   ],
   "source": [
    "# Logistic Regression with CountVectorizer\n",
    "lr_c_vec = run_model('cvec', 'lr')"
   ]
  },
  {
   "cell_type": "code",
   "execution_count": 149,
   "id": "3126fdd9",
   "metadata": {},
   "outputs": [],
   "source": [
    "eval_df = pd.DataFrame(result_list)"
   ]
  },
  {
   "cell_type": "code",
   "execution_count": 150,
   "id": "6cd3f1b3",
   "metadata": {},
   "outputs": [
    {
     "data": {
      "text/html": [
       "<div>\n",
       "<style scoped>\n",
       "    .dataframe tbody tr th:only-of-type {\n",
       "        vertical-align: middle;\n",
       "    }\n",
       "\n",
       "    .dataframe tbody tr th {\n",
       "        vertical-align: top;\n",
       "    }\n",
       "\n",
       "    .dataframe thead th {\n",
       "        text-align: right;\n",
       "    }\n",
       "</style>\n",
       "<table border=\"1\" class=\"dataframe\">\n",
       "  <thead>\n",
       "    <tr style=\"text-align: right;\">\n",
       "      <th></th>\n",
       "      <th>model</th>\n",
       "      <th>vectorizer</th>\n",
       "      <th>train</th>\n",
       "      <th>test</th>\n",
       "      <th>roc</th>\n",
       "      <th>precision</th>\n",
       "      <th>recall</th>\n",
       "      <th>f_score</th>\n",
       "    </tr>\n",
       "  </thead>\n",
       "  <tbody>\n",
       "    <tr>\n",
       "      <th>0</th>\n",
       "      <td>lr</td>\n",
       "      <td>cvec</td>\n",
       "      <td>0.984255</td>\n",
       "      <td>0.918687</td>\n",
       "      <td>0.918636</td>\n",
       "      <td>0.907838</td>\n",
       "      <td>0.932650</td>\n",
       "      <td>0.920077</td>\n",
       "    </tr>\n",
       "    <tr>\n",
       "      <th>1</th>\n",
       "      <td>lr</td>\n",
       "      <td>cvec</td>\n",
       "      <td>0.983416</td>\n",
       "      <td>0.915258</td>\n",
       "      <td>0.915218</td>\n",
       "      <td>0.906832</td>\n",
       "      <td>0.926306</td>\n",
       "      <td>0.916465</td>\n",
       "    </tr>\n",
       "  </tbody>\n",
       "</table>\n",
       "</div>"
      ],
      "text/plain": [
       "  model vectorizer     train      test       roc  precision    recall  \\\n",
       "0    lr       cvec  0.984255  0.918687  0.918636   0.907838  0.932650   \n",
       "1    lr       cvec  0.983416  0.915258  0.915218   0.906832  0.926306   \n",
       "\n",
       "    f_score  \n",
       "0  0.920077  \n",
       "1  0.916465  "
      ]
     },
     "execution_count": 150,
     "metadata": {},
     "output_type": "execute_result"
    }
   ],
   "source": [
    "# Top results (Accuracy >= 0.790)\n",
    "eval_df.sort_values(by='test', ascending=False).reset_index(drop=True).head(6)"
   ]
  },
  {
   "cell_type": "markdown",
   "id": "45bde532",
   "metadata": {},
   "source": [
    "## Model Tuning"
   ]
  },
  {
   "cell_type": "code",
   "execution_count": 271,
   "id": "7abebfdb",
   "metadata": {},
   "outputs": [],
   "source": [
    "tuning_list = []"
   ]
  },
  {
   "cell_type": "code",
   "execution_count": 272,
   "id": "46aefdab",
   "metadata": {},
   "outputs": [],
   "source": [
    "cvec_params = {\n",
    "    'cvec__max_features': [2000, 3000],\n",
    "    'cvec__ngram_range': [(1,1), (1,2), (1,3)]\n",
    "}"
   ]
  },
  {
   "cell_type": "code",
   "execution_count": 273,
   "id": "46752ac6",
   "metadata": {},
   "outputs": [],
   "source": [
    "tvec_params = {\n",
    "    'tvec__max_features': [None],\n",
    "    'tvec__min_df':[3, 4, 5],\n",
    "    'tvec__max_df': [0.2, 0.3, 0.4],\n",
    "    'tvec__stop_words': ['english'],\n",
    "    'tvec__ngram_range':[(1,1), (1,2)]\n",
    "}"
   ]
  },
  {
   "cell_type": "code",
   "execution_count": 274,
   "id": "f7eb6ac1",
   "metadata": {},
   "outputs": [],
   "source": [
    "lr_params = {\n",
    "    # Trying different types of regularization\n",
    "    'lr__penalty':['l2','l1'],\n",
    "\n",
    "     # Trying different alphas of: 10, 1, 0.1 (C = 1/alpha)\n",
    "    'lr__C':[0.1, 1, 10]\n",
    "}"
   ]
  },
  {
   "cell_type": "code",
   "execution_count": 275,
   "id": "1b3066a0",
   "metadata": {},
   "outputs": [],
   "source": [
    "rf_params = {\n",
    "    'rf__n_estimators': [100, 150, 200], # iterating over different number of trees in the forest\n",
    "    'rf__max_depth': [None, 1, 2, 3, 4, 5] # iterating over a defined set of max depth of tree. For None, the nodes are expanded until all leaves are pure\n",
    "}"
   ]
  },
  {
   "cell_type": "markdown",
   "id": "96117f0b",
   "metadata": {},
   "source": [
    "Some explanation to some of tuning parameters above:\n",
    "\n",
    "1. C is a penalty parameter, which represents misclassification or error term. The misclassification or error term tells the model how much error is bearable, which allows us to control the trade-off between decision boundary and misclassification term. When C is high it will classify all the data points correctly, but lead to a high risk of overfitting. Conversely, when C is low, it will 'smooth' out the decision boundary and could potentially lead to underfitting."
   ]
  },
  {
   "cell_type": "code",
   "execution_count": 276,
   "id": "78091c21",
   "metadata": {},
   "outputs": [
    {
     "name": "stdout",
     "output_type": "stream",
     "text": [
      "Fitting 5 folds for each of 36 candidates, totalling 180 fits\n"
     ]
    },
    {
     "name": "stderr",
     "output_type": "stream",
     "text": [
      "C:\\Users\\weeho\\anaconda3\\lib\\site-packages\\sklearn\\model_selection\\_search.py:918: UserWarning: One or more of the test scores are non-finite: [0.91749811        nan 0.91655378        nan 0.90364287        nan\n",
      " 0.91728797        nan 0.91413946        nan 0.90322309        nan\n",
      " 0.91823263        nan 0.9139296         nan 0.90248851        nan\n",
      " 0.91728841        nan 0.91602873        nan 0.90689675        nan\n",
      " 0.91823241        nan 0.91581843        nan 0.90416791        nan\n",
      " 0.91802271        nan 0.91770792        nan 0.90343311        nan]\n",
      "  warnings.warn(\n"
     ]
    },
    {
     "name": "stdout",
     "output_type": "stream",
     "text": [
      "### BEST PARAMS ###\n"
     ]
    },
    {
     "data": {
      "text/plain": [
       "{'cvec__max_features': 2000,\n",
       " 'cvec__ngram_range': (1, 3),\n",
       " 'lr__C': 0.1,\n",
       " 'lr__penalty': 'l2'}"
      ]
     },
     "metadata": {},
     "output_type": "display_data"
    },
    {
     "name": "stdout",
     "output_type": "stream",
     "text": [
      "### METRICS ###\n"
     ]
    },
    {
     "data": {
      "text/plain": [
       "{'model': 'lr',\n",
       " 'vectorizer': 'cvec',\n",
       " 'train': 0.9543402960008397,\n",
       " 'test': 0.9164829782023022,\n",
       " 'roc': 0.9163639792632136,\n",
       " 'precision': 0.8917431192660551,\n",
       " 'recall': 0.9487554904831625,\n",
       " 'f_score': 0.9193662804445496}"
      ]
     },
     "metadata": {},
     "output_type": "display_data"
    },
    {
     "name": "stdout",
     "output_type": "stream",
     "text": [
      "True Negatives: 1798\n",
      "False Positives: 236\n",
      "False Negatives: 105\n",
      "True Positives: 1944\n"
     ]
    },
    {
     "data": {
      "image/png": "[encoded data removed]",
      "text/plain": [
       "<Figure size 432x288 with 2 Axes>"
      ]
     },
     "metadata": {
      "needs_background": "light"
     },
     "output_type": "display_data"
    }
   ],
   "source": [
    "cvec_lr_gs = run_model('cvec', 'lr', vec_params=cvec_params, mod_params=lr_params, grid_search=True)"
   ]
  },
  {
   "cell_type": "code",
   "execution_count": 277,
   "id": "3d322cff",
   "metadata": {},
   "outputs": [
    {
     "name": "stdout",
     "output_type": "stream",
     "text": [
      "Fitting 5 folds for each of 108 candidates, totalling 540 fits\n"
     ]
    },
    {
     "name": "stderr",
     "output_type": "stream",
     "text": [
      "C:\\Users\\weeho\\anaconda3\\lib\\site-packages\\sklearn\\model_selection\\_search.py:918: UserWarning: One or more of the test scores are non-finite: [0.80728557 0.83982401 0.80781018 0.84034867 0.80676075 0.83992883\n",
      " 0.80644551 0.83688559 0.80581581 0.83699025 0.80623576 0.83814483\n",
      " 0.91518851 0.91676309 0.91487349 0.91686791 0.91466352 0.91560823\n",
      "        nan        nan        nan        nan        nan        nan\n",
      "        nan        nan        nan        nan        nan        nan\n",
      "        nan        nan        nan        nan        nan        nan\n",
      " 0.82481414 0.87089423 0.82386926 0.86994897 0.82334443 0.86952968\n",
      " 0.82512921 0.87047445 0.82313484 0.87047379 0.8230298  0.86942464\n",
      " 0.92579069 0.92610505 0.92516083 0.9253703  0.92537058 0.92505562\n",
      "        nan        nan        nan        nan        nan        nan\n",
      "        nan        nan        nan        nan        nan        nan\n",
      "        nan        nan        nan        nan        nan        nan\n",
      " 0.81074964 0.88076157 0.81032981 0.8777164  0.80990991 0.87383321\n",
      " 0.81116954 0.8808665  0.81022498 0.87761163 0.81022471 0.87404301\n",
      " 0.91938748 0.92306131 0.91812819 0.92190629 0.91728824 0.92033226\n",
      "        nan        nan        nan        nan        nan        nan\n",
      "        nan        nan        nan        nan        nan        nan\n",
      "        nan        nan        nan        nan        nan        nan]\n",
      "  warnings.warn(\n"
     ]
    },
    {
     "name": "stdout",
     "output_type": "stream",
     "text": [
      "### BEST PARAMS ###\n"
     ]
    },
    {
     "data": {
      "text/plain": [
       "{'lr__C': 1,\n",
       " 'lr__penalty': 'l2',\n",
       " 'tvec__max_df': 0.4,\n",
       " 'tvec__max_features': None,\n",
       " 'tvec__min_df': 3,\n",
       " 'tvec__ngram_range': (1, 2),\n",
       " 'tvec__stop_words': 'english'}"
      ]
     },
     "metadata": {},
     "output_type": "display_data"
    },
    {
     "name": "stdout",
     "output_type": "stream",
     "text": [
      "### METRICS ###\n"
     ]
    },
    {
     "data": {
      "text/plain": [
       "{'model': 'lr',\n",
       " 'vectorizer': 'tvec',\n",
       " 'train': 0.9658864280466044,\n",
       " 'test': 0.9265246142542248,\n",
       " 'roc': 0.9264588381122673,\n",
       " 'precision': 0.9123055162659123,\n",
       " 'recall': 0.9443631039531479,\n",
       " 'f_score': 0.9280575539568346}"
      ]
     },
     "metadata": {},
     "output_type": "display_data"
    },
    {
     "name": "stdout",
     "output_type": "stream",
     "text": [
      "True Negatives: 1848\n",
      "False Positives: 186\n",
      "False Negatives: 114\n",
      "True Positives: 1935\n"
     ]
    },
    {
     "data": {
      "image/png": "[encoded data removed]",
      "text/plain": [
       "<Figure size 432x288 with 2 Axes>"
      ]
     },
     "metadata": {
      "needs_background": "light"
     },
     "output_type": "display_data"
    }
   ],
   "source": [
    "tvec_lr_gs = run_model('tvec', 'lr', vec_params=tvec_params, mod_params=lr_params, grid_search=True)"
   ]
  },
  {
   "cell_type": "code",
   "execution_count": 278,
   "id": "7aa75312",
   "metadata": {},
   "outputs": [
    {
     "name": "stdout",
     "output_type": "stream",
     "text": [
      "Fitting 5 folds for each of 108 candidates, totalling 540 fits\n",
      "### BEST PARAMS ###\n"
     ]
    },
    {
     "data": {
      "text/plain": [
       "{'cvec__max_features': 2000,\n",
       " 'cvec__ngram_range': (1, 1),\n",
       " 'rf__max_depth': None,\n",
       " 'rf__n_estimators': 200}"
      ]
     },
     "metadata": {},
     "output_type": "display_data"
    },
    {
     "name": "stdout",
     "output_type": "stream",
     "text": [
      "### METRICS ###\n"
     ]
    },
    {
     "data": {
      "text/plain": [
       "{'model': 'rf',\n",
       " 'vectorizer': 'cvec',\n",
       " 'train': 0.9980056681011861,\n",
       " 'test': 0.9115846191525839,\n",
       " 'roc': 0.9115177415848582,\n",
       " 'precision': 0.8977379830348727,\n",
       " 'recall': 0.9297218155197657,\n",
       " 'f_score': 0.9134500119875328}"
      ]
     },
     "metadata": {},
     "output_type": "display_data"
    },
    {
     "name": "stdout",
     "output_type": "stream",
     "text": [
      "True Negatives: 1817\n",
      "False Positives: 217\n",
      "False Negatives: 144\n",
      "True Positives: 1905\n"
     ]
    },
    {
     "data": {
      "image/png": "[encoded data removed]",
      "text/plain": [
       "<Figure size 432x288 with 2 Axes>"
      ]
     },
     "metadata": {
      "needs_background": "light"
     },
     "output_type": "display_data"
    }
   ],
   "source": [
    "cvec_rf_gs = run_model('cvec', 'rf', vec_params=cvec_params, mod_params=rf_params, grid_search=True)"
   ]
  },
  {
   "cell_type": "code",
   "execution_count": 279,
   "id": "07056f45",
   "metadata": {},
   "outputs": [
    {
     "name": "stdout",
     "output_type": "stream",
     "text": [
      "Fitting 5 folds for each of 324 candidates, totalling 1620 fits\n",
      "### BEST PARAMS ###\n"
     ]
    },
    {
     "data": {
      "text/plain": [
       "{'rf__max_depth': None,\n",
       " 'rf__n_estimators': 200,\n",
       " 'tvec__max_df': 0.4,\n",
       " 'tvec__max_features': None,\n",
       " 'tvec__min_df': 4,\n",
       " 'tvec__ngram_range': (1, 1),\n",
       " 'tvec__stop_words': 'english'}"
      ]
     },
     "metadata": {},
     "output_type": "display_data"
    },
    {
     "name": "stdout",
     "output_type": "stream",
     "text": [
      "### METRICS ###\n"
     ]
    },
    {
     "data": {
      "text/plain": [
       "{'model': 'rf',\n",
       " 'vectorizer': 'tvec',\n",
       " 'train': 0.9977957384276267,\n",
       " 'test': 0.9221160911094783,\n",
       " 'roc': 0.9220430571931628,\n",
       " 'precision': 0.9065288868013152,\n",
       " 'recall': 0.9419228892142508,\n",
       " 'f_score': 0.9238870272857826}"
      ]
     },
     "metadata": {},
     "output_type": "display_data"
    },
    {
     "name": "stdout",
     "output_type": "stream",
     "text": [
      "True Negatives: 1835\n",
      "False Positives: 199\n",
      "False Negatives: 119\n",
      "True Positives: 1930\n"
     ]
    },
    {
     "data": {
      "image/png": "[encoded data removed]",
      "text/plain": [
       "<Figure size 432x288 with 2 Axes>"
      ]
     },
     "metadata": {
      "needs_background": "light"
     },
     "output_type": "display_data"
    }
   ],
   "source": [
    "tvec_rf_gs = run_model('tvec', 'rf', vec_params=tvec_params, mod_params=rf_params, grid_search=True)"
   ]
  },
  {
   "cell_type": "code",
   "execution_count": 280,
   "id": "669639b2",
   "metadata": {},
   "outputs": [],
   "source": [
    "tuning_df = pd.DataFrame(tuning_list)"
   ]
  },
  {
   "cell_type": "code",
   "execution_count": 281,
   "id": "f9973c23",
   "metadata": {},
   "outputs": [
    {
     "data": {
      "text/html": [
       "<div>\n",
       "<style scoped>\n",
       "    .dataframe tbody tr th:only-of-type {\n",
       "        vertical-align: middle;\n",
       "    }\n",
       "\n",
       "    .dataframe tbody tr th {\n",
       "        vertical-align: top;\n",
       "    }\n",
       "\n",
       "    .dataframe thead th {\n",
       "        text-align: right;\n",
       "    }\n",
       "</style>\n",
       "<table border=\"1\" class=\"dataframe\">\n",
       "  <thead>\n",
       "    <tr style=\"text-align: right;\">\n",
       "      <th></th>\n",
       "      <th>model</th>\n",
       "      <th>vectorizer</th>\n",
       "      <th>train</th>\n",
       "      <th>test</th>\n",
       "      <th>roc</th>\n",
       "      <th>precision</th>\n",
       "      <th>recall</th>\n",
       "      <th>f_score</th>\n",
       "    </tr>\n",
       "  </thead>\n",
       "  <tbody>\n",
       "    <tr>\n",
       "      <th>0</th>\n",
       "      <td>lr</td>\n",
       "      <td>tvec</td>\n",
       "      <td>0.965886</td>\n",
       "      <td>0.926525</td>\n",
       "      <td>0.926459</td>\n",
       "      <td>0.912306</td>\n",
       "      <td>0.944363</td>\n",
       "      <td>0.928058</td>\n",
       "    </tr>\n",
       "    <tr>\n",
       "      <th>1</th>\n",
       "      <td>rf</td>\n",
       "      <td>tvec</td>\n",
       "      <td>0.997796</td>\n",
       "      <td>0.922116</td>\n",
       "      <td>0.922043</td>\n",
       "      <td>0.906529</td>\n",
       "      <td>0.941923</td>\n",
       "      <td>0.923887</td>\n",
       "    </tr>\n",
       "    <tr>\n",
       "      <th>2</th>\n",
       "      <td>lr</td>\n",
       "      <td>cvec</td>\n",
       "      <td>0.954340</td>\n",
       "      <td>0.916483</td>\n",
       "      <td>0.916364</td>\n",
       "      <td>0.891743</td>\n",
       "      <td>0.948755</td>\n",
       "      <td>0.919366</td>\n",
       "    </tr>\n",
       "    <tr>\n",
       "      <th>3</th>\n",
       "      <td>rf</td>\n",
       "      <td>cvec</td>\n",
       "      <td>0.998006</td>\n",
       "      <td>0.911585</td>\n",
       "      <td>0.911518</td>\n",
       "      <td>0.897738</td>\n",
       "      <td>0.929722</td>\n",
       "      <td>0.913450</td>\n",
       "    </tr>\n",
       "  </tbody>\n",
       "</table>\n",
       "</div>"
      ],
      "text/plain": [
       "  model vectorizer     train      test       roc  precision    recall  \\\n",
       "0    lr       tvec  0.965886  0.926525  0.926459   0.912306  0.944363   \n",
       "1    rf       tvec  0.997796  0.922116  0.922043   0.906529  0.941923   \n",
       "2    lr       cvec  0.954340  0.916483  0.916364   0.891743  0.948755   \n",
       "3    rf       cvec  0.998006  0.911585  0.911518   0.897738  0.929722   \n",
       "\n",
       "    f_score  \n",
       "0  0.928058  \n",
       "1  0.923887  \n",
       "2  0.919366  \n",
       "3  0.913450  "
      ]
     },
     "execution_count": 281,
     "metadata": {},
     "output_type": "execute_result"
    }
   ],
   "source": [
    "tuning_df.sort_values(by=['test', 'roc'], ascending=False).reset_index(drop=True)"
   ]
  },
  {
   "cell_type": "markdown",
   "id": "3a453e8b",
   "metadata": {},
   "source": [
    "We can see in the table above that logistic regression with TfidfVectorizer has the best AUC-ROC score. We can interpret this metric as proof that that this model is the best at distinguishing between classes. The model also gives the highest F2 score.\n",
    "We also observe that random forest classifier seems to overfit in both both Vectorizer options and generalize less well as compared to Logistic Regression model.\n",
    "\n",
    "To summarize our final selected model:\n",
    "{'lr__C': 1,\n",
    " 'lr__penalty': 'l2',\n",
    " 'tvec__max_df': 0.4,\n",
    " 'tvec__max_features': None,\n",
    " 'tvec__min_df': 3,\n",
    " 'tvec__ngram_range': (1, 2),\n",
    " 'tvec__stop_words': 'english'}\n",
    "\n",
    "1. Uses Tfidf Vectorization with no max feature limit\n",
    "2. Uses Logistic Regression with Ridge regularization( = 0.1 | C = 1)\n",
    "3. In general, our model doesn't really overfit since both training and testing scores are quite similar, except for the comment above regarding the differences between the 2 machine learning algorithm.\n",
    "\n",
    "Beside choosing the best model based on the above metrics, interpretability is just as important.  Logistics Regression features weights can be interpreted easily and for Random Forest, it is less so.  However, with recent packages like SHAP and others, this could achieved."
   ]
  },
  {
   "cell_type": "markdown",
   "id": "942c36b9",
   "metadata": {},
   "source": [
    "Below is the ROC curve and the AUC is really quite close to 1 which indicates the models classify really well."
   ]
  },
  {
   "cell_type": "code",
   "execution_count": 187,
   "id": "9711f398",
   "metadata": {},
   "outputs": [
    {
     "data": {
      "text/plain": [
       "<matplotlib.legend.Legend at 0x1c352c02bb0>"
      ]
     },
     "execution_count": 187,
     "metadata": {},
     "output_type": "execute_result"
    },
    {
     "data": {
      "image/png": "[encoded data removed]",
      "text/plain": [
       "<Figure size 864x720 with 1 Axes>"
      ]
     },
     "metadata": {
      "needs_background": "light"
     },
     "output_type": "display_data"
    }
   ],
   "source": [
    "fig, ax = plt.subplots(1, 1, figsize=(12,10))\n",
    "plot_roc_curve(cvec_lr_gs, X_test, y_test, ax=ax, name='LogisticRegression-CVEC', color='firebrick')\n",
    "plot_roc_curve(tvec_lr_gs, X_test, y_test, ax=ax, name='LogisticRegression-TVEC', color='red')\n",
    "plot_roc_curve(cvec_rf_gs, X_test, y_test, ax=ax, name='RandomForest-CVEC', color='royalblue')\n",
    "plot_roc_curve(tvec_rf_gs, X_test, y_test, ax=ax, name='RandomForest-TVEC', color='navy')\n",
    "plt.plot([0, 1], [0, 1], color='black', lw=2, linestyle='--', label='Random Guess')\n",
    "plt.legend()"
   ]
  },
  {
   "cell_type": "markdown",
   "id": "e8f8ba0b",
   "metadata": {},
   "source": [
    "Choosing the best classifier to do further analysis and the features interpretation:"
   ]
  },
  {
   "cell_type": "code",
   "execution_count": 166,
   "id": "48481a29",
   "metadata": {},
   "outputs": [
    {
     "data": {
      "text/plain": [
       "Pipeline(steps=[('tvec',\n",
       "                 TfidfVectorizer(max_df=0.4, min_df=3, ngram_range=(1, 2),\n",
       "                                 stop_words='english')),\n",
       "                ('lr',\n",
       "                 LogisticRegression(C=1, max_iter=1000, random_state=42))])"
      ]
     },
     "execution_count": 166,
     "metadata": {},
     "output_type": "execute_result"
    }
   ],
   "source": [
    "tvec_lr_gs.best_estimator_"
   ]
  },
  {
   "cell_type": "code",
   "execution_count": 168,
   "id": "6bf292ed",
   "metadata": {},
   "outputs": [],
   "source": [
    "coefs = pd.DataFrame(tvec_lr_gs.best_estimator_.steps[1][1].coef_).T\n",
    "coefs.columns = ['coef']\n",
    "coefs['ngram'] = tvec_lr_gs.best_estimator_.steps[0][1].get_feature_names()\n",
    "coefs = coefs[['ngram','coef']]\n",
    "coefs = coefs.sort_values('coef', ascending=True)"
   ]
  },
  {
   "cell_type": "code",
   "execution_count": 173,
   "id": "a514e3a5",
   "metadata": {},
   "outputs": [
    {
     "data": {
      "text/html": [
       "<div>\n",
       "<style scoped>\n",
       "    .dataframe tbody tr th:only-of-type {\n",
       "        vertical-align: middle;\n",
       "    }\n",
       "\n",
       "    .dataframe tbody tr th {\n",
       "        vertical-align: top;\n",
       "    }\n",
       "\n",
       "    .dataframe thead th {\n",
       "        text-align: right;\n",
       "    }\n",
       "</style>\n",
       "<table border=\"1\" class=\"dataframe\">\n",
       "  <thead>\n",
       "    <tr style=\"text-align: right;\">\n",
       "      <th></th>\n",
       "      <th>ngram</th>\n",
       "      <th>coef</th>\n",
       "    </tr>\n",
       "  </thead>\n",
       "  <tbody>\n",
       "    <tr>\n",
       "      <th>16968</th>\n",
       "      <td>zoom meeting</td>\n",
       "      <td>2.444607</td>\n",
       "    </tr>\n",
       "    <tr>\n",
       "      <th>11544</th>\n",
       "      <td>removed</td>\n",
       "      <td>2.492460</td>\n",
       "    </tr>\n",
       "    <tr>\n",
       "      <th>16251</th>\n",
       "      <td>webinar</td>\n",
       "      <td>2.744462</td>\n",
       "    </tr>\n",
       "    <tr>\n",
       "      <th>5859</th>\n",
       "      <td>host</td>\n",
       "      <td>5.031506</td>\n",
       "    </tr>\n",
       "    <tr>\n",
       "      <th>16796</th>\n",
       "      <td>zoom</td>\n",
       "      <td>18.742181</td>\n",
       "    </tr>\n",
       "  </tbody>\n",
       "</table>\n",
       "</div>"
      ],
      "text/plain": [
       "              ngram       coef\n",
       "16968  zoom meeting   2.444607\n",
       "11544       removed   2.492460\n",
       "16251       webinar   2.744462\n",
       "5859           host   5.031506\n",
       "16796          zoom  18.742181"
      ]
     },
     "execution_count": 173,
     "metadata": {},
     "output_type": "execute_result"
    }
   ],
   "source": [
    "coefs.tail()"
   ]
  },
  {
   "cell_type": "code",
   "execution_count": 175,
   "id": "8acf58bf",
   "metadata": {},
   "outputs": [
    {
     "data": {
      "text/html": [
       "<div>\n",
       "<style scoped>\n",
       "    .dataframe tbody tr th:only-of-type {\n",
       "        vertical-align: middle;\n",
       "    }\n",
       "\n",
       "    .dataframe tbody tr th {\n",
       "        vertical-align: top;\n",
       "    }\n",
       "\n",
       "    .dataframe thead th {\n",
       "        text-align: right;\n",
       "    }\n",
       "</style>\n",
       "<table border=\"1\" class=\"dataframe\">\n",
       "  <thead>\n",
       "    <tr style=\"text-align: right;\">\n",
       "      <th></th>\n",
       "      <th>ngram</th>\n",
       "      <th>coef</th>\n",
       "    </tr>\n",
       "  </thead>\n",
       "  <tbody>\n",
       "    <tr>\n",
       "      <th>13765</th>\n",
       "      <td>teams</td>\n",
       "      <td>-18.400196</td>\n",
       "    </tr>\n",
       "    <tr>\n",
       "      <th>8783</th>\n",
       "      <td>microsoft</td>\n",
       "      <td>-5.961916</td>\n",
       "    </tr>\n",
       "    <tr>\n",
       "      <th>13682</th>\n",
       "      <td>team</td>\n",
       "      <td>-4.810202</td>\n",
       "    </tr>\n",
       "    <tr>\n",
       "      <th>9037</th>\n",
       "      <td>ms</td>\n",
       "      <td>-3.585665</td>\n",
       "    </tr>\n",
       "    <tr>\n",
       "      <th>2033</th>\n",
       "      <td>channel</td>\n",
       "      <td>-2.691074</td>\n",
       "    </tr>\n",
       "  </tbody>\n",
       "</table>\n",
       "</div>"
      ],
      "text/plain": [
       "           ngram       coef\n",
       "13765      teams -18.400196\n",
       "8783   microsoft  -5.961916\n",
       "13682       team  -4.810202\n",
       "9037          ms  -3.585665\n",
       "2033     channel  -2.691074"
      ]
     },
     "execution_count": 175,
     "metadata": {},
     "output_type": "execute_result"
    }
   ],
   "source": [
    "coefs.head()"
   ]
  },
  {
   "cell_type": "markdown",
   "id": "5aabef2b",
   "metadata": {},
   "source": [
    "Since I have picked is_zoom = 1 as the label to indicate the posting is Zoom related and conversely is_zoom = 0 to be Microsoft Teams related, the bigger the positive coefficient of a feature, the more the model would predict the posting to be Zoom related.  This can be observed in the above listing.  And vice versa, the more negative the coefficent, it would weights the features towards predicting Microsoft Team related posting."
   ]
  },
  {
   "cell_type": "code",
   "execution_count": 176,
   "id": "c9b83686",
   "metadata": {},
   "outputs": [],
   "source": [
    "top_zoom_coefs = coefs.tail(20).sort_values(by='coef', ascending=False).reset_index(drop=True)"
   ]
  },
  {
   "cell_type": "code",
   "execution_count": 179,
   "id": "2b339d68",
   "metadata": {},
   "outputs": [
    {
     "data": {
      "image/png": "[encoded data removed]",
      "text/plain": [
       "<Figure size 720x720 with 1 Axes>"
      ]
     },
     "metadata": {
      "needs_background": "light"
     },
     "output_type": "display_data"
    }
   ],
   "source": [
    "plt.figure(figsize=(10,10))\n",
    "sns.barplot(data=top_zoom_coefs, x=top_zoom_coefs['coef'], y='ngram', palette='Blues_r')\n",
    "plt.ylabel('')\n",
    "plt.title('Top 20 Ngram Features Correlated with r/Zoom', fontsize=20);"
   ]
  },
  {
   "cell_type": "markdown",
   "id": "dc8cca5d",
   "metadata": {},
   "source": [
    "Actually, these strong features didn't come as a surprise since we saw them in our earlier analysis for top Ngram.  And obviously with the appearance of words like \"zoom\", the model would pick it up and classify it as zoom related posting.  But later on in our analysis, this also proves to have created fair bit of false positive."
   ]
  },
  {
   "cell_type": "code",
   "execution_count": 180,
   "id": "da49b06f",
   "metadata": {},
   "outputs": [],
   "source": [
    "top_team_coefs = coefs.head(20).sort_values(by='coef', ascending=False).reset_index(drop=True)"
   ]
  },
  {
   "cell_type": "code",
   "execution_count": 181,
   "id": "ea7757c9",
   "metadata": {},
   "outputs": [
    {
     "data": {
      "image/png": "[encoded data removed]",
      "text/plain": [
       "<Figure size 720x720 with 1 Axes>"
      ]
     },
     "metadata": {
      "needs_background": "light"
     },
     "output_type": "display_data"
    }
   ],
   "source": [
    "plt.figure(figsize=(10,10))\n",
    "sns.barplot(data=top_team_coefs, x=top_team_coefs['coef'], y='ngram', palette='OrRd_r')\n",
    "plt.ylabel('')\n",
    "plt.title('Top 20 Ngrams Features Correlated with r/MicrosoftTeams', fontsize=20);"
   ]
  },
  {
   "cell_type": "markdown",
   "id": "1b82470d",
   "metadata": {},
   "source": [
    "Similar comment as above.  Next, let do some \"digging\" to see the actual predicted result and what are the main cause behind for the model to perform less than ideal, like having false positives."
   ]
  },
  {
   "cell_type": "code",
   "execution_count": 189,
   "id": "6e961e6e",
   "metadata": {},
   "outputs": [],
   "source": [
    "predictions = pd.DataFrame(tvec_lr_gs.predict_proba(X))"
   ]
  },
  {
   "cell_type": "code",
   "execution_count": 190,
   "id": "eb4b06d4",
   "metadata": {},
   "outputs": [
    {
     "data": {
      "text/html": [
       "<div>\n",
       "<style scoped>\n",
       "    .dataframe tbody tr th:only-of-type {\n",
       "        vertical-align: middle;\n",
       "    }\n",
       "\n",
       "    .dataframe tbody tr th {\n",
       "        vertical-align: top;\n",
       "    }\n",
       "\n",
       "    .dataframe thead th {\n",
       "        text-align: right;\n",
       "    }\n",
       "</style>\n",
       "<table border=\"1\" class=\"dataframe\">\n",
       "  <thead>\n",
       "    <tr style=\"text-align: right;\">\n",
       "      <th></th>\n",
       "      <th>0</th>\n",
       "      <th>1</th>\n",
       "    </tr>\n",
       "  </thead>\n",
       "  <tbody>\n",
       "    <tr>\n",
       "      <th>0</th>\n",
       "      <td>0.076782</td>\n",
       "      <td>0.923218</td>\n",
       "    </tr>\n",
       "    <tr>\n",
       "      <th>1</th>\n",
       "      <td>0.013157</td>\n",
       "      <td>0.986843</td>\n",
       "    </tr>\n",
       "    <tr>\n",
       "      <th>2</th>\n",
       "      <td>0.013157</td>\n",
       "      <td>0.986843</td>\n",
       "    </tr>\n",
       "    <tr>\n",
       "      <th>3</th>\n",
       "      <td>0.519717</td>\n",
       "      <td>0.480283</td>\n",
       "    </tr>\n",
       "    <tr>\n",
       "      <th>4</th>\n",
       "      <td>0.239795</td>\n",
       "      <td>0.760205</td>\n",
       "    </tr>\n",
       "  </tbody>\n",
       "</table>\n",
       "</div>"
      ],
      "text/plain": [
       "          0         1\n",
       "0  0.076782  0.923218\n",
       "1  0.013157  0.986843\n",
       "2  0.013157  0.986843\n",
       "3  0.519717  0.480283\n",
       "4  0.239795  0.760205"
      ]
     },
     "execution_count": 190,
     "metadata": {},
     "output_type": "execute_result"
    }
   ],
   "source": [
    "predictions.head()"
   ]
  },
  {
   "cell_type": "code",
   "execution_count": 194,
   "id": "e0741f23",
   "metadata": {},
   "outputs": [
    {
     "data": {
      "text/plain": [
       "0       new zoom discord got taken down at  ppl share ...\n",
       "1                            join zoom discord           \n",
       "2                               join zoom discord        \n",
       "3       how do i use prerecorded footage as my video a...\n",
       "4       how to separately adjust output audio is there...\n",
       "                              ...                        \n",
       "6907    any idea why every time when my teacher shares...\n",
       "6908    is microsoft server down edge takes time to lo...\n",
       "6909    whats new in microsoft teams  top new features...\n",
       "6910    outlook contacts sync  just main contacts fold...\n",
       "6911    catch the mf who keeps sharing the meeting lin...\n",
       "Name: title_selftext, Length: 17031, dtype: object"
      ]
     },
     "execution_count": 194,
     "metadata": {},
     "output_type": "execute_result"
    }
   ],
   "source": [
    "combined_post['title_selftext']"
   ]
  },
  {
   "cell_type": "code",
   "execution_count": 197,
   "id": "ebe3522f",
   "metadata": {},
   "outputs": [],
   "source": [
    "predictions.columns = ['team', 'zoom']"
   ]
  },
  {
   "cell_type": "code",
   "execution_count": 199,
   "id": "e21ccd69",
   "metadata": {},
   "outputs": [
    {
     "data": {
      "text/plain": [
       "team    17031\n",
       "zoom    17031\n",
       "dtype: int64"
      ]
     },
     "execution_count": 199,
     "metadata": {},
     "output_type": "execute_result"
    }
   ],
   "source": [
    "predictions.count()"
   ]
  },
  {
   "cell_type": "code",
   "execution_count": 212,
   "id": "1c39bc06",
   "metadata": {},
   "outputs": [],
   "source": [
    "predictions.insert(0, 'New_ID', range(0, len(predictions)))"
   ]
  },
  {
   "cell_type": "code",
   "execution_count": 213,
   "id": "b093ff98",
   "metadata": {},
   "outputs": [
    {
     "data": {
      "text/html": [
       "<div>\n",
       "<style scoped>\n",
       "    .dataframe tbody tr th:only-of-type {\n",
       "        vertical-align: middle;\n",
       "    }\n",
       "\n",
       "    .dataframe tbody tr th {\n",
       "        vertical-align: top;\n",
       "    }\n",
       "\n",
       "    .dataframe thead th {\n",
       "        text-align: right;\n",
       "    }\n",
       "</style>\n",
       "<table border=\"1\" class=\"dataframe\">\n",
       "  <thead>\n",
       "    <tr style=\"text-align: right;\">\n",
       "      <th></th>\n",
       "      <th>New_ID</th>\n",
       "      <th>team</th>\n",
       "      <th>zoom</th>\n",
       "    </tr>\n",
       "  </thead>\n",
       "  <tbody>\n",
       "    <tr>\n",
       "      <th>0</th>\n",
       "      <td>0</td>\n",
       "      <td>0.076782</td>\n",
       "      <td>0.923218</td>\n",
       "    </tr>\n",
       "    <tr>\n",
       "      <th>1</th>\n",
       "      <td>1</td>\n",
       "      <td>0.013157</td>\n",
       "      <td>0.986843</td>\n",
       "    </tr>\n",
       "    <tr>\n",
       "      <th>2</th>\n",
       "      <td>2</td>\n",
       "      <td>0.013157</td>\n",
       "      <td>0.986843</td>\n",
       "    </tr>\n",
       "    <tr>\n",
       "      <th>3</th>\n",
       "      <td>3</td>\n",
       "      <td>0.519717</td>\n",
       "      <td>0.480283</td>\n",
       "    </tr>\n",
       "    <tr>\n",
       "      <th>4</th>\n",
       "      <td>4</td>\n",
       "      <td>0.239795</td>\n",
       "      <td>0.760205</td>\n",
       "    </tr>\n",
       "  </tbody>\n",
       "</table>\n",
       "</div>"
      ],
      "text/plain": [
       "   New_ID      team      zoom\n",
       "0       0  0.076782  0.923218\n",
       "1       1  0.013157  0.986843\n",
       "2       2  0.013157  0.986843\n",
       "3       3  0.519717  0.480283\n",
       "4       4  0.239795  0.760205"
      ]
     },
     "execution_count": 213,
     "metadata": {},
     "output_type": "execute_result"
    }
   ],
   "source": [
    "predictions.head()"
   ]
  },
  {
   "cell_type": "code",
   "execution_count": 214,
   "id": "beb6a388",
   "metadata": {},
   "outputs": [],
   "source": [
    "combined_post.insert(0, 'New_ID', range(0, len(combined_post)))"
   ]
  },
  {
   "cell_type": "code",
   "execution_count": 215,
   "id": "06519d17",
   "metadata": {},
   "outputs": [],
   "source": [
    "merge_df = pd.merge(predictions, combined_post)"
   ]
  },
  {
   "cell_type": "code",
   "execution_count": 216,
   "id": "af8bbf65",
   "metadata": {},
   "outputs": [
    {
     "data": {
      "text/html": [
       "<div>\n",
       "<style scoped>\n",
       "    .dataframe tbody tr th:only-of-type {\n",
       "        vertical-align: middle;\n",
       "    }\n",
       "\n",
       "    .dataframe tbody tr th {\n",
       "        vertical-align: top;\n",
       "    }\n",
       "\n",
       "    .dataframe thead th {\n",
       "        text-align: right;\n",
       "    }\n",
       "</style>\n",
       "<table border=\"1\" class=\"dataframe\">\n",
       "  <thead>\n",
       "    <tr style=\"text-align: right;\">\n",
       "      <th></th>\n",
       "      <th>New_ID</th>\n",
       "      <th>team</th>\n",
       "      <th>zoom</th>\n",
       "      <th>date</th>\n",
       "      <th>title</th>\n",
       "      <th>selftext</th>\n",
       "      <th>is_self</th>\n",
       "      <th>upvotes</th>\n",
       "      <th>upvote_ratio</th>\n",
       "      <th>n_comments</th>\n",
       "      <th>permalink</th>\n",
       "      <th>author</th>\n",
       "      <th>title_clean</th>\n",
       "      <th>selftext_clean</th>\n",
       "      <th>title_selftext</th>\n",
       "      <th>lem_title</th>\n",
       "      <th>lem_selftext</th>\n",
       "      <th>lem_title_selftext</th>\n",
       "      <th>is_zoom</th>\n",
       "    </tr>\n",
       "  </thead>\n",
       "  <tbody>\n",
       "    <tr>\n",
       "      <th>0</th>\n",
       "      <td>0</td>\n",
       "      <td>0.076782</td>\n",
       "      <td>0.923218</td>\n",
       "      <td>2020-04-02 08:17:08</td>\n",
       "      <td>(new) ZOOM Discord got taken down at +500 ppl ...</td>\n",
       "      <td>[https://discord.gg/EfQWuE3](https://discord.g...</td>\n",
       "      <td>1.0</td>\n",
       "      <td>1.0</td>\n",
       "      <td>NaN</td>\n",
       "      <td>0.0</td>\n",
       "      <td>/r/Zoom/comments/ftbzmh/new_zoom_discord_got_t...</td>\n",
       "      <td>Not_Fearr</td>\n",
       "      <td>new zoom discord got taken down at  ppl share ...</td>\n",
       "      <td></td>\n",
       "      <td>new zoom discord got taken down at  ppl share ...</td>\n",
       "      <td>new zoom discord got taken  ppl share</td>\n",
       "      <td></td>\n",
       "      <td>new zoom discord got taken  ppl share</td>\n",
       "      <td>1</td>\n",
       "    </tr>\n",
       "    <tr>\n",
       "      <th>1</th>\n",
       "      <td>1</td>\n",
       "      <td>0.013157</td>\n",
       "      <td>0.986843</td>\n",
       "      <td>2020-04-02 08:34:15</td>\n",
       "      <td>JOIN ZOOM DISCORD</td>\n",
       "      <td>[https://discord.gg/EfQWuE3](https://discord.g...</td>\n",
       "      <td>1.0</td>\n",
       "      <td>1.0</td>\n",
       "      <td>NaN</td>\n",
       "      <td>0.0</td>\n",
       "      <td>/r/Zoom/comments/ftca3f/join_zoom_discord/</td>\n",
       "      <td>Not_Fearr</td>\n",
       "      <td>join zoom discord</td>\n",
       "      <td></td>\n",
       "      <td>join zoom discord</td>\n",
       "      <td>join zoom discord</td>\n",
       "      <td></td>\n",
       "      <td>join zoom discord</td>\n",
       "      <td>1</td>\n",
       "    </tr>\n",
       "    <tr>\n",
       "      <th>2</th>\n",
       "      <td>2</td>\n",
       "      <td>0.013157</td>\n",
       "      <td>0.986843</td>\n",
       "      <td>2020-04-02 08:36:03</td>\n",
       "      <td>join zoom discord</td>\n",
       "      <td>[https://discord.gg/EfQWuE3](https://discord.g...</td>\n",
       "      <td>1.0</td>\n",
       "      <td>1.0</td>\n",
       "      <td>NaN</td>\n",
       "      <td>1.0</td>\n",
       "      <td>/r/Zoom/comments/ftcb3a/join_zoom_discord/</td>\n",
       "      <td>Not_Fearr</td>\n",
       "      <td>join zoom discord</td>\n",
       "      <td></td>\n",
       "      <td>join zoom discord</td>\n",
       "      <td>join zoom discord</td>\n",
       "      <td></td>\n",
       "      <td>join zoom discord</td>\n",
       "      <td>1</td>\n",
       "    </tr>\n",
       "    <tr>\n",
       "      <th>3</th>\n",
       "      <td>3</td>\n",
       "      <td>0.519717</td>\n",
       "      <td>0.480283</td>\n",
       "      <td>2020-04-02 08:59:49</td>\n",
       "      <td>How do I use prerecorded footage as my video?</td>\n",
       "      <td>Also does anyone have any good source of front...</td>\n",
       "      <td>1.0</td>\n",
       "      <td>1.0</td>\n",
       "      <td>NaN</td>\n",
       "      <td>7.0</td>\n",
       "      <td>/r/Zoom/comments/ftcp3h/how_do_i_use_prerecord...</td>\n",
       "      <td>Mememan054</td>\n",
       "      <td>how do i use prerecorded footage as my video</td>\n",
       "      <td>also does anyone have any good source of front...</td>\n",
       "      <td>how do i use prerecorded footage as my video a...</td>\n",
       "      <td>use prerecorded footage video</td>\n",
       "      <td>doe good source cam footage use pretend paying...</td>\n",
       "      <td>use prerecorded footage video doe good source ...</td>\n",
       "      <td>1</td>\n",
       "    </tr>\n",
       "    <tr>\n",
       "      <th>4</th>\n",
       "      <td>4</td>\n",
       "      <td>0.239795</td>\n",
       "      <td>0.760205</td>\n",
       "      <td>2020-04-02 09:13:59</td>\n",
       "      <td>How to separately adjust output audio?</td>\n",
       "      <td>Is there a way to adjust Zoom’s output volume,...</td>\n",
       "      <td>1.0</td>\n",
       "      <td>1.0</td>\n",
       "      <td>NaN</td>\n",
       "      <td>0.0</td>\n",
       "      <td>/r/Zoom/comments/ftcxf0/how_to_separately_adju...</td>\n",
       "      <td>demonroses</td>\n",
       "      <td>how to separately adjust output audio</td>\n",
       "      <td>is there a way to adjust zooms output volume s...</td>\n",
       "      <td>how to separately adjust output audio is there...</td>\n",
       "      <td>separately adjust output audio</td>\n",
       "      <td>way adjust zoom output volume separate laptop ...</td>\n",
       "      <td>separately adjust output audio way adjust zoom...</td>\n",
       "      <td>1</td>\n",
       "    </tr>\n",
       "  </tbody>\n",
       "</table>\n",
       "</div>"
      ],
      "text/plain": [
       "   New_ID      team      zoom                 date  \\\n",
       "0       0  0.076782  0.923218  2020-04-02 08:17:08   \n",
       "1       1  0.013157  0.986843  2020-04-02 08:34:15   \n",
       "2       2  0.013157  0.986843  2020-04-02 08:36:03   \n",
       "3       3  0.519717  0.480283  2020-04-02 08:59:49   \n",
       "4       4  0.239795  0.760205  2020-04-02 09:13:59   \n",
       "\n",
       "                                               title  \\\n",
       "0  (new) ZOOM Discord got taken down at +500 ppl ...   \n",
       "1                                  JOIN ZOOM DISCORD   \n",
       "2                                  join zoom discord   \n",
       "3      How do I use prerecorded footage as my video?   \n",
       "4             How to separately adjust output audio?   \n",
       "\n",
       "                                            selftext  is_self  upvotes  \\\n",
       "0  [https://discord.gg/EfQWuE3](https://discord.g...      1.0      1.0   \n",
       "1  [https://discord.gg/EfQWuE3](https://discord.g...      1.0      1.0   \n",
       "2  [https://discord.gg/EfQWuE3](https://discord.g...      1.0      1.0   \n",
       "3  Also does anyone have any good source of front...      1.0      1.0   \n",
       "4  Is there a way to adjust Zoom’s output volume,...      1.0      1.0   \n",
       "\n",
       "   upvote_ratio  n_comments  \\\n",
       "0           NaN         0.0   \n",
       "1           NaN         0.0   \n",
       "2           NaN         1.0   \n",
       "3           NaN         7.0   \n",
       "4           NaN         0.0   \n",
       "\n",
       "                                           permalink      author  \\\n",
       "0  /r/Zoom/comments/ftbzmh/new_zoom_discord_got_t...   Not_Fearr   \n",
       "1         /r/Zoom/comments/ftca3f/join_zoom_discord/   Not_Fearr   \n",
       "2         /r/Zoom/comments/ftcb3a/join_zoom_discord/   Not_Fearr   \n",
       "3  /r/Zoom/comments/ftcp3h/how_do_i_use_prerecord...  Mememan054   \n",
       "4  /r/Zoom/comments/ftcxf0/how_to_separately_adju...  demonroses   \n",
       "\n",
       "                                         title_clean  \\\n",
       "0  new zoom discord got taken down at  ppl share ...   \n",
       "1                                  join zoom discord   \n",
       "2                                  join zoom discord   \n",
       "3       how do i use prerecorded footage as my video   \n",
       "4              how to separately adjust output audio   \n",
       "\n",
       "                                      selftext_clean  \\\n",
       "0                                                      \n",
       "1                                                      \n",
       "2                                                      \n",
       "3  also does anyone have any good source of front...   \n",
       "4  is there a way to adjust zooms output volume s...   \n",
       "\n",
       "                                      title_selftext  \\\n",
       "0  new zoom discord got taken down at  ppl share ...   \n",
       "1                       join zoom discord              \n",
       "2                          join zoom discord           \n",
       "3  how do i use prerecorded footage as my video a...   \n",
       "4  how to separately adjust output audio is there...   \n",
       "\n",
       "                               lem_title  \\\n",
       "0  new zoom discord got taken  ppl share   \n",
       "1                      join zoom discord   \n",
       "2                      join zoom discord   \n",
       "3          use prerecorded footage video   \n",
       "4         separately adjust output audio   \n",
       "\n",
       "                                        lem_selftext  \\\n",
       "0                                                      \n",
       "1                                                      \n",
       "2                                                      \n",
       "3  doe good source cam footage use pretend paying...   \n",
       "4  way adjust zoom output volume separate laptop ...   \n",
       "\n",
       "                                  lem_title_selftext  is_zoom  \n",
       "0   new zoom discord got taken  ppl share                   1  \n",
       "1                       join zoom discord                   1  \n",
       "2                          join zoom discord                1  \n",
       "3  use prerecorded footage video doe good source ...        1  \n",
       "4  separately adjust output audio way adjust zoom...        1  "
      ]
     },
     "execution_count": 216,
     "metadata": {},
     "output_type": "execute_result"
    }
   ],
   "source": [
    "merge_df.head()"
   ]
  },
  {
   "cell_type": "code",
   "execution_count": 219,
   "id": "88c6431d",
   "metadata": {},
   "outputs": [],
   "source": [
    "interested_df = merge_df[['team', 'zoom', 'title_selftext']]"
   ]
  },
  {
   "cell_type": "markdown",
   "id": "a9ad23b0",
   "metadata": {},
   "source": [
    "After creating these dataframe, we can do further analysis on some of the false positive cases to assess the model limitation."
   ]
  },
  {
   "cell_type": "code",
   "execution_count": 220,
   "id": "19cdee7a",
   "metadata": {},
   "outputs": [
    {
     "data": {
      "text/html": [
       "<div>\n",
       "<style scoped>\n",
       "    .dataframe tbody tr th:only-of-type {\n",
       "        vertical-align: middle;\n",
       "    }\n",
       "\n",
       "    .dataframe tbody tr th {\n",
       "        vertical-align: top;\n",
       "    }\n",
       "\n",
       "    .dataframe thead th {\n",
       "        text-align: right;\n",
       "    }\n",
       "</style>\n",
       "<table border=\"1\" class=\"dataframe\">\n",
       "  <thead>\n",
       "    <tr style=\"text-align: right;\">\n",
       "      <th></th>\n",
       "      <th>team</th>\n",
       "      <th>zoom</th>\n",
       "      <th>title_selftext</th>\n",
       "    </tr>\n",
       "  </thead>\n",
       "  <tbody>\n",
       "    <tr>\n",
       "      <th>3547</th>\n",
       "      <td>6.682132e-09</td>\n",
       "      <td>1.0</td>\n",
       "      <td>if zoom was invented in</td>\n",
       "    </tr>\n",
       "    <tr>\n",
       "      <th>7312</th>\n",
       "      <td>6.682132e-09</td>\n",
       "      <td>1.0</td>\n",
       "      <td>my zoom</td>\n",
       "    </tr>\n",
       "    <tr>\n",
       "      <th>38</th>\n",
       "      <td>6.682132e-09</td>\n",
       "      <td>1.0</td>\n",
       "      <td>zoom</td>\n",
       "    </tr>\n",
       "    <tr>\n",
       "      <th>9223</th>\n",
       "      <td>6.682132e-09</td>\n",
       "      <td>1.0</td>\n",
       "      <td>masturbating on zoom whose in</td>\n",
       "    </tr>\n",
       "    <tr>\n",
       "      <th>2459</th>\n",
       "      <td>6.682132e-09</td>\n",
       "      <td>1.0</td>\n",
       "      <td>zoom calll</td>\n",
       "    </tr>\n",
       "    <tr>\n",
       "      <th>9220</th>\n",
       "      <td>6.682132e-09</td>\n",
       "      <td>1.0</td>\n",
       "      <td>zoom paradox</td>\n",
       "    </tr>\n",
       "    <tr>\n",
       "      <th>8415</th>\n",
       "      <td>6.682132e-09</td>\n",
       "      <td>1.0</td>\n",
       "      <td>zoom lyfe</td>\n",
       "    </tr>\n",
       "    <tr>\n",
       "      <th>7717</th>\n",
       "      <td>6.682132e-09</td>\n",
       "      <td>1.0</td>\n",
       "      <td>olympus zoom call</td>\n",
       "    </tr>\n",
       "    <tr>\n",
       "      <th>4308</th>\n",
       "      <td>6.682132e-09</td>\n",
       "      <td>1.0</td>\n",
       "      <td>pasen clases zoom</td>\n",
       "    </tr>\n",
       "    <tr>\n",
       "      <th>10006</th>\n",
       "      <td>6.682132e-09</td>\n",
       "      <td>1.0</td>\n",
       "      <td>zoom snacking</td>\n",
       "    </tr>\n",
       "    <tr>\n",
       "      <th>4515</th>\n",
       "      <td>6.682132e-09</td>\n",
       "      <td>1.0</td>\n",
       "      <td>zoom u</td>\n",
       "    </tr>\n",
       "    <tr>\n",
       "      <th>5919</th>\n",
       "      <td>6.682132e-09</td>\n",
       "      <td>1.0</td>\n",
       "      <td>my zoom</td>\n",
       "    </tr>\n",
       "    <tr>\n",
       "      <th>6790</th>\n",
       "      <td>6.682132e-09</td>\n",
       "      <td>1.0</td>\n",
       "      <td>zoom in windings</td>\n",
       "    </tr>\n",
       "    <tr>\n",
       "      <th>7823</th>\n",
       "      <td>6.682132e-09</td>\n",
       "      <td>1.0</td>\n",
       "      <td>relatable zoom excuses</td>\n",
       "    </tr>\n",
       "    <tr>\n",
       "      <th>4601</th>\n",
       "      <td>6.682132e-09</td>\n",
       "      <td>1.0</td>\n",
       "      <td>reid zoom</td>\n",
       "    </tr>\n",
       "  </tbody>\n",
       "</table>\n",
       "</div>"
      ],
      "text/plain": [
       "               team  zoom                  title_selftext\n",
       "3547   6.682132e-09   1.0        if zoom was invented in \n",
       "7312   6.682132e-09   1.0                        my zoom \n",
       "38     6.682132e-09   1.0                           zoom \n",
       "9223   6.682132e-09   1.0  masturbating on zoom whose in \n",
       "2459   6.682132e-09   1.0                     zoom calll \n",
       "9220   6.682132e-09   1.0                   zoom paradox \n",
       "8415   6.682132e-09   1.0                      zoom lyfe \n",
       "7717   6.682132e-09   1.0              olympus zoom call \n",
       "4308   6.682132e-09   1.0              pasen clases zoom \n",
       "10006  6.682132e-09   1.0                  zoom snacking \n",
       "4515   6.682132e-09   1.0                         zoom u \n",
       "5919   6.682132e-09   1.0                        my zoom \n",
       "6790   6.682132e-09   1.0               zoom in windings \n",
       "7823   6.682132e-09   1.0         relatable zoom excuses \n",
       "4601   6.682132e-09   1.0                      reid zoom "
      ]
     },
     "execution_count": 220,
     "metadata": {},
     "output_type": "execute_result"
    }
   ],
   "source": [
    "interested_df.sort_values('zoom', ascending=False)[:15]"
   ]
  },
  {
   "cell_type": "code",
   "execution_count": 221,
   "id": "28847c70",
   "metadata": {},
   "outputs": [
    {
     "data": {
      "text/html": [
       "<div>\n",
       "<style scoped>\n",
       "    .dataframe tbody tr th:only-of-type {\n",
       "        vertical-align: middle;\n",
       "    }\n",
       "\n",
       "    .dataframe tbody tr th {\n",
       "        vertical-align: top;\n",
       "    }\n",
       "\n",
       "    .dataframe thead th {\n",
       "        text-align: right;\n",
       "    }\n",
       "</style>\n",
       "<table border=\"1\" class=\"dataframe\">\n",
       "  <thead>\n",
       "    <tr style=\"text-align: right;\">\n",
       "      <th></th>\n",
       "      <th>team</th>\n",
       "      <th>zoom</th>\n",
       "      <th>title_selftext</th>\n",
       "    </tr>\n",
       "  </thead>\n",
       "  <tbody>\n",
       "    <tr>\n",
       "      <th>9252</th>\n",
       "      <td>1.000000</td>\n",
       "      <td>1.107530e-08</td>\n",
       "      <td>teams</td>\n",
       "    </tr>\n",
       "    <tr>\n",
       "      <th>13014</th>\n",
       "      <td>0.999997</td>\n",
       "      <td>3.072535e-06</td>\n",
       "      <td>usgpro  bufferbloat  microsoft teams</td>\n",
       "    </tr>\n",
       "    <tr>\n",
       "      <th>15804</th>\n",
       "      <td>0.999997</td>\n",
       "      <td>3.072535e-06</td>\n",
       "      <td>microsoft teams and m</td>\n",
       "    </tr>\n",
       "    <tr>\n",
       "      <th>10321</th>\n",
       "      <td>0.999997</td>\n",
       "      <td>3.072535e-06</td>\n",
       "      <td>guia rpido atualizado  do microsoft teams</td>\n",
       "    </tr>\n",
       "    <tr>\n",
       "      <th>16172</th>\n",
       "      <td>0.999997</td>\n",
       "      <td>3.072535e-06</td>\n",
       "      <td>microsoft   teams  organizar canales con pestaas</td>\n",
       "    </tr>\n",
       "    <tr>\n",
       "      <th>16937</th>\n",
       "      <td>0.999942</td>\n",
       "      <td>5.799647e-05</td>\n",
       "      <td>outlook imzanza microsoft teams sohbet balants...</td>\n",
       "    </tr>\n",
       "    <tr>\n",
       "      <th>13806</th>\n",
       "      <td>0.999940</td>\n",
       "      <td>5.993049e-05</td>\n",
       "      <td>microsoft teams snip if i were to snip somethi...</td>\n",
       "    </tr>\n",
       "    <tr>\n",
       "      <th>10792</th>\n",
       "      <td>0.999917</td>\n",
       "      <td>8.284618e-05</td>\n",
       "      <td>ms teams down</td>\n",
       "    </tr>\n",
       "    <tr>\n",
       "      <th>11484</th>\n",
       "      <td>0.999917</td>\n",
       "      <td>8.284618e-05</td>\n",
       "      <td>ms teams remix</td>\n",
       "    </tr>\n",
       "    <tr>\n",
       "      <th>11147</th>\n",
       "      <td>0.999915</td>\n",
       "      <td>8.486265e-05</td>\n",
       "      <td>the team requesting app for microsoft teams mi...</td>\n",
       "    </tr>\n",
       "    <tr>\n",
       "      <th>16764</th>\n",
       "      <td>0.999855</td>\n",
       "      <td>1.448433e-04</td>\n",
       "      <td>how are people referring to their teams for th...</td>\n",
       "    </tr>\n",
       "    <tr>\n",
       "      <th>16197</th>\n",
       "      <td>0.999843</td>\n",
       "      <td>1.572831e-04</td>\n",
       "      <td>best appsintegrations for microsoft teams</td>\n",
       "    </tr>\n",
       "    <tr>\n",
       "      <th>15507</th>\n",
       "      <td>0.999826</td>\n",
       "      <td>1.739829e-04</td>\n",
       "      <td>microscoft teams teams for microsoft</td>\n",
       "    </tr>\n",
       "    <tr>\n",
       "      <th>11567</th>\n",
       "      <td>0.999745</td>\n",
       "      <td>2.549244e-04</td>\n",
       "      <td>teams and skype interoperability  microsoft te...</td>\n",
       "    </tr>\n",
       "    <tr>\n",
       "      <th>10366</th>\n",
       "      <td>0.999709</td>\n",
       "      <td>2.906693e-04</td>\n",
       "      <td>if microsoft teams came out in</td>\n",
       "    </tr>\n",
       "  </tbody>\n",
       "</table>\n",
       "</div>"
      ],
      "text/plain": [
       "           team          zoom  \\\n",
       "9252   1.000000  1.107530e-08   \n",
       "13014  0.999997  3.072535e-06   \n",
       "15804  0.999997  3.072535e-06   \n",
       "10321  0.999997  3.072535e-06   \n",
       "16172  0.999997  3.072535e-06   \n",
       "16937  0.999942  5.799647e-05   \n",
       "13806  0.999940  5.993049e-05   \n",
       "10792  0.999917  8.284618e-05   \n",
       "11484  0.999917  8.284618e-05   \n",
       "11147  0.999915  8.486265e-05   \n",
       "16764  0.999855  1.448433e-04   \n",
       "16197  0.999843  1.572831e-04   \n",
       "15507  0.999826  1.739829e-04   \n",
       "11567  0.999745  2.549244e-04   \n",
       "10366  0.999709  2.906693e-04   \n",
       "\n",
       "                                          title_selftext  \n",
       "9252                                              teams   \n",
       "13014              usgpro  bufferbloat  microsoft teams   \n",
       "15804                             microsoft teams and m   \n",
       "10321       guia rpido atualizado  do microsoft teams     \n",
       "16172  microsoft   teams  organizar canales con pestaas   \n",
       "16937  outlook imzanza microsoft teams sohbet balants...  \n",
       "13806  microsoft teams snip if i were to snip somethi...  \n",
       "10792                                     ms teams down   \n",
       "11484                                    ms teams remix   \n",
       "11147  the team requesting app for microsoft teams mi...  \n",
       "16764  how are people referring to their teams for th...  \n",
       "16197         best appsintegrations for microsoft teams   \n",
       "15507               microscoft teams teams for microsoft  \n",
       "11567  teams and skype interoperability  microsoft te...  \n",
       "10366                    if microsoft teams came out in   "
      ]
     },
     "execution_count": 221,
     "metadata": {},
     "output_type": "execute_result"
    }
   ],
   "source": [
    "interested_df.sort_values('team', ascending=False)[:15]"
   ]
  },
  {
   "cell_type": "markdown",
   "id": "37a23ed4",
   "metadata": {},
   "source": [
    "I want to filter off all the false positive cases here for zoom and do further analysis.  We can easily see that the list are posting from Team subreddit."
   ]
  },
  {
   "cell_type": "code",
   "execution_count": 223,
   "id": "c1654d10",
   "metadata": {},
   "outputs": [
    {
     "data": {
      "text/html": [
       "<div>\n",
       "<style scoped>\n",
       "    .dataframe tbody tr th:only-of-type {\n",
       "        vertical-align: middle;\n",
       "    }\n",
       "\n",
       "    .dataframe tbody tr th {\n",
       "        vertical-align: top;\n",
       "    }\n",
       "\n",
       "    .dataframe thead th {\n",
       "        text-align: right;\n",
       "    }\n",
       "</style>\n",
       "<table border=\"1\" class=\"dataframe\">\n",
       "  <thead>\n",
       "    <tr style=\"text-align: right;\">\n",
       "      <th></th>\n",
       "      <th>New_ID</th>\n",
       "      <th>team</th>\n",
       "      <th>zoom</th>\n",
       "      <th>date</th>\n",
       "      <th>title</th>\n",
       "      <th>selftext</th>\n",
       "      <th>is_self</th>\n",
       "      <th>upvotes</th>\n",
       "      <th>upvote_ratio</th>\n",
       "      <th>n_comments</th>\n",
       "      <th>permalink</th>\n",
       "      <th>author</th>\n",
       "      <th>title_clean</th>\n",
       "      <th>selftext_clean</th>\n",
       "      <th>title_selftext</th>\n",
       "      <th>lem_title</th>\n",
       "      <th>lem_selftext</th>\n",
       "      <th>lem_title_selftext</th>\n",
       "      <th>is_zoom</th>\n",
       "    </tr>\n",
       "  </thead>\n",
       "  <tbody>\n",
       "    <tr>\n",
       "      <th>11337</th>\n",
       "      <td>11337</td>\n",
       "      <td>0.070823</td>\n",
       "      <td>0.929177</td>\n",
       "      <td>2020-05-29 21:53:32</td>\n",
       "      <td>Brazil is the same</td>\n",
       "      <td>[removed]</td>\n",
       "      <td>1.0</td>\n",
       "      <td>1.0</td>\n",
       "      <td>1.0</td>\n",
       "      <td>0.0</td>\n",
       "      <td>/r/MicrosoftTeams/comments/gsteq6/brazil_is_th...</td>\n",
       "      <td>ThenBit6</td>\n",
       "      <td>brazil is the same</td>\n",
       "      <td>removed</td>\n",
       "      <td>brazil is the same removed</td>\n",
       "      <td>brazil</td>\n",
       "      <td>removed</td>\n",
       "      <td>brazil removed</td>\n",
       "      <td>0</td>\n",
       "    </tr>\n",
       "    <tr>\n",
       "      <th>11692</th>\n",
       "      <td>11692</td>\n",
       "      <td>0.143168</td>\n",
       "      <td>0.856832</td>\n",
       "      <td>2020-06-19 12:26:37</td>\n",
       "      <td>join</td>\n",
       "      <td>[removed]</td>\n",
       "      <td>1.0</td>\n",
       "      <td>1.0</td>\n",
       "      <td>1.0</td>\n",
       "      <td>0.0</td>\n",
       "      <td>/r/MicrosoftTeams/comments/hbu1lh/join/</td>\n",
       "      <td>Wonderful-Ad696</td>\n",
       "      <td>join</td>\n",
       "      <td>removed</td>\n",
       "      <td>join removed</td>\n",
       "      <td>join</td>\n",
       "      <td>removed</td>\n",
       "      <td>join removed</td>\n",
       "      <td>0</td>\n",
       "    </tr>\n",
       "    <tr>\n",
       "      <th>12009</th>\n",
       "      <td>12009</td>\n",
       "      <td>0.020413</td>\n",
       "      <td>0.979587</td>\n",
       "      <td>2020-07-13 00:50:31</td>\n",
       "      <td>Zoom Webhook</td>\n",
       "      <td></td>\n",
       "      <td>0.0</td>\n",
       "      <td>1.0</td>\n",
       "      <td>1.0</td>\n",
       "      <td>1.0</td>\n",
       "      <td>/r/MicrosoftTeams/comments/hpxkmu/zoom_webhook/</td>\n",
       "      <td>risurina03</td>\n",
       "      <td>zoom webhook</td>\n",
       "      <td></td>\n",
       "      <td>zoom webhook</td>\n",
       "      <td>zoom webhook</td>\n",
       "      <td></td>\n",
       "      <td>zoom webhook</td>\n",
       "      <td>0</td>\n",
       "    </tr>\n",
       "    <tr>\n",
       "      <th>12721</th>\n",
       "      <td>12721</td>\n",
       "      <td>0.137337</td>\n",
       "      <td>0.862663</td>\n",
       "      <td>2020-08-27 14:56:37</td>\n",
       "      <td>Is the teacher able to see what’s happening in...</td>\n",
       "      <td></td>\n",
       "      <td>1.0</td>\n",
       "      <td>1.0</td>\n",
       "      <td>1.0</td>\n",
       "      <td>4.0</td>\n",
       "      <td>/r/MicrosoftTeams/comments/ihgbej/is_the_teach...</td>\n",
       "      <td>therottentomatoes</td>\n",
       "      <td>is the teacher able to see whats happening in ...</td>\n",
       "      <td></td>\n",
       "      <td>is the teacher able to see whats happening in ...</td>\n",
       "      <td>teacher able whats happening breakout room rec...</td>\n",
       "      <td></td>\n",
       "      <td>teacher able whats happening breakout room rec...</td>\n",
       "      <td>0</td>\n",
       "    </tr>\n",
       "    <tr>\n",
       "      <th>12822</th>\n",
       "      <td>12822</td>\n",
       "      <td>0.088904</td>\n",
       "      <td>0.911096</td>\n",
       "      <td>2020-09-02 16:31:52</td>\n",
       "      <td>Zoom should apply to content, not the GUI!</td>\n",
       "      <td></td>\n",
       "      <td>0.0</td>\n",
       "      <td>1.0</td>\n",
       "      <td>1.0</td>\n",
       "      <td>27.0</td>\n",
       "      <td>/r/MicrosoftTeams/comments/il30rb/zoom_should_...</td>\n",
       "      <td>Ysundere</td>\n",
       "      <td>zoom should apply to content not the gui</td>\n",
       "      <td></td>\n",
       "      <td>zoom should apply to content not the gui</td>\n",
       "      <td>zoom apply content gui</td>\n",
       "      <td></td>\n",
       "      <td>zoom apply content gui</td>\n",
       "      <td>0</td>\n",
       "    </tr>\n",
       "    <tr>\n",
       "      <th>13024</th>\n",
       "      <td>13024</td>\n",
       "      <td>0.118802</td>\n",
       "      <td>0.881198</td>\n",
       "      <td>2020-09-12 06:03:21</td>\n",
       "      <td>Background</td>\n",
       "      <td>Can you put a virtual background in a video ca...</td>\n",
       "      <td>1.0</td>\n",
       "      <td>1.0</td>\n",
       "      <td>1.0</td>\n",
       "      <td>1.0</td>\n",
       "      <td>/r/MicrosoftTeams/comments/ir0b51/background/</td>\n",
       "      <td>teapot555</td>\n",
       "      <td>background</td>\n",
       "      <td>can you put a virtual background in a video ca...</td>\n",
       "      <td>background can you put a virtual background in...</td>\n",
       "      <td>background</td>\n",
       "      <td>virtual background video u</td>\n",
       "      <td>background virtual background video u</td>\n",
       "      <td>0</td>\n",
       "    </tr>\n",
       "    <tr>\n",
       "      <th>13055</th>\n",
       "      <td>13055</td>\n",
       "      <td>0.130507</td>\n",
       "      <td>0.869493</td>\n",
       "      <td>2020-09-15 03:28:00</td>\n",
       "      <td>Please help. Camera hidden when I share screen...</td>\n",
       "      <td>[removed]</td>\n",
       "      <td>1.0</td>\n",
       "      <td>1.0</td>\n",
       "      <td>1.0</td>\n",
       "      <td>0.0</td>\n",
       "      <td>/r/MicrosoftTeams/comments/iss1zs/please_help_...</td>\n",
       "      <td>GratefulParadox</td>\n",
       "      <td>please help camera hidden when i share screen ...</td>\n",
       "      <td>removed</td>\n",
       "      <td>please help camera hidden when i share screen ...</td>\n",
       "      <td>help camera hidden share screen participant bored</td>\n",
       "      <td>removed</td>\n",
       "      <td>help camera hidden share screen participant bo...</td>\n",
       "      <td>0</td>\n",
       "    </tr>\n",
       "    <tr>\n",
       "      <th>13867</th>\n",
       "      <td>13867</td>\n",
       "      <td>0.070823</td>\n",
       "      <td>0.929177</td>\n",
       "      <td>2020-10-27 15:42:54</td>\n",
       "      <td>аааааааааа</td>\n",
       "      <td>[removed]</td>\n",
       "      <td>1.0</td>\n",
       "      <td>1.0</td>\n",
       "      <td>1.0</td>\n",
       "      <td>0.0</td>\n",
       "      <td>/r/MicrosoftTeams/comments/jiwuw4/аааааааааа/</td>\n",
       "      <td>Jam00714</td>\n",
       "      <td></td>\n",
       "      <td>removed</td>\n",
       "      <td>removed</td>\n",
       "      <td></td>\n",
       "      <td>removed</td>\n",
       "      <td>removed</td>\n",
       "      <td>0</td>\n",
       "    </tr>\n",
       "    <tr>\n",
       "      <th>13921</th>\n",
       "      <td>13921</td>\n",
       "      <td>0.070823</td>\n",
       "      <td>0.929177</td>\n",
       "      <td>2020-10-29 15:11:19</td>\n",
       "      <td>Lista uczestników</td>\n",
       "      <td>[removed]</td>\n",
       "      <td>1.0</td>\n",
       "      <td>1.0</td>\n",
       "      <td>1.0</td>\n",
       "      <td>0.0</td>\n",
       "      <td>/r/MicrosoftTeams/comments/jk5hpu/lista_uczest...</td>\n",
       "      <td>Gryby64</td>\n",
       "      <td>lista uczestnikw</td>\n",
       "      <td>removed</td>\n",
       "      <td>lista uczestnikw removed</td>\n",
       "      <td>lista uczestnikw</td>\n",
       "      <td>removed</td>\n",
       "      <td>lista uczestnikw removed</td>\n",
       "      <td>0</td>\n",
       "    </tr>\n",
       "    <tr>\n",
       "      <th>14049</th>\n",
       "      <td>14049</td>\n",
       "      <td>0.070823</td>\n",
       "      <td>0.929177</td>\n",
       "      <td>2020-11-07 11:51:59</td>\n",
       "      <td>lizzy</td>\n",
       "      <td>[removed]</td>\n",
       "      <td>1.0</td>\n",
       "      <td>1.0</td>\n",
       "      <td>1.0</td>\n",
       "      <td>2.0</td>\n",
       "      <td>/r/MicrosoftTeams/comments/jpjzg8/lizzy/</td>\n",
       "      <td>Substantial-Use-4150</td>\n",
       "      <td>lizzy</td>\n",
       "      <td>removed</td>\n",
       "      <td>lizzy removed</td>\n",
       "      <td>lizzy</td>\n",
       "      <td>removed</td>\n",
       "      <td>lizzy removed</td>\n",
       "      <td>0</td>\n",
       "    </tr>\n",
       "    <tr>\n",
       "      <th>14053</th>\n",
       "      <td>14053</td>\n",
       "      <td>0.048789</td>\n",
       "      <td>0.951211</td>\n",
       "      <td>2020-11-08 18:06:44</td>\n",
       "      <td>Can the host see when you pin someone?</td>\n",
       "      <td></td>\n",
       "      <td>1.0</td>\n",
       "      <td>1.0</td>\n",
       "      <td>1.0</td>\n",
       "      <td>4.0</td>\n",
       "      <td>/r/MicrosoftTeams/comments/jq9dhh/can_the_host...</td>\n",
       "      <td>leocinamon</td>\n",
       "      <td>can the host see when you pin someone</td>\n",
       "      <td></td>\n",
       "      <td>can the host see when you pin someone</td>\n",
       "      <td>host pin</td>\n",
       "      <td></td>\n",
       "      <td>host pin</td>\n",
       "      <td>0</td>\n",
       "    </tr>\n",
       "    <tr>\n",
       "      <th>14501</th>\n",
       "      <td>14501</td>\n",
       "      <td>0.057557</td>\n",
       "      <td>0.942443</td>\n",
       "      <td>2020-11-25 14:25:47</td>\n",
       "      <td>Mute Function</td>\n",
       "      <td>Is there a way on computer(mac) to temporarily...</td>\n",
       "      <td>1.0</td>\n",
       "      <td>1.0</td>\n",
       "      <td>1.0</td>\n",
       "      <td>3.0</td>\n",
       "      <td>/r/MicrosoftTeams/comments/k0mrlx/mute_function/</td>\n",
       "      <td>SurreptitiousFish</td>\n",
       "      <td>mute function</td>\n",
       "      <td>is there a way on computermac to temporarily u...</td>\n",
       "      <td>mute function is there a way on computermac to...</td>\n",
       "      <td>mute function</td>\n",
       "      <td>way computermac temporarily unmute like spaceb...</td>\n",
       "      <td>mute function way computermac temporarily unmu...</td>\n",
       "      <td>0</td>\n",
       "    </tr>\n",
       "    <tr>\n",
       "      <th>14505</th>\n",
       "      <td>14505</td>\n",
       "      <td>0.070823</td>\n",
       "      <td>0.929177</td>\n",
       "      <td>2020-11-25 17:32:08</td>\n",
       "      <td>Nachricht \"Entwurf\" in Teams-Chat bearbeiten</td>\n",
       "      <td>[removed]</td>\n",
       "      <td>1.0</td>\n",
       "      <td>1.0</td>\n",
       "      <td>1.0</td>\n",
       "      <td>0.0</td>\n",
       "      <td>/r/MicrosoftTeams/comments/k0p3wx/nachricht_en...</td>\n",
       "      <td>Eljoti</td>\n",
       "      <td>nachricht entwurf in teamschat bearbeiten</td>\n",
       "      <td>removed</td>\n",
       "      <td>nachricht entwurf in teamschat bearbeiten removed</td>\n",
       "      <td>nachricht entwurf teamschat bearbeiten</td>\n",
       "      <td>removed</td>\n",
       "      <td>nachricht entwurf teamschat bearbeiten removed</td>\n",
       "      <td>0</td>\n",
       "    </tr>\n",
       "    <tr>\n",
       "      <th>14675</th>\n",
       "      <td>14675</td>\n",
       "      <td>0.056204</td>\n",
       "      <td>0.943796</td>\n",
       "      <td>2020-12-03 03:16:23</td>\n",
       "      <td>I hate zoom</td>\n",
       "      <td>I have teams on pc, and i fucking hate zoom, w...</td>\n",
       "      <td>1.0</td>\n",
       "      <td>1.0</td>\n",
       "      <td>1.0</td>\n",
       "      <td>3.0</td>\n",
       "      <td>/r/MicrosoftTeams/comments/k5g3bn/i_hate_zoom/</td>\n",
       "      <td>frits063</td>\n",
       "      <td>i hate zoom</td>\n",
       "      <td>i have teams on pc and i fucking hate zoom why...</td>\n",
       "      <td>i hate zoom i have teams on pc and i fucking h...</td>\n",
       "      <td>hate zoom</td>\n",
       "      <td>team pc fucking hate zoom trying zoom pdf mous...</td>\n",
       "      <td>hate zoom team pc fucking hate zoom trying zoo...</td>\n",
       "      <td>0</td>\n",
       "    </tr>\n",
       "    <tr>\n",
       "      <th>15169</th>\n",
       "      <td>15169</td>\n",
       "      <td>0.127752</td>\n",
       "      <td>0.872248</td>\n",
       "      <td>2020-12-29 01:15:19</td>\n",
       "      <td>Zoom in on people</td>\n",
       "      <td>How do I know if are people zooming in my came...</td>\n",
       "      <td>1.0</td>\n",
       "      <td>1.0</td>\n",
       "      <td>1.0</td>\n",
       "      <td>1.0</td>\n",
       "      <td>/r/MicrosoftTeams/comments/kluh41/zoom_in_on_p...</td>\n",
       "      <td>xRhylinx</td>\n",
       "      <td>zoom in on people</td>\n",
       "      <td>how do i know if are people zooming in my came...</td>\n",
       "      <td>zoom in on people how do i know if are people ...</td>\n",
       "      <td>zoom people</td>\n",
       "      <td>know people zooming camera box</td>\n",
       "      <td>zoom people know people zooming camera box</td>\n",
       "      <td>0</td>\n",
       "    </tr>\n",
       "    <tr>\n",
       "      <th>15286</th>\n",
       "      <td>15286</td>\n",
       "      <td>0.149004</td>\n",
       "      <td>0.850996</td>\n",
       "      <td>2021-01-06 18:02:12</td>\n",
       "      <td>Audio</td>\n",
       "      <td>[removed]</td>\n",
       "      <td>1.0</td>\n",
       "      <td>1.0</td>\n",
       "      <td>1.0</td>\n",
       "      <td>0.0</td>\n",
       "      <td>/r/MicrosoftTeams/comments/krkzkk/audio/</td>\n",
       "      <td>vulpus-95</td>\n",
       "      <td>audio</td>\n",
       "      <td>removed</td>\n",
       "      <td>audio removed</td>\n",
       "      <td>audio</td>\n",
       "      <td>removed</td>\n",
       "      <td>audio removed</td>\n",
       "      <td>0</td>\n",
       "    </tr>\n",
       "    <tr>\n",
       "      <th>15495</th>\n",
       "      <td>15495</td>\n",
       "      <td>0.143168</td>\n",
       "      <td>0.856832</td>\n",
       "      <td>2021-01-13 22:51:09</td>\n",
       "      <td>Join my call!</td>\n",
       "      <td>[removed]</td>\n",
       "      <td>1.0</td>\n",
       "      <td>1.0</td>\n",
       "      <td>1.0</td>\n",
       "      <td>0.0</td>\n",
       "      <td>/r/MicrosoftTeams/comments/kwhw62/join_my_call/</td>\n",
       "      <td>LordAngelius2004</td>\n",
       "      <td>join my call</td>\n",
       "      <td>removed</td>\n",
       "      <td>join my call removed</td>\n",
       "      <td>join</td>\n",
       "      <td>removed</td>\n",
       "      <td>join removed</td>\n",
       "      <td>0</td>\n",
       "    </tr>\n",
       "    <tr>\n",
       "      <th>16016</th>\n",
       "      <td>16016</td>\n",
       "      <td>0.070823</td>\n",
       "      <td>0.929177</td>\n",
       "      <td>2021-02-03 01:31:41</td>\n",
       "      <td>A7</td>\n",
       "      <td>[removed]</td>\n",
       "      <td>1.0</td>\n",
       "      <td>1.0</td>\n",
       "      <td>1.0</td>\n",
       "      <td>0.0</td>\n",
       "      <td>/r/MicrosoftTeams/comments/lb1ade/a7/</td>\n",
       "      <td>Smooth_Ad_3458</td>\n",
       "      <td>a</td>\n",
       "      <td>removed</td>\n",
       "      <td>a removed</td>\n",
       "      <td></td>\n",
       "      <td>removed</td>\n",
       "      <td>removed</td>\n",
       "      <td>0</td>\n",
       "    </tr>\n",
       "    <tr>\n",
       "      <th>16157</th>\n",
       "      <td>16157</td>\n",
       "      <td>0.099805</td>\n",
       "      <td>0.900195</td>\n",
       "      <td>2021-02-10 15:45:14</td>\n",
       "      <td>Ali-A is in my class</td>\n",
       "      <td></td>\n",
       "      <td>0.0</td>\n",
       "      <td>0.0</td>\n",
       "      <td>0.2</td>\n",
       "      <td>16.0</td>\n",
       "      <td>/r/MicrosoftTeams/comments/lgorer/alia_is_in_m...</td>\n",
       "      <td>mo7y3ayya6</td>\n",
       "      <td>alia is in my class</td>\n",
       "      <td></td>\n",
       "      <td>alia is in my class</td>\n",
       "      <td>alia class</td>\n",
       "      <td></td>\n",
       "      <td>alia class</td>\n",
       "      <td>0</td>\n",
       "    </tr>\n",
       "    <tr>\n",
       "      <th>16208</th>\n",
       "      <td>16208</td>\n",
       "      <td>0.070823</td>\n",
       "      <td>0.929177</td>\n",
       "      <td>2021-02-11 19:55:43</td>\n",
       "      <td>c</td>\n",
       "      <td>[removed]</td>\n",
       "      <td>1.0</td>\n",
       "      <td>1.0</td>\n",
       "      <td>1.0</td>\n",
       "      <td>1.0</td>\n",
       "      <td>/r/MicrosoftTeams/comments/lhj7dp/c/</td>\n",
       "      <td>DeveshSrinivas</td>\n",
       "      <td>c</td>\n",
       "      <td>removed</td>\n",
       "      <td>c removed</td>\n",
       "      <td>c</td>\n",
       "      <td>removed</td>\n",
       "      <td>c removed</td>\n",
       "      <td>0</td>\n",
       "    </tr>\n",
       "    <tr>\n",
       "      <th>16846</th>\n",
       "      <td>16846</td>\n",
       "      <td>0.089346</td>\n",
       "      <td>0.910654</td>\n",
       "      <td>2021-03-14 16:01:59</td>\n",
       "      <td>i class</td>\n",
       "      <td>[removed]</td>\n",
       "      <td>1.0</td>\n",
       "      <td>1.0</td>\n",
       "      <td>1.0</td>\n",
       "      <td>0.0</td>\n",
       "      <td>/r/MicrosoftTeams/comments/m4r01c/i_class/</td>\n",
       "      <td>VENCR</td>\n",
       "      <td>i class</td>\n",
       "      <td>removed</td>\n",
       "      <td>i class removed</td>\n",
       "      <td>class</td>\n",
       "      <td>removed</td>\n",
       "      <td>class removed</td>\n",
       "      <td>0</td>\n",
       "    </tr>\n",
       "    <tr>\n",
       "      <th>16905</th>\n",
       "      <td>16905</td>\n",
       "      <td>0.108490</td>\n",
       "      <td>0.891510</td>\n",
       "      <td>2021-03-16 19:08:32</td>\n",
       "      <td>Come here</td>\n",
       "      <td>[removed]</td>\n",
       "      <td>1.0</td>\n",
       "      <td>1.0</td>\n",
       "      <td>1.0</td>\n",
       "      <td>0.0</td>\n",
       "      <td>/r/MicrosoftTeams/comments/m66lk4/come_here/</td>\n",
       "      <td>Ropezz10</td>\n",
       "      <td>come here</td>\n",
       "      <td>removed</td>\n",
       "      <td>come here removed</td>\n",
       "      <td>come</td>\n",
       "      <td>removed</td>\n",
       "      <td>come removed</td>\n",
       "      <td>0</td>\n",
       "    </tr>\n",
       "  </tbody>\n",
       "</table>\n",
       "</div>"
      ],
      "text/plain": [
       "       New_ID      team      zoom                 date  \\\n",
       "11337   11337  0.070823  0.929177  2020-05-29 21:53:32   \n",
       "11692   11692  0.143168  0.856832  2020-06-19 12:26:37   \n",
       "12009   12009  0.020413  0.979587  2020-07-13 00:50:31   \n",
       "12721   12721  0.137337  0.862663  2020-08-27 14:56:37   \n",
       "12822   12822  0.088904  0.911096  2020-09-02 16:31:52   \n",
       "13024   13024  0.118802  0.881198  2020-09-12 06:03:21   \n",
       "13055   13055  0.130507  0.869493  2020-09-15 03:28:00   \n",
       "13867   13867  0.070823  0.929177  2020-10-27 15:42:54   \n",
       "13921   13921  0.070823  0.929177  2020-10-29 15:11:19   \n",
       "14049   14049  0.070823  0.929177  2020-11-07 11:51:59   \n",
       "14053   14053  0.048789  0.951211  2020-11-08 18:06:44   \n",
       "14501   14501  0.057557  0.942443  2020-11-25 14:25:47   \n",
       "14505   14505  0.070823  0.929177  2020-11-25 17:32:08   \n",
       "14675   14675  0.056204  0.943796  2020-12-03 03:16:23   \n",
       "15169   15169  0.127752  0.872248  2020-12-29 01:15:19   \n",
       "15286   15286  0.149004  0.850996  2021-01-06 18:02:12   \n",
       "15495   15495  0.143168  0.856832  2021-01-13 22:51:09   \n",
       "16016   16016  0.070823  0.929177  2021-02-03 01:31:41   \n",
       "16157   16157  0.099805  0.900195  2021-02-10 15:45:14   \n",
       "16208   16208  0.070823  0.929177  2021-02-11 19:55:43   \n",
       "16846   16846  0.089346  0.910654  2021-03-14 16:01:59   \n",
       "16905   16905  0.108490  0.891510  2021-03-16 19:08:32   \n",
       "\n",
       "                                                   title  \\\n",
       "11337                                 Brazil is the same   \n",
       "11692                                               join   \n",
       "12009                                       Zoom Webhook   \n",
       "12721  Is the teacher able to see what’s happening in...   \n",
       "12822         Zoom should apply to content, not the GUI!   \n",
       "13024                                         Background   \n",
       "13055  Please help. Camera hidden when I share screen...   \n",
       "13867                                         аааааааааа   \n",
       "13921                                  Lista uczestników   \n",
       "14049                                              lizzy   \n",
       "14053             Can the host see when you pin someone?   \n",
       "14501                                      Mute Function   \n",
       "14505       Nachricht \"Entwurf\" in Teams-Chat bearbeiten   \n",
       "14675                                        I hate zoom   \n",
       "15169                                  Zoom in on people   \n",
       "15286                                              Audio   \n",
       "15495                                      Join my call!   \n",
       "16016                                                 A7   \n",
       "16157                               Ali-A is in my class   \n",
       "16208                                                  c   \n",
       "16846                                            i class   \n",
       "16905                                          Come here   \n",
       "\n",
       "                                                selftext  is_self  upvotes  \\\n",
       "11337                                          [removed]      1.0      1.0   \n",
       "11692                                          [removed]      1.0      1.0   \n",
       "12009                                                         0.0      1.0   \n",
       "12721                                                         1.0      1.0   \n",
       "12822                                                         0.0      1.0   \n",
       "13024  Can you put a virtual background in a video ca...      1.0      1.0   \n",
       "13055                                          [removed]      1.0      1.0   \n",
       "13867                                          [removed]      1.0      1.0   \n",
       "13921                                          [removed]      1.0      1.0   \n",
       "14049                                          [removed]      1.0      1.0   \n",
       "14053                                                         1.0      1.0   \n",
       "14501  Is there a way on computer(mac) to temporarily...      1.0      1.0   \n",
       "14505                                          [removed]      1.0      1.0   \n",
       "14675  I have teams on pc, and i fucking hate zoom, w...      1.0      1.0   \n",
       "15169  How do I know if are people zooming in my came...      1.0      1.0   \n",
       "15286                                          [removed]      1.0      1.0   \n",
       "15495                                          [removed]      1.0      1.0   \n",
       "16016                                          [removed]      1.0      1.0   \n",
       "16157                                                         0.0      0.0   \n",
       "16208                                          [removed]      1.0      1.0   \n",
       "16846                                          [removed]      1.0      1.0   \n",
       "16905                                          [removed]      1.0      1.0   \n",
       "\n",
       "       upvote_ratio  n_comments  \\\n",
       "11337           1.0         0.0   \n",
       "11692           1.0         0.0   \n",
       "12009           1.0         1.0   \n",
       "12721           1.0         4.0   \n",
       "12822           1.0        27.0   \n",
       "13024           1.0         1.0   \n",
       "13055           1.0         0.0   \n",
       "13867           1.0         0.0   \n",
       "13921           1.0         0.0   \n",
       "14049           1.0         2.0   \n",
       "14053           1.0         4.0   \n",
       "14501           1.0         3.0   \n",
       "14505           1.0         0.0   \n",
       "14675           1.0         3.0   \n",
       "15169           1.0         1.0   \n",
       "15286           1.0         0.0   \n",
       "15495           1.0         0.0   \n",
       "16016           1.0         0.0   \n",
       "16157           0.2        16.0   \n",
       "16208           1.0         1.0   \n",
       "16846           1.0         0.0   \n",
       "16905           1.0         0.0   \n",
       "\n",
       "                                               permalink  \\\n",
       "11337  /r/MicrosoftTeams/comments/gsteq6/brazil_is_th...   \n",
       "11692            /r/MicrosoftTeams/comments/hbu1lh/join/   \n",
       "12009    /r/MicrosoftTeams/comments/hpxkmu/zoom_webhook/   \n",
       "12721  /r/MicrosoftTeams/comments/ihgbej/is_the_teach...   \n",
       "12822  /r/MicrosoftTeams/comments/il30rb/zoom_should_...   \n",
       "13024      /r/MicrosoftTeams/comments/ir0b51/background/   \n",
       "13055  /r/MicrosoftTeams/comments/iss1zs/please_help_...   \n",
       "13867      /r/MicrosoftTeams/comments/jiwuw4/аааааааааа/   \n",
       "13921  /r/MicrosoftTeams/comments/jk5hpu/lista_uczest...   \n",
       "14049           /r/MicrosoftTeams/comments/jpjzg8/lizzy/   \n",
       "14053  /r/MicrosoftTeams/comments/jq9dhh/can_the_host...   \n",
       "14501   /r/MicrosoftTeams/comments/k0mrlx/mute_function/   \n",
       "14505  /r/MicrosoftTeams/comments/k0p3wx/nachricht_en...   \n",
       "14675     /r/MicrosoftTeams/comments/k5g3bn/i_hate_zoom/   \n",
       "15169  /r/MicrosoftTeams/comments/kluh41/zoom_in_on_p...   \n",
       "15286           /r/MicrosoftTeams/comments/krkzkk/audio/   \n",
       "15495    /r/MicrosoftTeams/comments/kwhw62/join_my_call/   \n",
       "16016              /r/MicrosoftTeams/comments/lb1ade/a7/   \n",
       "16157  /r/MicrosoftTeams/comments/lgorer/alia_is_in_m...   \n",
       "16208               /r/MicrosoftTeams/comments/lhj7dp/c/   \n",
       "16846         /r/MicrosoftTeams/comments/m4r01c/i_class/   \n",
       "16905       /r/MicrosoftTeams/comments/m66lk4/come_here/   \n",
       "\n",
       "                     author  \\\n",
       "11337              ThenBit6   \n",
       "11692       Wonderful-Ad696   \n",
       "12009            risurina03   \n",
       "12721     therottentomatoes   \n",
       "12822              Ysundere   \n",
       "13024             teapot555   \n",
       "13055       GratefulParadox   \n",
       "13867              Jam00714   \n",
       "13921               Gryby64   \n",
       "14049  Substantial-Use-4150   \n",
       "14053            leocinamon   \n",
       "14501     SurreptitiousFish   \n",
       "14505                Eljoti   \n",
       "14675              frits063   \n",
       "15169              xRhylinx   \n",
       "15286             vulpus-95   \n",
       "15495      LordAngelius2004   \n",
       "16016        Smooth_Ad_3458   \n",
       "16157            mo7y3ayya6   \n",
       "16208        DeveshSrinivas   \n",
       "16846                 VENCR   \n",
       "16905              Ropezz10   \n",
       "\n",
       "                                             title_clean  \\\n",
       "11337                                 brazil is the same   \n",
       "11692                                               join   \n",
       "12009                                       zoom webhook   \n",
       "12721  is the teacher able to see whats happening in ...   \n",
       "12822           zoom should apply to content not the gui   \n",
       "13024                                         background   \n",
       "13055  please help camera hidden when i share screen ...   \n",
       "13867                                                      \n",
       "13921                                   lista uczestnikw   \n",
       "14049                                              lizzy   \n",
       "14053              can the host see when you pin someone   \n",
       "14501                                      mute function   \n",
       "14505          nachricht entwurf in teamschat bearbeiten   \n",
       "14675                                        i hate zoom   \n",
       "15169                                  zoom in on people   \n",
       "15286                                              audio   \n",
       "15495                                       join my call   \n",
       "16016                                                  a   \n",
       "16157                                alia is in my class   \n",
       "16208                                                  c   \n",
       "16846                                            i class   \n",
       "16905                                          come here   \n",
       "\n",
       "                                          selftext_clean  \\\n",
       "11337                                            removed   \n",
       "11692                                            removed   \n",
       "12009                                                      \n",
       "12721                                                      \n",
       "12822                                                      \n",
       "13024  can you put a virtual background in a video ca...   \n",
       "13055                                            removed   \n",
       "13867                                            removed   \n",
       "13921                                            removed   \n",
       "14049                                            removed   \n",
       "14053                                                      \n",
       "14501  is there a way on computermac to temporarily u...   \n",
       "14505                                            removed   \n",
       "14675  i have teams on pc and i fucking hate zoom why...   \n",
       "15169  how do i know if are people zooming in my came...   \n",
       "15286                                            removed   \n",
       "15495                                            removed   \n",
       "16016                                            removed   \n",
       "16157                                                      \n",
       "16208                                            removed   \n",
       "16846                                            removed   \n",
       "16905                                            removed   \n",
       "\n",
       "                                          title_selftext  \\\n",
       "11337                         brazil is the same removed   \n",
       "11692                                       join removed   \n",
       "12009                                      zoom webhook    \n",
       "12721  is the teacher able to see whats happening in ...   \n",
       "12822          zoom should apply to content not the gui    \n",
       "13024  background can you put a virtual background in...   \n",
       "13055  please help camera hidden when i share screen ...   \n",
       "13867                                            removed   \n",
       "13921                           lista uczestnikw removed   \n",
       "14049                                      lizzy removed   \n",
       "14053             can the host see when you pin someone    \n",
       "14501  mute function is there a way on computermac to...   \n",
       "14505  nachricht entwurf in teamschat bearbeiten removed   \n",
       "14675  i hate zoom i have teams on pc and i fucking h...   \n",
       "15169  zoom in on people how do i know if are people ...   \n",
       "15286                                      audio removed   \n",
       "15495                               join my call removed   \n",
       "16016                                          a removed   \n",
       "16157                               alia is in my class    \n",
       "16208                                          c removed   \n",
       "16846                                    i class removed   \n",
       "16905                                  come here removed   \n",
       "\n",
       "                                               lem_title  \\\n",
       "11337                                             brazil   \n",
       "11692                                               join   \n",
       "12009                                       zoom webhook   \n",
       "12721  teacher able whats happening breakout room rec...   \n",
       "12822                             zoom apply content gui   \n",
       "13024                                         background   \n",
       "13055  help camera hidden share screen participant bored   \n",
       "13867                                                      \n",
       "13921                                   lista uczestnikw   \n",
       "14049                                              lizzy   \n",
       "14053                                           host pin   \n",
       "14501                                      mute function   \n",
       "14505             nachricht entwurf teamschat bearbeiten   \n",
       "14675                                          hate zoom   \n",
       "15169                                        zoom people   \n",
       "15286                                              audio   \n",
       "15495                                               join   \n",
       "16016                                                      \n",
       "16157                                         alia class   \n",
       "16208                                                  c   \n",
       "16846                                              class   \n",
       "16905                                               come   \n",
       "\n",
       "                                            lem_selftext  \\\n",
       "11337                                            removed   \n",
       "11692                                            removed   \n",
       "12009                                                      \n",
       "12721                                                      \n",
       "12822                                                      \n",
       "13024                         virtual background video u   \n",
       "13055                                            removed   \n",
       "13867                                            removed   \n",
       "13921                                            removed   \n",
       "14049                                            removed   \n",
       "14053                                                      \n",
       "14501  way computermac temporarily unmute like spaceb...   \n",
       "14505                                            removed   \n",
       "14675  team pc fucking hate zoom trying zoom pdf mous...   \n",
       "15169                     know people zooming camera box   \n",
       "15286                                            removed   \n",
       "15495                                            removed   \n",
       "16016                                            removed   \n",
       "16157                                                      \n",
       "16208                                            removed   \n",
       "16846                                            removed   \n",
       "16905                                            removed   \n",
       "\n",
       "                                      lem_title_selftext  is_zoom  \n",
       "11337                                     brazil removed        0  \n",
       "11692                                       join removed        0  \n",
       "12009                                      zoom webhook         0  \n",
       "12721  teacher able whats happening breakout room rec...        0  \n",
       "12822                            zoom apply content gui         0  \n",
       "13024              background virtual background video u        0  \n",
       "13055  help camera hidden share screen participant bo...        0  \n",
       "13867                                            removed        0  \n",
       "13921                           lista uczestnikw removed        0  \n",
       "14049                                      lizzy removed        0  \n",
       "14053                                          host pin         0  \n",
       "14501  mute function way computermac temporarily unmu...        0  \n",
       "14505     nachricht entwurf teamschat bearbeiten removed        0  \n",
       "14675  hate zoom team pc fucking hate zoom trying zoo...        0  \n",
       "15169         zoom people know people zooming camera box        0  \n",
       "15286                                      audio removed        0  \n",
       "15495                                       join removed        0  \n",
       "16016                                            removed        0  \n",
       "16157                                        alia class         0  \n",
       "16208                                          c removed        0  \n",
       "16846                                      class removed        0  \n",
       "16905                                       come removed        0  "
      ]
     },
     "execution_count": 223,
     "metadata": {},
     "output_type": "execute_result"
    }
   ],
   "source": [
    "merge_df[(merge_df['zoom'] > 0.85) & (merge_df['is_zoom'] == 0)]"
   ]
  },
  {
   "cell_type": "code",
   "execution_count": 231,
   "id": "fa3edbb1",
   "metadata": {},
   "outputs": [],
   "source": [
    "def print_post(string, post):\n",
    "    try:\n",
    "        if string.lower() in post.lower():\n",
    "            print(post)\n",
    "    except AttributeError:\n",
    "        pass"
   ]
  },
  {
   "cell_type": "markdown",
   "id": "4dd76eaf",
   "metadata": {},
   "source": [
    "Picking one of them randomly to analyze:"
   ]
  },
  {
   "cell_type": "code",
   "execution_count": 232,
   "id": "7646429b",
   "metadata": {},
   "outputs": [
    {
     "name": "stdout",
     "output_type": "stream",
     "text": [
      "i hate zoom god i hate this ducking thing i already have had it with my stupid teachers and classmates im fucking done ive legit havent attended a class in a week i dont know whats wrong with me legit everyone ik loves it and i just cant fucking do it were in a global pandemic and im more worried about fucking graduating\n",
      "the mic turned on by itself and now my teacher hates me i have no idea how it happend but i wasnt paying attention my mom asked me if i was done with classes for today me being me said only one more with this annoying asshat i then turned around and the mic icon was gray how you tell me my classmates got a kick out of it but now my teacher hates mein short i hate zoom now hope you also had fun reading about my horrible misserable mistake\n",
      "i hate zoom does anyone know how to fix the lagging problem and randomly shutting down it does say low bandwidth but we have mb upload and  download my laptop is about year old and i only use it for assignment and my zoom calls i save everything on external hard drive so doesnt get slow it doesnt but only with zoom  ever since my work moved on it to zoom just crap so any recommendations for it to work im open to it\n",
      "zoom alternative zoom has become the norm over this past year and a bandaid for our shift to virtual but it is not the right solution for all gatherings if youre zoomed out like the rest of us were here to say you can now say goodbye to zoom virtual venue is a zoom alternative to replace your generic meetings with your own customized video gatherings right in your website do you need a zoom account to use virtual venue the answer is no with mixily you can start hosting video connections without zoom   i cant find the link to the meeting can you resend the music playlist i hate zoom   how many times have you said or heard these recently   zoom is way more complicated than is needed for most meetings and events settings are buried the links are random and someone always cant figure out how to join last minute its clunky outdated and a pain generic zoom meetings are so  if youre looking to refresh your digital gatherings virtual venue could be just what youre looking for   amp  \n",
      "i hate zoom i have teams on pc and i fucking hate zoom why i trying to zoom in pdf with the mouse pad the whole menu is moving i hate it\n"
     ]
    }
   ],
   "source": [
    "for i in merge_df['title_selftext']:\n",
    "    print_post('i hate zoom', i)"
   ]
  },
  {
   "cell_type": "markdown",
   "id": "b98ef6a8",
   "metadata": {},
   "source": [
    "Here, it is not difficult to tell why the model predict wrongly as the subscriber was \"complaining\" about Zoom obviously in Team subreddit..."
   ]
  },
  {
   "cell_type": "code",
   "execution_count": 233,
   "id": "f047e4b2",
   "metadata": {},
   "outputs": [
    {
     "data": {
      "text/html": [
       "<div>\n",
       "<style scoped>\n",
       "    .dataframe tbody tr th:only-of-type {\n",
       "        vertical-align: middle;\n",
       "    }\n",
       "\n",
       "    .dataframe tbody tr th {\n",
       "        vertical-align: top;\n",
       "    }\n",
       "\n",
       "    .dataframe thead th {\n",
       "        text-align: right;\n",
       "    }\n",
       "</style>\n",
       "<table border=\"1\" class=\"dataframe\">\n",
       "  <thead>\n",
       "    <tr style=\"text-align: right;\">\n",
       "      <th></th>\n",
       "      <th>New_ID</th>\n",
       "      <th>team</th>\n",
       "      <th>zoom</th>\n",
       "      <th>date</th>\n",
       "      <th>title</th>\n",
       "      <th>selftext</th>\n",
       "      <th>is_self</th>\n",
       "      <th>upvotes</th>\n",
       "      <th>upvote_ratio</th>\n",
       "      <th>n_comments</th>\n",
       "      <th>permalink</th>\n",
       "      <th>author</th>\n",
       "      <th>title_clean</th>\n",
       "      <th>selftext_clean</th>\n",
       "      <th>title_selftext</th>\n",
       "      <th>lem_title</th>\n",
       "      <th>lem_selftext</th>\n",
       "      <th>lem_title_selftext</th>\n",
       "      <th>is_zoom</th>\n",
       "    </tr>\n",
       "  </thead>\n",
       "  <tbody>\n",
       "    <tr>\n",
       "      <th>1905</th>\n",
       "      <td>1905</td>\n",
       "      <td>0.978752</td>\n",
       "      <td>2.124819e-02</td>\n",
       "      <td>2020-05-08 06:04:05</td>\n",
       "      <td>Try these Microsoft Teams background images to...</td>\n",
       "      <td></td>\n",
       "      <td>0.0</td>\n",
       "      <td>1.0</td>\n",
       "      <td>1.0</td>\n",
       "      <td>0.0</td>\n",
       "      <td>/r/Zoom/comments/gfgabb/try_these_microsoft_te...</td>\n",
       "      <td>Alex_schoff</td>\n",
       "      <td>try these microsoft teams background images to...</td>\n",
       "      <td></td>\n",
       "      <td>try these microsoft teams background images to...</td>\n",
       "      <td>try microsoft team background image brighten v...</td>\n",
       "      <td></td>\n",
       "      <td>try microsoft team background image brighten v...</td>\n",
       "      <td>1</td>\n",
       "    </tr>\n",
       "    <tr>\n",
       "      <th>2570</th>\n",
       "      <td>2570</td>\n",
       "      <td>0.957052</td>\n",
       "      <td>4.294798e-02</td>\n",
       "      <td>2020-05-28 05:24:08</td>\n",
       "      <td>Zoom 40 minute limit</td>\n",
       "      <td>Is it possible to get the limit removed and if...</td>\n",
       "      <td>1.0</td>\n",
       "      <td>1.0</td>\n",
       "      <td>1.0</td>\n",
       "      <td>2.0</td>\n",
       "      <td>/r/Zoom/comments/grsoy7/zoom_40_minute_limit/</td>\n",
       "      <td>colorfulnina</td>\n",
       "      <td>zoom  minute limit</td>\n",
       "      <td>is it possible to get the limit removed and if...</td>\n",
       "      <td>zoom  minute limit is it possible to get the l...</td>\n",
       "      <td>zoom  minute limit</td>\n",
       "      <td>possible limit removed doe  cost microsoft tea...</td>\n",
       "      <td>zoom  minute limit possible limit removed doe ...</td>\n",
       "      <td>1</td>\n",
       "    </tr>\n",
       "    <tr>\n",
       "      <th>3344</th>\n",
       "      <td>3344</td>\n",
       "      <td>0.984336</td>\n",
       "      <td>1.566411e-02</td>\n",
       "      <td>2020-07-08 21:18:42</td>\n",
       "      <td>Peoplelogic—Mission Contol for Teams using you...</td>\n",
       "      <td></td>\n",
       "      <td>0.0</td>\n",
       "      <td>1.0</td>\n",
       "      <td>1.0</td>\n",
       "      <td>0.0</td>\n",
       "      <td>/r/Zoom/comments/hngwpo/peoplelogicmission_con...</td>\n",
       "      <td>PeoplelogicAI</td>\n",
       "      <td>peoplelogicmission contol for teams using your...</td>\n",
       "      <td></td>\n",
       "      <td>peoplelogicmission contol for teams using your...</td>\n",
       "      <td>peoplelogicmission contol team using team zoom...</td>\n",
       "      <td></td>\n",
       "      <td>peoplelogicmission contol team using team zoom...</td>\n",
       "      <td>1</td>\n",
       "    </tr>\n",
       "    <tr>\n",
       "      <th>5113</th>\n",
       "      <td>5113</td>\n",
       "      <td>0.998364</td>\n",
       "      <td>1.636301e-03</td>\n",
       "      <td>2020-09-17 18:05:23</td>\n",
       "      <td>come to my microsoftteam class</td>\n",
       "      <td>\\n\\n[https://teams.microsoft.com/dl/launcher/...</td>\n",
       "      <td>1.0</td>\n",
       "      <td>1.0</td>\n",
       "      <td>1.0</td>\n",
       "      <td>0.0</td>\n",
       "      <td>/r/Zoom/comments/iugk51/come_to_my_microsoftte...</td>\n",
       "      <td>Affectionate-Fix-579</td>\n",
       "      <td>come to my microsoftteam class</td>\n",
       "      <td>microsoft teams</td>\n",
       "      <td>come to my microsoftteam class   microsoft teams</td>\n",
       "      <td>come microsoftteam class</td>\n",
       "      <td>microsoft team</td>\n",
       "      <td>come microsoftteam class   microsoft team</td>\n",
       "      <td>1</td>\n",
       "    </tr>\n",
       "    <tr>\n",
       "      <th>7357</th>\n",
       "      <td>7357</td>\n",
       "      <td>0.983563</td>\n",
       "      <td>1.643711e-02</td>\n",
       "      <td>2020-12-01 15:44:49</td>\n",
       "      <td>https://teams.microsoft.com/dl/launcher/launch...</td>\n",
       "      <td>Join my teams meeting please. sorry it is in r...</td>\n",
       "      <td>1.0</td>\n",
       "      <td>1.0</td>\n",
       "      <td>1.0</td>\n",
       "      <td>1.0</td>\n",
       "      <td>/r/Zoom/comments/k4ggg5/httpsteamsmicrosoftcom...</td>\n",
       "      <td>Feeling_Tear</td>\n",
       "      <td>httpsteamsmicrosoftcomdllauncherlauncherhtmlur...</td>\n",
       "      <td>join my teams meeting please sorry it is in rzoom</td>\n",
       "      <td>httpsteamsmicrosoftcomdllauncherlauncherhtmlur...</td>\n",
       "      <td>httpsteamsmicrosoftcomdllauncherlauncherhtmlur...</td>\n",
       "      <td>join team meeting sorry rzoom</td>\n",
       "      <td>httpsteamsmicrosoftcomdllauncherlauncherhtmlur...</td>\n",
       "      <td>1</td>\n",
       "    </tr>\n",
       "    <tr>\n",
       "      <th>8259</th>\n",
       "      <td>8259</td>\n",
       "      <td>0.890944</td>\n",
       "      <td>1.090559e-01</td>\n",
       "      <td>2021-01-07 22:37:09</td>\n",
       "      <td>Breakout Rooms in education - what is the most...</td>\n",
       "      <td>As in the title. Some background: I am designi...</td>\n",
       "      <td>1.0</td>\n",
       "      <td>1.0</td>\n",
       "      <td>1.0</td>\n",
       "      <td>6.0</td>\n",
       "      <td>/r/Zoom/comments/kseh0t/breakout_rooms_in_educ...</td>\n",
       "      <td>100011101011</td>\n",
       "      <td>breakout rooms in education  what is the most ...</td>\n",
       "      <td>as in the title some background i am designing...</td>\n",
       "      <td>breakout rooms in education  what is the most ...</td>\n",
       "      <td>breakout room education  elegant way assigning...</td>\n",
       "      <td>title background designing seminar session tut...</td>\n",
       "      <td>breakout room education  elegant way assigning...</td>\n",
       "      <td>1</td>\n",
       "    </tr>\n",
       "    <tr>\n",
       "      <th>8572</th>\n",
       "      <td>8572</td>\n",
       "      <td>0.905157</td>\n",
       "      <td>9.484298e-02</td>\n",
       "      <td>2021-01-17 08:04:59</td>\n",
       "      <td>Creating a custom solution for remote teams</td>\n",
       "      <td>I decided to take a stab at creating a better ...</td>\n",
       "      <td>1.0</td>\n",
       "      <td>1.0</td>\n",
       "      <td>1.0</td>\n",
       "      <td>0.0</td>\n",
       "      <td>/r/Zoom/comments/kyure6/creating_a_custom_solu...</td>\n",
       "      <td>weekend_Creative</td>\n",
       "      <td>creating a custom solution for remote teams</td>\n",
       "      <td>i decided to take a stab at creating a better ...</td>\n",
       "      <td>creating a custom solution for remote teams i ...</td>\n",
       "      <td>creating custom solution remote team</td>\n",
       "      <td>decided stab creating better tool remote worke...</td>\n",
       "      <td>creating custom solution remote team decided s...</td>\n",
       "      <td>1</td>\n",
       "    </tr>\n",
       "    <tr>\n",
       "      <th>9252</th>\n",
       "      <td>9252</td>\n",
       "      <td>1.000000</td>\n",
       "      <td>1.107530e-08</td>\n",
       "      <td>2021-02-08 22:58:58</td>\n",
       "      <td>teams</td>\n",
       "      <td>[https://teams.microsoft.com/l/meetup-join/19%...</td>\n",
       "      <td>1.0</td>\n",
       "      <td>1.0</td>\n",
       "      <td>1.0</td>\n",
       "      <td>0.0</td>\n",
       "      <td>/r/Zoom/comments/lfdipt/teams/</td>\n",
       "      <td>No_District_7337</td>\n",
       "      <td>teams</td>\n",
       "      <td></td>\n",
       "      <td>teams</td>\n",
       "      <td>team</td>\n",
       "      <td></td>\n",
       "      <td>team</td>\n",
       "      <td>1</td>\n",
       "    </tr>\n",
       "    <tr>\n",
       "      <th>9607</th>\n",
       "      <td>9607</td>\n",
       "      <td>0.987354</td>\n",
       "      <td>1.264619e-02</td>\n",
       "      <td>2021-02-22 18:20:40</td>\n",
       "      <td>Bomb teams call</td>\n",
       "      <td></td>\n",
       "      <td>0.0</td>\n",
       "      <td>1.0</td>\n",
       "      <td>1.0</td>\n",
       "      <td>4.0</td>\n",
       "      <td>/r/Zoom/comments/lpkozu/bomb_teams_call/</td>\n",
       "      <td>Evening-Banana8606</td>\n",
       "      <td>bomb teams call</td>\n",
       "      <td></td>\n",
       "      <td>bomb teams call</td>\n",
       "      <td>bomb team</td>\n",
       "      <td></td>\n",
       "      <td>bomb team</td>\n",
       "      <td>1</td>\n",
       "    </tr>\n",
       "  </tbody>\n",
       "</table>\n",
       "</div>"
      ],
      "text/plain": [
       "      New_ID      team          zoom                 date  \\\n",
       "1905    1905  0.978752  2.124819e-02  2020-05-08 06:04:05   \n",
       "2570    2570  0.957052  4.294798e-02  2020-05-28 05:24:08   \n",
       "3344    3344  0.984336  1.566411e-02  2020-07-08 21:18:42   \n",
       "5113    5113  0.998364  1.636301e-03  2020-09-17 18:05:23   \n",
       "7357    7357  0.983563  1.643711e-02  2020-12-01 15:44:49   \n",
       "8259    8259  0.890944  1.090559e-01  2021-01-07 22:37:09   \n",
       "8572    8572  0.905157  9.484298e-02  2021-01-17 08:04:59   \n",
       "9252    9252  1.000000  1.107530e-08  2021-02-08 22:58:58   \n",
       "9607    9607  0.987354  1.264619e-02  2021-02-22 18:20:40   \n",
       "\n",
       "                                                  title  \\\n",
       "1905  Try these Microsoft Teams background images to...   \n",
       "2570                               Zoom 40 minute limit   \n",
       "3344  Peoplelogic—Mission Contol for Teams using you...   \n",
       "5113                     come to my microsoftteam class   \n",
       "7357  https://teams.microsoft.com/dl/launcher/launch...   \n",
       "8259  Breakout Rooms in education - what is the most...   \n",
       "8572        Creating a custom solution for remote teams   \n",
       "9252                                              teams   \n",
       "9607                                    Bomb teams call   \n",
       "\n",
       "                                               selftext  is_self  upvotes  \\\n",
       "1905                                                         0.0      1.0   \n",
       "2570  Is it possible to get the limit removed and if...      1.0      1.0   \n",
       "3344                                                         0.0      1.0   \n",
       "5113   \\n\\n[https://teams.microsoft.com/dl/launcher/...      1.0      1.0   \n",
       "7357  Join my teams meeting please. sorry it is in r...      1.0      1.0   \n",
       "8259  As in the title. Some background: I am designi...      1.0      1.0   \n",
       "8572  I decided to take a stab at creating a better ...      1.0      1.0   \n",
       "9252  [https://teams.microsoft.com/l/meetup-join/19%...      1.0      1.0   \n",
       "9607                                                         0.0      1.0   \n",
       "\n",
       "      upvote_ratio  n_comments  \\\n",
       "1905           1.0         0.0   \n",
       "2570           1.0         2.0   \n",
       "3344           1.0         0.0   \n",
       "5113           1.0         0.0   \n",
       "7357           1.0         1.0   \n",
       "8259           1.0         6.0   \n",
       "8572           1.0         0.0   \n",
       "9252           1.0         0.0   \n",
       "9607           1.0         4.0   \n",
       "\n",
       "                                              permalink                author  \\\n",
       "1905  /r/Zoom/comments/gfgabb/try_these_microsoft_te...           Alex_schoff   \n",
       "2570      /r/Zoom/comments/grsoy7/zoom_40_minute_limit/          colorfulnina   \n",
       "3344  /r/Zoom/comments/hngwpo/peoplelogicmission_con...         PeoplelogicAI   \n",
       "5113  /r/Zoom/comments/iugk51/come_to_my_microsoftte...  Affectionate-Fix-579   \n",
       "7357  /r/Zoom/comments/k4ggg5/httpsteamsmicrosoftcom...          Feeling_Tear   \n",
       "8259  /r/Zoom/comments/kseh0t/breakout_rooms_in_educ...          100011101011   \n",
       "8572  /r/Zoom/comments/kyure6/creating_a_custom_solu...      weekend_Creative   \n",
       "9252                     /r/Zoom/comments/lfdipt/teams/      No_District_7337   \n",
       "9607           /r/Zoom/comments/lpkozu/bomb_teams_call/    Evening-Banana8606   \n",
       "\n",
       "                                            title_clean  \\\n",
       "1905  try these microsoft teams background images to...   \n",
       "2570                                 zoom  minute limit   \n",
       "3344  peoplelogicmission contol for teams using your...   \n",
       "5113                     come to my microsoftteam class   \n",
       "7357  httpsteamsmicrosoftcomdllauncherlauncherhtmlur...   \n",
       "8259  breakout rooms in education  what is the most ...   \n",
       "8572        creating a custom solution for remote teams   \n",
       "9252                                              teams   \n",
       "9607                                    bomb teams call   \n",
       "\n",
       "                                         selftext_clean  \\\n",
       "1905                                                      \n",
       "2570  is it possible to get the limit removed and if...   \n",
       "3344                                                      \n",
       "5113                                    microsoft teams   \n",
       "7357  join my teams meeting please sorry it is in rzoom   \n",
       "8259  as in the title some background i am designing...   \n",
       "8572  i decided to take a stab at creating a better ...   \n",
       "9252                                                      \n",
       "9607                                                      \n",
       "\n",
       "                                         title_selftext  \\\n",
       "1905  try these microsoft teams background images to...   \n",
       "2570  zoom  minute limit is it possible to get the l...   \n",
       "3344  peoplelogicmission contol for teams using your...   \n",
       "5113   come to my microsoftteam class   microsoft teams   \n",
       "7357  httpsteamsmicrosoftcomdllauncherlauncherhtmlur...   \n",
       "8259  breakout rooms in education  what is the most ...   \n",
       "8572  creating a custom solution for remote teams i ...   \n",
       "9252                                             teams    \n",
       "9607                                   bomb teams call    \n",
       "\n",
       "                                              lem_title  \\\n",
       "1905  try microsoft team background image brighten v...   \n",
       "2570                                 zoom  minute limit   \n",
       "3344  peoplelogicmission contol team using team zoom...   \n",
       "5113                           come microsoftteam class   \n",
       "7357  httpsteamsmicrosoftcomdllauncherlauncherhtmlur...   \n",
       "8259  breakout room education  elegant way assigning...   \n",
       "8572               creating custom solution remote team   \n",
       "9252                                               team   \n",
       "9607                                          bomb team   \n",
       "\n",
       "                                           lem_selftext  \\\n",
       "1905                                                      \n",
       "2570  possible limit removed doe  cost microsoft tea...   \n",
       "3344                                                      \n",
       "5113                                     microsoft team   \n",
       "7357                      join team meeting sorry rzoom   \n",
       "8259  title background designing seminar session tut...   \n",
       "8572  decided stab creating better tool remote worke...   \n",
       "9252                                                      \n",
       "9607                                                      \n",
       "\n",
       "                                     lem_title_selftext  is_zoom  \n",
       "1905  try microsoft team background image brighten v...        1  \n",
       "2570  zoom  minute limit possible limit removed doe ...        1  \n",
       "3344  peoplelogicmission contol team using team zoom...        1  \n",
       "5113          come microsoftteam class   microsoft team        1  \n",
       "7357  httpsteamsmicrosoftcomdllauncherlauncherhtmlur...        1  \n",
       "8259  breakout room education  elegant way assigning...        1  \n",
       "8572  creating custom solution remote team decided s...        1  \n",
       "9252                                              team         1  \n",
       "9607                                         bomb team         1  "
      ]
     },
     "execution_count": 233,
     "metadata": {},
     "output_type": "execute_result"
    }
   ],
   "source": [
    "merge_df[(merge_df['team'] > 0.85) & (merge_df['is_zoom'] == 1)]"
   ]
  },
  {
   "cell_type": "code",
   "execution_count": 235,
   "id": "3877372e",
   "metadata": {},
   "outputs": [
    {
     "name": "stdout",
     "output_type": "stream",
     "text": [
      "creating a custom solution for remote teams i decided to take a stab at creating a better tool for us remote workers its called yuzuconnectcom  right now its free for all organizations to use we just want to get feedback and learn what teams need we based it off what my team was experiencing but we want to create the best solution to put teams in a position where they can thrive now and in the future regardless of a pandemic   we want to keep it simple and easy to use   the main features we have in development are   breakout rooms  customizable workspaces  lockable workspaces  what other issues are you guys facing  i know for some teams time zones indicators would be helpful\n"
     ]
    }
   ],
   "source": [
    "for i in merge_df['title_selftext']:\n",
    "    print_post('Creating a custom solution for remote teams', i)"
   ]
  },
  {
   "cell_type": "markdown",
   "id": "9ed1e932",
   "metadata": {},
   "source": [
    "Here, the model picks up the word \"teams\" (which is one of the most predictive feature in the previous section) although the content has a different meaning. This is highly contextual.  Probably need more sophisticated approach then this."
   ]
  },
  {
   "cell_type": "markdown",
   "id": "71ed4009",
   "metadata": {},
   "source": [
    "## Conclusion & Recommendation"
   ]
  },
  {
   "cell_type": "markdown",
   "id": "093545a5",
   "metadata": {},
   "source": [
    "In alignment with our problem statement, my team has done the relevant data analysis on both subreddit posting.  And these are some of the conclusion and follow up action which we can take based on the EDA analysis.\n",
    "\n",
    "1. From the initial analysis completed on reddit specific like volume, upvote and others, we concluded subreddit is a good platform which we can continue to data mine the content from both subreddit to derive useful actionable plan that benefits Zoom.\n",
    "- Although we have chosen a duration at the peak of the COVID pandemic, we would like to continue extracting information from the platform from 1st half of 2021 to 1st quarter of 2022 to better understand the needs of our user.  It is understandable that we may not do well at the beginning due to a large volume of organization switching on to Zoom from other competitors like Webex or Team, but would like to know how we have improved since March of 2021 to current date.\n",
    "2. From the outcome of the VADER sentiment analysis, though we were disappointed to find out that the content posted by the Team subreddit subscriber are generally more positive but there are few things we can follow up.\n",
    "- Here, we plan to filter out all zoom posting that scores a compound score of less than 0 and analyze in detail on the challenges or issues our user (assuming they are on subreddit) faced in general.  These outcome can eventually be feed into our product roadmap.\n",
    "3. With the ScatterText, we do some detail analysis on some keywords and how they influence the sentiment on both Zoom as well as Team.\n",
    "- For example, the keyword \"android\" is one of the top positive words used on Zoom subreddit and our user seems to be generally happy using the APP on android and we can continue leveraging on this strenght to see what we can further enhance as a product to do better.  Also, the keyword \"video\" seems to show more on the negative side of the sentiment and we can dive in further on posting that relates to it and understand better where we could improve on.\n",
    "\n",
    "From classification model perspective, there are quite a few things we can certainly research on to better improve the performance and relevancy of the prediction.\n",
    "\n",
    "1. Due to a lack of experiences working with Reddit Pushshift API, we could have omitted some useful information there which may potentially be good features that can be incorporated into our model to enhance the various metrics like AUC.  We did not include other data like upvotes and others since we do not find the information value to be high based on our analysis and hence we have chosen to simply work on the title and selftext column.\n",
    "\n",
    "2. For this project, we have only evaluate both Logistic Regression and Random Forest.  We will consider to expand the scope of evaluation to other more sophisticate algorithm like Ada Boosting, Deep Learning and others.  Although interpretability is a big consideration for us (as we need to explain to management), with some of the clever package like SHAP & eli5, this is a definite area that we would like to explore next in the hope to enhance the classification model further (although it the AUC is already very high).\n",
    "\n",
    "3. Due to a lack of sophistication, I have chosen only the more simpler model like CountVectorizer and TfidfVectorizer.  As we can see from the false positive analysis on both zoom and team related, it lacks a true understanding of the semantic meaning of words.  For example, the word \"teams\" is one of the most predictive feature in the model and without surprises, zoom related posting that contain such words were incorrectly classified.  In the last example above, the subscriber were referring to his \"working team\", and not Microsoft team per se. We will certainly try the latest algorithm like BERT transformer to see if it can resolve the above mentioned issue and hopeful brings down the false negative rate for the mentioned example.  "
   ]
  },
  {
   "cell_type": "markdown",
   "id": "81676df6",
   "metadata": {},
   "source": [
    "Useful References:\n",
    "\n",
    "https://medium.com/analytics-vidhya/visualizing-phrase-prominence-and-category-association-with-scattertext-and-pytextrank-f7a5f036d4d2\n",
    "\n",
    "https://www.geeksforgeeks.org/python-sentiment-analysis-using-vader/\n",
    "\n",
    "https://towardsdatascience.com/how-to-use-sklearn-pipelines-for-ridiculously-neat-code-a61ab66ca90d"
   ]
  },
  {
   "cell_type": "code",
   "execution_count": null,
   "id": "6e95ec9f",
   "metadata": {},
   "outputs": [],
   "source": []
  }
 ],
 "metadata": {
  "kernelspec": {
   "display_name": "Python 3",
   "language": "python",
   "name": "python3"
  },
  "language_info": {
   "codemirror_mode": {
    "name": "ipython",
    "version": 3
   },
   "file_extension": ".py",
   "mimetype": "text/x-python",
   "name": "python",
   "nbconvert_exporter": "python",
   "pygments_lexer": "ipython3",
   "version": "3.8.8"
  }
 },
 "nbformat": 4,
 "nbformat_minor": 5
}
